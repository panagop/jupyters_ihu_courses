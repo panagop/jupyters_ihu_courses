{
  "cells": [
    {
      "cell_type": "markdown",
      "source": [
        "# Ανάλυση Κατασκεύων σε Η/Υ - Άσκηση 3 (Μαρτ.2021)"
      ],
      "metadata": {},
      "id": "neither-vancouver"
    },
    {
      "cell_type": "code",
      "source": [
        "from tabulate import tabulate\n",
        "import numpy as np\n",
        "from IPython.display import display, Markdown"
      ],
      "outputs": [],
      "execution_count": 1,
      "metadata": {
        "execution": {
          "iopub.status.busy": "2021-03-30T16:21:05.259Z",
          "iopub.execute_input": "2021-03-30T16:21:05.270Z",
          "iopub.status.idle": "2021-03-30T16:21:05.369Z",
          "shell.execute_reply": "2021-03-30T16:21:05.593Z"
        }
      },
      "id": "1ae33c9b-91e5-4189-aae5-127076f38418"
    },
    {
      "cell_type": "markdown",
      "source": [
        "## Εισαγωγή αριθμού μητρώου φοιτητών\n",
        "\n",
        "Αντικαταστήστε τα ψηφία με αυτά του αριθμού μητρώου σας και τρέξτε το jupyter notebook.  \n",
        "Δε θα χρειαστεί να κάνετε κάποια άλλη αλλαγή ή κάποια εισαγωγή δεδομένων"
      ],
      "metadata": {},
      "id": "given-focus"
    },
    {
      "cell_type": "code",
      "source": [
        "κ, λ, μ, ν = 9, 8, 7, 6"
      ],
      "outputs": [],
      "execution_count": 2,
      "metadata": {
        "execution": {
          "iopub.status.busy": "2021-03-30T16:21:05.379Z",
          "iopub.execute_input": "2021-03-30T16:21:05.385Z",
          "iopub.status.idle": "2021-03-30T16:21:05.398Z",
          "shell.execute_reply": "2021-03-30T16:21:05.597Z"
        }
      },
      "id": "clinical-zealand"
    },
    {
      "cell_type": "code",
      "source": [
        "if ν==1 or ν==2:\n",
        "    scale = 1.1\n",
        "elif ν==3 or ν==4:\n",
        "    scale = 1.2\n",
        "elif ν==5 or ν==6:\n",
        "    scale = 1.3\n",
        "elif ν==7 or ν==8:\n",
        "    scale = 1.4\n",
        "elif ν==9 or ν==0:\n",
        "    scale = 1.5\n",
        "else:\n",
        "    print('Δώσατε λάθος αριθμό μητρώου')"
      ],
      "outputs": [],
      "execution_count": 3,
      "metadata": {
        "execution": {
          "iopub.status.busy": "2021-03-30T16:21:05.406Z",
          "iopub.execute_input": "2021-03-30T16:21:05.413Z",
          "iopub.status.idle": "2021-03-30T16:21:05.426Z",
          "shell.execute_reply": "2021-03-30T16:21:05.601Z"
        }
      },
      "id": "98e843a0-81c0-4df4-abf2-8b36bc0bbab1"
    },
    {
      "cell_type": "code",
      "source": [
        "data_names = ['Φορτίο G τυπικού ορόφου', 'Φορτίο G τελευταίου ορόφου kN/m', 'Φορτίο Q (όλοι οι όροφοι) kN/m',\n",
        "            'Σεισμική δύναμη 1ου ορόφου kN', 'Σεισμική δύναμη 2ου ορόφου kN', 'Σεισμική δύναμη 3ου ορόφου kN', 'Σεισμική δύναμη 4ου ορόφου kN']\n",
        "data_units = ['kN/m', 'kN/m', 'kN/m', 'kN', 'kN', 'kN', 'kN']\n",
        "data_ini = [19.5, 13.0, 5.5, 107.1, 214.21, 321.31, 308.8]\n",
        "data_student = [scale * di for di in data_ini]"
      ],
      "outputs": [],
      "execution_count": 4,
      "metadata": {
        "execution": {
          "iopub.status.busy": "2021-03-30T16:21:05.434Z",
          "iopub.execute_input": "2021-03-30T16:21:05.440Z",
          "iopub.status.idle": "2021-03-30T16:21:05.452Z",
          "shell.execute_reply": "2021-03-30T16:21:05.604Z"
        }
      },
      "id": "d19f9290-8abd-4829-a024-9e756c92c00b"
    },
    {
      "cell_type": "markdown",
      "source": [
        "## Δεδομένα"
      ],
      "metadata": {},
      "id": "asian-money"
    },
    {
      "cell_type": "code",
      "source": [
        "# for n, v, u in zip(data_names, data_student, data_units):\n",
        "#     print(f'{n}: {v:.2f}{u}')\n",
        "table = [data_names, data_student, data_units]\n",
        "Markdown(tabulate(np.array(table).T, tablefmt='pipe', headers=['Μέγεθος', 'Τιμή', 'Μονάδες'], floatfmt=\".2f\"))"
      ],
      "outputs": [
        {
          "output_type": "execute_result",
          "execution_count": 5,
          "data": {
            "text/plain": "<IPython.core.display.Markdown object>",
            "text/markdown": "| Μέγεθος                         |   Τιμή | Μονάδες   |\n|:--------------------------------|-------:|:----------|\n| Φορτίο G τυπικού ορόφου         |  25.35 | kN/m      |\n| Φορτίο G τελευταίου ορόφου kN/m |  16.90 | kN/m      |\n| Φορτίο Q (όλοι οι όροφοι) kN/m  |   7.15 | kN/m      |\n| Σεισμική δύναμη 1ου ορόφου kN   | 139.23 | kN        |\n| Σεισμική δύναμη 2ου ορόφου kN   | 278.47 | kN        |\n| Σεισμική δύναμη 3ου ορόφου kN   | 417.70 | kN        |\n| Σεισμική δύναμη 4ου ορόφου kN   | 401.44 | kN        |"
          },
          "metadata": {}
        }
      ],
      "execution_count": 5,
      "metadata": {
        "execution": {
          "iopub.status.busy": "2021-03-30T16:21:05.463Z",
          "iopub.execute_input": "2021-03-30T16:21:05.472Z",
          "iopub.status.idle": "2021-03-30T16:21:05.496Z",
          "shell.execute_reply": "2021-03-30T16:21:05.608Z"
        }
      },
      "id": "8fc93096-e0f4-4a7d-a934-394b4d2d04f7"
    },
    {
      "cell_type": "markdown",
      "source": [
        "## Εμφάνιση αποτελεσμάτων"
      ],
      "metadata": {},
      "id": "suburban-addiction"
    },
    {
      "cell_type": "code",
      "source": [
        "res_names = ['Μετακίνηση κατά Χ κόμβου 20', 'Μετακίνηση κατά Y κόμβου 20', 'Ροπή 3-3 στη βάση γωνιακού στύλου', 'Ροπή 2-2 στη βάση γωνιακού στύλου']\n",
        "res_units = ['mm', 'mm', 'kNm', 'kNm']\n",
        "res_grav_ini = [0., 0., -15.2699, -4.9228]\n",
        "res_seis_ini = [8.89, 3.83, 92.9118, 24.4802]\n",
        "res_grav_student = [scale * v for v in res_grav_ini]\n",
        "res_seis_student = [scale * v for v in res_seis_ini]"
      ],
      "outputs": [],
      "execution_count": 6,
      "metadata": {
        "execution": {
          "iopub.status.busy": "2021-03-30T16:21:05.503Z",
          "iopub.execute_input": "2021-03-30T16:21:05.508Z",
          "iopub.status.idle": "2021-03-30T16:21:05.515Z",
          "shell.execute_reply": "2021-03-30T16:21:05.610Z"
        }
      },
      "id": "9b91597e-4d14-479e-8f71-00bb1202e69f"
    },
    {
      "cell_type": "markdown",
      "source": [
        "### Αποτελέσματα για το συνδυασμό 1.35G+1.5Q"
      ],
      "metadata": {},
      "id": "2ffbd2f8-050a-41be-b95f-0ba2bee4ddfa"
    },
    {
      "cell_type": "code",
      "source": [
        "# for n, v, u in zip(res_names, res_grav_student, res_units):\n",
        "#     print(f'{n}: {v:.2f}{u}')\n",
        "table = [res_names, res_grav_student, res_units]\n",
        "Markdown(tabulate(np.array(table).T, tablefmt='pipe', headers=['Μέγεθος', 'Τιμή', 'Μονάδες'], floatfmt=\".2f\"))"
      ],
      "outputs": [
        {
          "output_type": "execute_result",
          "execution_count": 7,
          "data": {
            "text/plain": "<IPython.core.display.Markdown object>",
            "text/markdown": "| Μέγεθος                           |   Τιμή | Μονάδες   |\n|:----------------------------------|-------:|:----------|\n| Μετακίνηση κατά Χ κόμβου 20       |   0.00 | mm        |\n| Μετακίνηση κατά Y κόμβου 20       |   0.00 | mm        |\n| Ροπή 3-3 στη βάση γωνιακού στύλου | -19.85 | kNm       |\n| Ροπή 2-2 στη βάση γωνιακού στύλου |  -6.40 | kNm       |"
          },
          "metadata": {}
        }
      ],
      "execution_count": 7,
      "metadata": {
        "execution": {
          "iopub.status.busy": "2021-03-30T16:21:05.524Z",
          "iopub.execute_input": "2021-03-30T16:21:05.531Z",
          "iopub.status.idle": "2021-03-30T16:21:05.552Z",
          "shell.execute_reply": "2021-03-30T16:21:05.615Z"
        }
      },
      "id": "037737ad-412c-4f26-9d02-0d778d7a58ab"
    },
    {
      "cell_type": "markdown",
      "source": [
        "### Αποτελέσματα για το συνδυασμό G+0.3Q+Εx+0.3Εy"
      ],
      "metadata": {},
      "id": "e88d1410-f696-489f-86fe-6baf45dd9a0e"
    },
    {
      "cell_type": "code",
      "source": [
        "# for n, v, u in zip(res_names, res_seis_student, res_units):\n",
        "#     print(f'{n}: {v:.2f}{u}')\n",
        "table = [res_names, res_seis_student, res_units]\n",
        "Markdown(tabulate(np.array(table).T, tablefmt='pipe', headers=['Μέγεθος', 'Τιμή', 'Μονάδες'], floatfmt=\".2f\"))"
      ],
      "outputs": [
        {
          "output_type": "execute_result",
          "execution_count": 8,
          "data": {
            "text/plain": "<IPython.core.display.Markdown object>",
            "text/markdown": "| Μέγεθος                           |   Τιμή | Μονάδες   |\n|:----------------------------------|-------:|:----------|\n| Μετακίνηση κατά Χ κόμβου 20       |  11.56 | mm        |\n| Μετακίνηση κατά Y κόμβου 20       |   4.98 | mm        |\n| Ροπή 3-3 στη βάση γωνιακού στύλου | 120.79 | kNm       |\n| Ροπή 2-2 στη βάση γωνιακού στύλου |  31.82 | kNm       |"
          },
          "metadata": {}
        }
      ],
      "execution_count": 8,
      "metadata": {
        "execution": {
          "iopub.status.busy": "2021-03-30T16:21:05.560Z",
          "iopub.execute_input": "2021-03-30T16:21:05.564Z",
          "iopub.status.idle": "2021-03-30T16:21:05.577Z",
          "shell.execute_reply": "2021-03-30T16:21:05.618Z"
        }
      },
      "id": "39cae9c4-44cd-4a28-a0a1-4fea26faa261"
    }
  ],
  "metadata": {
    "kernelspec": {
      "name": "python3",
      "display_name": "Python 3.7.10 64-bit (conda)",
      "metadata": {
        "interpreter": {
          "hash": "a5f13187e373ab9bf9d6866d1d8b0356f0161bd93dd66c92c4bbddbf8b7e8660"
        }
      }
    },
    "language_info": {
      "name": "python",
      "version": "3.7.10",
      "mimetype": "text/x-python",
      "codemirror_mode": {
        "name": "ipython",
        "version": 3
      },
      "pygments_lexer": "ipython3",
      "nbconvert_exporter": "python",
      "file_extension": ".py"
    },
    "gist_id": "ea5755cb074d9e24f3857a44affc2c41",
    "nteract": {
      "version": "0.28.0"
    }
  },
  "nbformat": 4,
  "nbformat_minor": 5
}