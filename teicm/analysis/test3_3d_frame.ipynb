{
 "cells": [
  {
   "cell_type": "markdown",
   "id": "f287fea8",
   "metadata": {},
   "source": [
    "# Ανάλυση Κατασκεύων σε Η/Υ - Άσκηση 3 (Μαρτ.2021)"
   ]
  },
  {
   "cell_type": "code",
   "execution_count": 1,
   "id": "6737e1bf",
   "metadata": {
    "execution": {
     "iopub.execute_input": "2021-03-30T16:21:05.270Z",
     "iopub.status.busy": "2021-03-30T16:21:05.259Z",
     "iopub.status.idle": "2021-03-30T16:21:05.369Z",
     "shell.execute_reply": "2021-03-30T16:21:05.593Z"
    }
   },
   "outputs": [],
   "source": [
    "from tabulate import tabulate\n",
    "import numpy as np\n",
    "from IPython.display import display, Markdown"
   ]
  },
  {
   "cell_type": "markdown",
   "id": "c2ee0484",
   "metadata": {},
   "source": [
    "## Εισαγωγή αριθμού μητρώου φοιτητών\n",
    "\n",
    "Αντικαταστήστε τα ψηφία με αυτά του αριθμού μητρώου σας και τρέξτε το jupyter notebook.  \n",
    "Δε θα χρειαστεί να κάνετε κάποια άλλη αλλαγή ή κάποια εισαγωγή δεδομένων"
   ]
  },
  {
   "cell_type": "code",
   "execution_count": 2,
   "id": "e922771c",
   "metadata": {
    "execution": {
     "iopub.execute_input": "2021-03-30T16:21:05.385Z",
     "iopub.status.busy": "2021-03-30T16:21:05.379Z",
     "iopub.status.idle": "2021-03-30T16:21:05.398Z",
     "shell.execute_reply": "2021-03-30T16:21:05.597Z"
    }
   },
   "outputs": [],
   "source": [
    "κ, λ, μ, ν = 9, 8, 7, 6"
   ]
  },
  {
   "cell_type": "code",
   "execution_count": 3,
   "id": "36b64db5",
   "metadata": {
    "execution": {
     "iopub.execute_input": "2021-03-30T16:21:05.413Z",
     "iopub.status.busy": "2021-03-30T16:21:05.406Z",
     "iopub.status.idle": "2021-03-30T16:21:05.426Z",
     "shell.execute_reply": "2021-03-30T16:21:05.601Z"
    }
   },
   "outputs": [],
   "source": [
    "if ν==1 or ν==2:\n",
    "    scale = 1.1\n",
    "elif ν==3 or ν==4:\n",
    "    scale = 1.2\n",
    "elif ν==5 or ν==6:\n",
    "    scale = 1.3\n",
    "elif ν==7 or ν==8:\n",
    "    scale = 1.4\n",
    "elif ν==9 or ν==0:\n",
    "    scale = 1.5\n",
    "else:\n",
    "    print('Δώσατε λάθος αριθμό μητρώου')"
   ]
  },
  {
   "cell_type": "code",
   "execution_count": 4,
   "id": "eed4a2f7",
   "metadata": {
    "execution": {
     "iopub.execute_input": "2021-03-30T16:21:05.440Z",
     "iopub.status.busy": "2021-03-30T16:21:05.434Z",
     "iopub.status.idle": "2021-03-30T16:21:05.452Z",
     "shell.execute_reply": "2021-03-30T16:21:05.604Z"
    }
   },
   "outputs": [],
   "source": [
    "data_names = ['Φορτίο G τυπικού ορόφου', 'Φορτίο G τελευταίου ορόφου kN/m', 'Φορτίο Q (όλοι οι όροφοι) kN/m',\n",
    "            'Σεισμική δύναμη 1ου ορόφου kN', 'Σεισμική δύναμη 2ου ορόφου kN', 'Σεισμική δύναμη 3ου ορόφου kN', 'Σεισμική δύναμη 4ου ορόφου kN']\n",
    "data_units = ['kN/m', 'kN/m', 'kN/m', 'kN', 'kN', 'kN', 'kN']\n",
    "data_ini = [19.5, 13.0, 5.5, 107.1, 214.21, 321.31, 308.8]\n",
    "data_student = [scale * di for di in data_ini]"
   ]
  },
  {
   "cell_type": "markdown",
   "id": "c8538102",
   "metadata": {},
   "source": [
    "## Δεδομένα"
   ]
  },
  {
   "cell_type": "code",
   "execution_count": 5,
   "id": "a805a169",
   "metadata": {
    "execution": {
     "iopub.execute_input": "2021-03-30T16:21:05.472Z",
     "iopub.status.busy": "2021-03-30T16:21:05.463Z",
     "iopub.status.idle": "2021-03-30T16:21:05.496Z",
     "shell.execute_reply": "2021-03-30T16:21:05.608Z"
    }
   },
   "outputs": [
    {
     "data": {
      "text/markdown": [
       "| Μέγεθος                         |   Τιμή | Μονάδες   |\n",
       "|:--------------------------------|-------:|:----------|\n",
       "| Φορτίο G τυπικού ορόφου         |  25.35 | kN/m      |\n",
       "| Φορτίο G τελευταίου ορόφου kN/m |  16.90 | kN/m      |\n",
       "| Φορτίο Q (όλοι οι όροφοι) kN/m  |   7.15 | kN/m      |\n",
       "| Σεισμική δύναμη 1ου ορόφου kN   | 139.23 | kN        |\n",
       "| Σεισμική δύναμη 2ου ορόφου kN   | 278.47 | kN        |\n",
       "| Σεισμική δύναμη 3ου ορόφου kN   | 417.70 | kN        |\n",
       "| Σεισμική δύναμη 4ου ορόφου kN   | 401.44 | kN        |"
      ],
      "text/plain": [
       "<IPython.core.display.Markdown object>"
      ]
     },
     "execution_count": 5,
     "metadata": {},
     "output_type": "execute_result"
    }
   ],
   "source": [
    "# for n, v, u in zip(data_names, data_student, data_units):\n",
    "#     print(f'{n}: {v:.2f}{u}')\n",
    "table = [data_names, data_student, data_units]\n",
    "Markdown(tabulate(np.array(table).T, tablefmt='pipe', headers=['Μέγεθος', 'Τιμή', 'Μονάδες'], floatfmt=\".2f\"))"
   ]
  },
  {
   "cell_type": "markdown",
   "id": "14dbe690",
   "metadata": {},
   "source": [
    "## Εμφάνιση αποτελεσμάτων"
   ]
  },
  {
   "cell_type": "code",
   "execution_count": 6,
   "id": "f4ec7360",
   "metadata": {
    "execution": {
     "iopub.execute_input": "2021-03-30T16:21:05.508Z",
     "iopub.status.busy": "2021-03-30T16:21:05.503Z",
     "iopub.status.idle": "2021-03-30T16:21:05.515Z",
     "shell.execute_reply": "2021-03-30T16:21:05.610Z"
    }
   },
   "outputs": [],
   "source": [
    "res_names = ['Μετακίνηση κατά Χ κόμβου 20', 'Μετακίνηση κατά Y κόμβου 20', 'Ροπή 3-3 στη βάση γωνιακού στύλου', 'Ροπή 2-2 στη βάση γωνιακού στύλου']\n",
    "res_units = ['mm', 'mm', 'kNm', 'kNm']\n",
    "res_grav_ini = [0., 0., -15.2699, -4.9228]\n",
    "res_seis_ini = [8.89, 3.83, 92.9118, 24.4802]\n",
    "res_grav_student = [scale * v for v in res_grav_ini]\n",
    "res_seis_student = [scale * v for v in res_seis_ini]"
   ]
  },
  {
   "cell_type": "markdown",
   "id": "ee6e645b",
   "metadata": {},
   "source": [
    "### Αποτελέσματα για το συνδυασμό 1.35G+1.5Q"
   ]
  },
  {
   "cell_type": "code",
   "execution_count": 7,
   "id": "349b8543",
   "metadata": {
    "execution": {
     "iopub.execute_input": "2021-03-30T16:21:05.531Z",
     "iopub.status.busy": "2021-03-30T16:21:05.524Z",
     "iopub.status.idle": "2021-03-30T16:21:05.552Z",
     "shell.execute_reply": "2021-03-30T16:21:05.615Z"
    }
   },
   "outputs": [
    {
     "data": {
      "text/markdown": [
       "| Μέγεθος                           |   Τιμή | Μονάδες   |\n",
       "|:----------------------------------|-------:|:----------|\n",
       "| Μετακίνηση κατά Χ κόμβου 20       |   0.00 | mm        |\n",
       "| Μετακίνηση κατά Y κόμβου 20       |   0.00 | mm        |\n",
       "| Ροπή 3-3 στη βάση γωνιακού στύλου | -19.85 | kNm       |\n",
       "| Ροπή 2-2 στη βάση γωνιακού στύλου |  -6.40 | kNm       |"
      ],
      "text/plain": [
       "<IPython.core.display.Markdown object>"
      ]
     },
     "execution_count": 7,
     "metadata": {},
     "output_type": "execute_result"
    }
   ],
   "source": [
    "# for n, v, u in zip(res_names, res_grav_student, res_units):\n",
    "#     print(f'{n}: {v:.2f}{u}')\n",
    "table = [res_names, res_grav_student, res_units]\n",
    "Markdown(tabulate(np.array(table).T, tablefmt='pipe', headers=['Μέγεθος', 'Τιμή', 'Μονάδες'], floatfmt=\".2f\"))"
   ]
  },
  {
   "cell_type": "markdown",
   "id": "794b014d",
   "metadata": {},
   "source": [
    "### Αποτελέσματα για το συνδυασμό G+0.3Q+Εx+0.3Εy"
   ]
  },
  {
   "cell_type": "code",
   "execution_count": 8,
   "id": "d6ddaad3",
   "metadata": {
    "execution": {
     "iopub.execute_input": "2021-03-30T16:21:05.564Z",
     "iopub.status.busy": "2021-03-30T16:21:05.560Z",
     "iopub.status.idle": "2021-03-30T16:21:05.577Z",
     "shell.execute_reply": "2021-03-30T16:21:05.618Z"
    }
   },
   "outputs": [
    {
     "data": {
      "text/markdown": [
       "| Μέγεθος                           |   Τιμή | Μονάδες   |\n",
       "|:----------------------------------|-------:|:----------|\n",
       "| Μετακίνηση κατά Χ κόμβου 20       |  11.56 | mm        |\n",
       "| Μετακίνηση κατά Y κόμβου 20       |   4.98 | mm        |\n",
       "| Ροπή 3-3 στη βάση γωνιακού στύλου | 120.79 | kNm       |\n",
       "| Ροπή 2-2 στη βάση γωνιακού στύλου |  31.82 | kNm       |"
      ],
      "text/plain": [
       "<IPython.core.display.Markdown object>"
      ]
     },
     "execution_count": 8,
     "metadata": {},
     "output_type": "execute_result"
    }
   ],
   "source": [
    "# for n, v, u in zip(res_names, res_seis_student, res_units):\n",
    "#     print(f'{n}: {v:.2f}{u}')\n",
    "table = [res_names, res_seis_student, res_units]\n",
    "Markdown(tabulate(np.array(table).T, tablefmt='pipe', headers=['Μέγεθος', 'Τιμή', 'Μονάδες'], floatfmt=\".2f\"))"
   ]
  }
 ],
 "metadata": {
  "gist_id": "ea5755cb074d9e24f3857a44affc2c41",
  "kernelspec": {
   "display_name": "Python 3",
   "language": "python",
   "name": "python3"
  },
  "language_info": {
   "codemirror_mode": {
    "name": "ipython",
    "version": 3
   },
   "file_extension": ".py",
   "mimetype": "text/x-python",
   "name": "python",
   "nbconvert_exporter": "python",
   "pygments_lexer": "ipython3",
   "version": "3.7.10"
  },
  "nteract": {
   "version": "0.28.0"
  }
 },
 "nbformat": 4,
 "nbformat_minor": 5
}
