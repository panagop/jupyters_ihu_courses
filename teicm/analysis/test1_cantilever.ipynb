{
 "cells": [
  {
   "cell_type": "markdown",
   "id": "authorized-alert",
   "metadata": {},
   "source": [
    "# Ανάλυση Κατασκεύων σε Η/Υ - Άσκηση 1 (Μαρτ.2021)"
   ]
  },
  {
   "cell_type": "code",
   "execution_count": 1,
   "id": "smaller-simpson",
   "metadata": {},
   "outputs": [],
   "source": [
    "from streng.ppp.sections.geometry.rectangular import RectangularSectionGeometry\n",
    "import numpy as np\n",
    "import pandas as pd\n",
    "from IPython.display import display\n",
    "import matplotlib.pyplot as plt\n",
    "import openseespy.opensees as ops\n",
    "import openseespy.postprocessing.ops_vis as opsv"
   ]
  },
  {
   "cell_type": "markdown",
   "id": "fourth-wellington",
   "metadata": {},
   "source": [
    "## Εισαγωγή αριθμού μητρώου φοιτητών\n",
    "\n",
    "Αντικαταστήστε τα ψηφία με αυτά του αριθμού μητρώου σας και τρέξτε το jupyter notebook.  \n",
    "Δε θα χρειαστεί να κάνετε κάποια άλλη αλλαγή ή κάποια εισαγωγή δεδομένων"
   ]
  },
  {
   "cell_type": "code",
   "execution_count": 2,
   "id": "contrary-pasta",
   "metadata": {},
   "outputs": [],
   "source": [
    "κ, λ, μ, ν = 9, 8, 7, 6"
   ]
  },
  {
   "cell_type": "markdown",
   "id": "solved-helmet",
   "metadata": {},
   "source": [
    "## Δεδομένα"
   ]
  },
  {
   "cell_type": "code",
   "execution_count": 3,
   "id": "equipped-network",
   "metadata": {},
   "outputs": [],
   "source": [
    "# Δεδομένα φοιτητών βάσει ΑΕΜ\n",
    "h=3.0+0.1*(κ+μ)\n",
    "a=b=0.40\n",
    "F=110.0+μ+ν\n",
    "M=70.0+λ+ν\n",
    "E=(2+0.1*ν)*10**7\n",
    "U = 0.2\n",
    "\n",
    "# # Δεδομένα παραδείγματος βιβλίου\n",
    "# h=4.0\n",
    "# a=b=0.30\n",
    "# F=100.0\n",
    "# M=80.0\n",
    "# E=2.8*10**7\n",
    "# U = 0.2"
   ]
  },
  {
   "cell_type": "code",
   "execution_count": 4,
   "id": "leading-rachel",
   "metadata": {},
   "outputs": [
    {
     "name": "stdout",
     "output_type": "stream",
     "text": [
      "h = 4.00m\n",
      "a = b = 0.40m\n",
      "F = 120.00kN\n",
      "M = 86.00kNm\n",
      "E = 27000000kPa\n"
     ]
    }
   ],
   "source": [
    "print(f'h = {h:.2f}m')\n",
    "print(f'a = b = {a:.2f}m')\n",
    "print(f'F = {F:.2f}kN')\n",
    "print(f'M = {M:.2f}kNm')\n",
    "print(f'E = {E:.0f}kPa')"
   ]
  },
  {
   "cell_type": "markdown",
   "id": "outer-kruger",
   "metadata": {},
   "source": [
    "## Επίλυση με το OpenSees"
   ]
  },
  {
   "cell_type": "code",
   "execution_count": 5,
   "id": "distant-economics",
   "metadata": {},
   "outputs": [
    {
     "name": "stdout",
     "output_type": "stream",
     "text": [
      "[['F', [-120.0, 0.0, 480.0, 120.0, 0.0, 0.0]], ['M', [-2.842170943040401e-14, 0.0, 86.00000000000009, 2.842170943040401e-14, 0.0, -85.99999999999997]], ['F+M', array([-120.,    0.,  566.,  120.,    0.,  -86.])]]\n"
     ]
    }
   ],
   "source": [
    "ops.wipe()\n",
    "ops.model('basic', '-ndm', 2, '-ndf', 3)\n",
    "\n",
    "U = 0.2\n",
    "G = E / (2.0*(1.0+U))\n",
    "\n",
    "rect_col = RectangularSectionGeometry(b=b, h=a)\n",
    "A_col = rect_col.area\n",
    "Iz_col = rect_col.moment_of_inertia_xx # * 0.5\n",
    "Avy_col = rect_col.shear_area_2 # * 0.5\n",
    "\n",
    "ops.node(1, 0., 0.)\n",
    "ops.node(2, 0., h)\n",
    "\n",
    "ops.fix(1, 1, 1, 1)\n",
    "\n",
    "ops.geomTransf('Linear', 1)\n",
    "\n",
    "ops.element('ElasticTimoshenkoBeam', 1, 1, 2, E, G, A_col, Iz_col, Avy_col, 1)  # , '-mass', 0., '-lMass')\n",
    "\n",
    "results_ele = []\n",
    "results_node = []\n",
    "\n",
    "# F Analysis\n",
    "ops.timeSeries('Constant', 1)\n",
    "ops.pattern('Plain', 1, 1)\n",
    "ops.load(2, F, 0., 0.)\n",
    "ops.constraints('Transformation')\n",
    "ops.numberer('RCM')\n",
    "ops.system('BandGeneral')\n",
    "ops.test('NormDispIncr', 1.0e-6, 6, 2)\n",
    "ops.algorithm('Linear')\n",
    "ops.integrator('LoadControl', 1)\n",
    "ops.analysis('Static')\n",
    "ops.analyze(1)\n",
    "\n",
    "results_ele.append(['F', ops.eleForce(1)])\n",
    "results_node.append(['F', ops.nodeDisp (2)])\n",
    "\n",
    "ops.remove('timeSeries', 1)\n",
    "ops.remove('loadPattern', 1)\n",
    "ops.wipeAnalysis()\n",
    "\n",
    "# M Analysis\n",
    "ops.timeSeries('Constant', 1)\n",
    "ops.pattern('Plain', 1, 1)\n",
    "ops.load(2, 0., 0., -M)\n",
    "ops.constraints('Transformation')\n",
    "ops.numberer('RCM')\n",
    "ops.system('BandGeneral')\n",
    "ops.test('NormDispIncr', 1.0e-6, 6, 2)\n",
    "ops.algorithm('Linear')\n",
    "ops.integrator('LoadControl', 1)\n",
    "ops.analysis('Static')\n",
    "ops.analyze(1)\n",
    "\n",
    "results_ele.append(['M', ops.eleForce(1)])\n",
    "results_node.append(['M', ops.nodeDisp (2)])\n",
    "\n",
    "ops.remove('timeSeries', 1)\n",
    "ops.remove('loadPattern', 1)\n",
    "ops.wipeAnalysis()\n",
    "\n",
    "results_ele.append(['F+M', np.add(results_ele[0][1], results_ele[1][1])])\n",
    "results_node.append(['F+M', np.add(results_node[0][1], results_node[1][1])])\n",
    "\n",
    "print(results_ele)\n"
   ]
  },
  {
   "cell_type": "markdown",
   "id": "treated-circulation",
   "metadata": {},
   "source": [
    "## Εμφάνιση αποτελεσμάτων"
   ]
  },
  {
   "cell_type": "markdown",
   "id": "super-pennsylvania",
   "metadata": {},
   "source": [
    "### Εντατικά μεγέθη"
   ]
  },
  {
   "cell_type": "code",
   "execution_count": 6,
   "id": "reserved-print",
   "metadata": {},
   "outputs": [
    {
     "name": "stdout",
     "output_type": "stream",
     "text": [
      "Για φόρτιση F: M=480.00kNm\n",
      "Για φόρτιση F: V=120.00kN\n",
      "\n",
      "Για φόρτιση M: M=86.00kNm\n",
      "Για φόρτιση M: V=0.00kN\n",
      "\n",
      "Για φόρτιση F+M: M=566.00kNm\n",
      "Για φόρτιση F+M: V=120.00kN\n",
      "\n"
     ]
    }
   ],
   "source": [
    "# Τα αποτελέσματα έχουν τη μορφή [-V2(i), N(i), M3(i), V2(j), N(j), M3(j)]\n",
    "# for re in results_ele:\n",
    "#     print(f'{re[0]}: {np.round(re[1],2)}')\n",
    "    \n",
    "for re in results_ele:\n",
    "    print(f'Για φόρτιση {re[0]}: M={re[1][2]:.2f}kNm')\n",
    "    print(f'Για φόρτιση {re[0]}: V={re[1][3]:.2f}kN')\n",
    "    print()"
   ]
  },
  {
   "cell_type": "markdown",
   "id": "artificial-midnight",
   "metadata": {},
   "source": [
    "### Μετακινήσεις"
   ]
  },
  {
   "cell_type": "code",
   "execution_count": 7,
   "id": "suitable-london",
   "metadata": {},
   "outputs": [
    {
     "name": "stdout",
     "output_type": "stream",
     "text": [
      "Για φόρτιση F: δ=4.48cm\n",
      "\n",
      "Για φόρτιση M: δ=1.19cm\n",
      "\n",
      "Για φόρτιση F+M: δ=5.67cm\n",
      "\n"
     ]
    }
   ],
   "source": [
    "# Τα αποτελέσματα έχουν τη μορφή [Trans1, Trans3, -Rotn2]\n",
    "# for re in results_node:\n",
    "#     print(f'{re[0]}: {np.round(re[1],4)}')\n",
    "\n",
    "for re in results_node:\n",
    "    print(f'Για φόρτιση {re[0]}: δ={100*re[1][0]:.2f}cm')\n",
    "    print()"
   ]
  },
  {
   "cell_type": "code",
   "execution_count": null,
   "id": "hungry-perth",
   "metadata": {},
   "outputs": [],
   "source": []
  }
 ],
 "metadata": {
  "kernelspec": {
   "display_name": "Python [conda env:py38] *",
   "language": "python",
   "name": "conda-env-py38-py"
  },
  "language_info": {
   "codemirror_mode": {
    "name": "ipython",
    "version": 3
   },
   "file_extension": ".py",
   "mimetype": "text/x-python",
   "name": "python",
   "nbconvert_exporter": "python",
   "pygments_lexer": "ipython3",
   "version": "3.8.5"
  }
 },
 "nbformat": 4,
 "nbformat_minor": 5
}
