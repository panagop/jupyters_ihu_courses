{
 "cells": [
  {
   "cell_type": "markdown",
   "id": "romantic-facility",
   "metadata": {},
   "source": [
    "# Ανάλυση Κατασκεύων σε Η/Υ - Άσκηση 1 (Μαρτ.2021)"
   ]
  },
  {
   "cell_type": "code",
   "execution_count": 8,
   "id": "ancient-emphasis",
   "metadata": {},
   "outputs": [],
   "source": [
    "from streng.ppp.sections.geometry.rectangular import RectangularSectionGeometry\n",
    "import numpy as np\n",
    "import pandas as pd\n",
    "from IPython.display import display\n",
    "import matplotlib.pyplot as plt\n",
    "import openseespy.opensees as ops\n",
    "import openseespy.postprocessing.ops_vis as opsv"
   ]
  },
  {
   "cell_type": "markdown",
   "id": "deluxe-chain",
   "metadata": {},
   "source": [
    "## Εισαγωγή αριθμού μητρώου φοιτητών\n",
    "\n",
    "Αντικαταστήστε τα ψηφία με αυτά του αριθμού μητρώου σας και τρέξτε το jupyter notebook.  \n",
    "Δε θα χρειαστεί να κάνετε κάποια άλλη αλλαγή ή κάποια εισαγωγή δεδομένων"
   ]
  },
  {
   "cell_type": "code",
   "execution_count": 9,
   "id": "operational-aircraft",
   "metadata": {},
   "outputs": [],
   "source": [
    "κ, λ, μ, ν = 9, 8, 7, 6"
   ]
  },
  {
   "cell_type": "markdown",
   "id": "challenging-uncertainty",
   "metadata": {},
   "source": [
    "## Δεδομένα"
   ]
  },
  {
   "cell_type": "code",
   "execution_count": 10,
   "id": "immune-compact",
   "metadata": {},
   "outputs": [],
   "source": [
    "# Δεδομένα φοιτητών βάσει ΑΕΜ\n",
    "h=3.0+0.1*(κ+μ)\n",
    "a=b=0.40\n",
    "F=110.0+μ+ν\n",
    "M=70.0+λ+ν\n",
    "E=(2+0.1*ν)*10**7\n",
    "U = 0.2\n",
    "\n",
    "# # Δεδομένα παραδείγματος βιβλίου\n",
    "# h=4.0\n",
    "# a=b=0.30\n",
    "# F=100.0\n",
    "# M=80.0\n",
    "# E=2.8*10**7\n",
    "# U = 0.2"
   ]
  },
  {
   "cell_type": "code",
   "execution_count": 11,
   "id": "excellent-mirror",
   "metadata": {},
   "outputs": [
    {
     "name": "stdout",
     "output_type": "stream",
     "text": [
      "h = 4.60m\n",
      "a = b = 0.40m\n",
      "F = 123.00kN\n",
      "M = 84.00kNm\n",
      "E = 26000000kPa\n"
     ]
    }
   ],
   "source": [
    "print(f'h = {h:.2f}m')\n",
    "print(f'a = b = {a:.2f}m')\n",
    "print(f'F = {F:.2f}kN')\n",
    "print(f'M = {M:.2f}kNm')\n",
    "print(f'E = {E:.0f}kPa')"
   ]
  },
  {
   "cell_type": "markdown",
   "id": "handed-adoption",
   "metadata": {},
   "source": [
    "## Επίλυση με το OpenSees"
   ]
  },
  {
   "cell_type": "code",
   "execution_count": 12,
   "id": "systematic-meaning",
   "metadata": {},
   "outputs": [
    {
     "name": "stdout",
     "output_type": "stream",
     "text": [
      "[['F', [-122.99999999999994, 0.0, 565.7999999999997, 122.99999999999994, 0.0, 0.0]], ['M', [-4.263256414560601e-14, 0.0, 84.0000000000002, 4.263256414560601e-14, 0.0, -84.00000000000003]], ['F+M', array([-123. ,    0. ,  649.8,  123. ,    0. ,  -84. ])]]\n"
     ]
    }
   ],
   "source": [
    "ops.wipe()\n",
    "ops.model('basic', '-ndm', 2, '-ndf', 3)\n",
    "\n",
    "U = 0.2\n",
    "G = E / (2.0*(1.0+U))\n",
    "\n",
    "rect_col = RectangularSectionGeometry(b=b, h=a)\n",
    "A_col = rect_col.area\n",
    "Iz_col = rect_col.moment_of_inertia_xx # * 0.5\n",
    "Avy_col = rect_col.shear_area_2 # * 0.5\n",
    "\n",
    "ops.node(1, 0., 0.)\n",
    "ops.node(2, 0., h)\n",
    "\n",
    "ops.fix(1, 1, 1, 1)\n",
    "\n",
    "ops.geomTransf('Linear', 1)\n",
    "\n",
    "ops.element('ElasticTimoshenkoBeam', 1, 1, 2, E, G, A_col, Iz_col, Avy_col, 1)  # , '-mass', 0., '-lMass')\n",
    "\n",
    "results_ele = []\n",
    "results_node = []\n",
    "\n",
    "# F Analysis\n",
    "ops.timeSeries('Constant', 1)\n",
    "ops.pattern('Plain', 1, 1)\n",
    "ops.load(2, F, 0., 0.)\n",
    "ops.constraints('Transformation')\n",
    "ops.numberer('RCM')\n",
    "ops.system('BandGeneral')\n",
    "ops.test('NormDispIncr', 1.0e-6, 6, 2)\n",
    "ops.algorithm('Linear')\n",
    "ops.integrator('LoadControl', 1)\n",
    "ops.analysis('Static')\n",
    "ops.analyze(1)\n",
    "\n",
    "results_ele.append(['F', ops.eleForce(1)])\n",
    "results_node.append(['F', ops.nodeDisp (2)])\n",
    "\n",
    "ops.remove('timeSeries', 1)\n",
    "ops.remove('loadPattern', 1)\n",
    "ops.wipeAnalysis()\n",
    "\n",
    "# M Analysis\n",
    "ops.timeSeries('Constant', 1)\n",
    "ops.pattern('Plain', 1, 1)\n",
    "ops.load(2, 0., 0., -M)\n",
    "ops.constraints('Transformation')\n",
    "ops.numberer('RCM')\n",
    "ops.system('BandGeneral')\n",
    "ops.test('NormDispIncr', 1.0e-6, 6, 2)\n",
    "ops.algorithm('Linear')\n",
    "ops.integrator('LoadControl', 1)\n",
    "ops.analysis('Static')\n",
    "ops.analyze(1)\n",
    "\n",
    "results_ele.append(['M', ops.eleForce(1)])\n",
    "results_node.append(['M', ops.nodeDisp (2)])\n",
    "\n",
    "ops.remove('timeSeries', 1)\n",
    "ops.remove('loadPattern', 1)\n",
    "ops.wipeAnalysis()\n",
    "\n",
    "results_ele.append(['F+M', np.add(results_ele[0][1], results_ele[1][1])])\n",
    "results_node.append(['F+M', np.add(results_node[0][1], results_node[1][1])])\n",
    "\n",
    "print(results_ele)\n"
   ]
  },
  {
   "cell_type": "markdown",
   "id": "falling-cattle",
   "metadata": {},
   "source": [
    "## Εμφάνιση αποτελεσμάτων"
   ]
  },
  {
   "cell_type": "markdown",
   "id": "convinced-couple",
   "metadata": {},
   "source": [
    "### Εντατικά μεγέθη"
   ]
  },
  {
   "cell_type": "code",
   "execution_count": 13,
   "id": "pressed-collective",
   "metadata": {},
   "outputs": [
    {
     "name": "stdout",
     "output_type": "stream",
     "text": [
      "Για φόρτιση F: M=565.80kNm\n",
      "Για φόρτιση F: V=123.00kN\n",
      "\n",
      "Για φόρτιση M: M=84.00kNm\n",
      "Για φόρτιση M: V=0.00kN\n",
      "\n",
      "Για φόρτιση F+M: M=649.80kNm\n",
      "Για φόρτιση F+M: V=123.00kN\n",
      "\n"
     ]
    }
   ],
   "source": [
    "# Τα αποτελέσματα έχουν τη μορφή [-V2(i), N(i), M3(i), V2(j), N(j), M3(j)]\n",
    "# for re in results_ele:\n",
    "#     print(f'{re[0]}: {np.round(re[1],2)}')\n",
    "    \n",
    "for re in results_ele:\n",
    "    print(f'Για φόρτιση {re[0]}: M={re[1][2]:.2f}kNm')\n",
    "    print(f'Για φόρτιση {re[0]}: V={re[1][3]:.2f}kN')\n",
    "    print()"
   ]
  },
  {
   "cell_type": "markdown",
   "id": "nearby-injection",
   "metadata": {},
   "source": [
    "### Μετακινήσεις"
   ]
  },
  {
   "cell_type": "code",
   "execution_count": 14,
   "id": "portable-effect",
   "metadata": {},
   "outputs": [
    {
     "name": "stdout",
     "output_type": "stream",
     "text": [
      "Για φόρτιση F: δ=7.23cm\n",
      "\n",
      "Για φόρτιση M: δ=1.60cm\n",
      "\n",
      "Για φόρτιση F+M: δ=8.84cm\n",
      "\n"
     ]
    }
   ],
   "source": [
    "# Τα αποτελέσματα έχουν τη μορφή [Trans1, Trans3, -Rotn2]\n",
    "# for re in results_node:\n",
    "#     print(f'{re[0]}: {np.round(re[1],4)}')\n",
    "\n",
    "for re in results_node:\n",
    "    print(f'Για φόρτιση {re[0]}: δ={100*re[1][0]:.2f}cm')\n",
    "    print()"
   ]
  },
  {
   "cell_type": "code",
   "execution_count": null,
   "id": "wooden-cosmetic",
   "metadata": {},
   "outputs": [],
   "source": []
  }
 ],
 "metadata": {
  "kernelspec": {
   "display_name": "Python [conda env:py38] *",
   "language": "python",
   "name": "conda-env-py38-py"
  },
  "language_info": {
   "codemirror_mode": {
    "name": "ipython",
    "version": 3
   },
   "file_extension": ".py",
   "mimetype": "text/x-python",
   "name": "python",
   "nbconvert_exporter": "python",
   "pygments_lexer": "ipython3",
   "version": "3.8.5"
  }
 },
 "nbformat": 4,
 "nbformat_minor": 5
}
