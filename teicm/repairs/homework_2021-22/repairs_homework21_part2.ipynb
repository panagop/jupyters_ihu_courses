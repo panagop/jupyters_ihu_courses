{
 "cells": [
  {
   "cell_type": "markdown",
   "id": "067f53e8-46e1-4447-9011-75f86431d911",
   "metadata": {},
   "source": [
    "# Επισκευές/Ενισχύσεις - Μέρος 1 (Μαρτ.2021)"
   ]
  },
  {
   "cell_type": "code",
   "execution_count": 1,
   "id": "88ec1a29-1e9b-4c71-b422-70c5a3cc535b",
   "metadata": {},
   "outputs": [],
   "source": [
    "from streng.ppp.sections.geometry.rectangular import RectangularSectionGeometry\n",
    "from streng.ppp.sections.geometry.tee import TeeSectionGeometry\n",
    "from streng.codes.eurocodes.ec8.cls.seismic_action.spectra import SpectraEc8\n",
    "import numpy as np\n",
    "from scipy.interpolate import interp1d\n",
    "import pandas as pd\n",
    "from IPython.display import display\n",
    "import matplotlib.pyplot as plt\n",
    "import openseespy.opensees as ops\n",
    "import openseespy.postprocessing.ops_vis as opsv"
   ]
  },
  {
   "cell_type": "markdown",
   "id": "83c47b48-9c8e-4a92-9fe3-73cc282fe20e",
   "metadata": {},
   "source": [
    "## Εισαγωγή αριθμού μητρώου φοιτητών\n",
    "\n",
    "Αντικαταστήστε τα ψηφία με αυτά του αριθμού μητρώου σας και τρέξτε το jupyter notebook.  \n",
    "Δε θα χρειαστεί να κάνετε κάποια άλλη αλλαγή ή κάποια εισαγωγή δεδομένων"
   ]
  },
  {
   "cell_type": "code",
   "execution_count": 2,
   "id": "7deee577-75eb-4ebe-b9ad-434007cbea43",
   "metadata": {},
   "outputs": [],
   "source": [
    "κ, λ, μ, ν = 9, 8, 7, 6"
   ]
  },
  {
   "cell_type": "markdown",
   "id": "18648789-246b-47bc-9adc-97bcd84c4224",
   "metadata": {},
   "source": [
    "## Δεδομένα"
   ]
  },
  {
   "cell_type": "code",
   "execution_count": 3,
   "id": "259ef085-a1bd-49b8-a349-de280483530d",
   "metadata": {},
   "outputs": [],
   "source": [
    "# Δεδομένα φοιτητών βάσει ΑΕΜ\n",
    "L = 5.8+0.05*μ\n",
    "H_is = 3.8+0.05*ν\n",
    "H_or = 2.8+0.05*ν\n",
    "\n",
    "if ν<5:\n",
    "    bc_is=hc_is=0.35\n",
    "    bc_or=hc_or=0.30\n",
    "    bw=0.25\n",
    "    h_is=0.65\n",
    "    h_or=0.55\n",
    "else:\n",
    "    bc_is=hc_is=0.40\n",
    "    bc_or=hc_or=0.35\n",
    "    bw=0.25\n",
    "    h_is=0.70\n",
    "    h_or=0.60\n",
    "\n",
    "g = 28.5 + 0.2*κ + 0.5*λ+ 0.4*μ\n",
    "q = 7.2 + 0.2*κ + 0.2*λ + 0.4*μ\n",
    "    \n",
    "cnom = 0.025    \n",
    "    \n",
    "fcm = 19+0.4*μ+0.2*ν # σε (MPa)\n",
    "Ecm = round(22*(fcm/10)**0.3,1)\n",
    "   \n",
    "E=2.8*10**7\n",
    "U = 0.0\n",
    "\n",
    "if ν<5:\n",
    "    agR = 0.24\n",
    "    ductility_class = 'H'\n",
    "    ground_type = 'B'\n",
    "    importance = 'III'\n",
    "    γI=1.2\n",
    "    q_factor = 4.5 * 1.3\n",
    "    \n",
    "else:\n",
    "    agR = 0.36\n",
    "    ductility_class = 'M'\n",
    "    ground_type = 'C'\n",
    "    importance = 'II' \n",
    "    γI=1.0\n",
    "    q_factor = 3.0 * 1.3\n",
    "\n",
    "ag = agR*γI\n",
    "\n",
    "specEC8 = SpectraEc8(αgR=agR,\n",
    "                     γI=γI,\n",
    "                     ground_type = ground_type,\n",
    "                     spectrum_type = \n",
    "                     1,\n",
    "                     η=1.0,\n",
    "                     q=q_factor,\n",
    "                     β=0.2)\n",
    "\n",
    "fy = 430 + 5*ν\n",
    "fu = 1.25 * fy\n",
    "fye = 1.15 * fy\n",
    "fue = 1.10 * fu"
   ]
  },
  {
   "cell_type": "markdown",
   "id": "2ae40e4b-3c8b-4dd9-a012-f9d7aee3bb8a",
   "metadata": {},
   "source": [
    "### Μάζα"
   ]
  },
  {
   "cell_type": "code",
   "execution_count": 4,
   "id": "7020075b-ba91-4d50-a595-6a4b9bac854f",
   "metadata": {},
   "outputs": [],
   "source": [
    "mass = (g+0.3*q)*L*2 / 9.81"
   ]
  },
  {
   "cell_type": "markdown",
   "id": "822d9e16-7fa2-4c54-b80d-2ac8be861e36",
   "metadata": {},
   "source": [
    "## Εμφάνιση αρχικών αποτελεσμάτων (πριν το τρέξιμο της ανάλυσης)"
   ]
  },
  {
   "cell_type": "code",
   "execution_count": 5,
   "id": "133dbcc0-6da2-4c62-813d-36934f37a6ab",
   "metadata": {},
   "outputs": [
    {
     "name": "stdout",
     "output_type": "stream",
     "text": [
      "Διαστάσεις φορέα\n",
      "L = 6.15m\n",
      "H_ισογ = 4.10m\n",
      "H_ορ = 3.10m\n",
      "\n",
      "Διαστάσεις δοκών\n",
      "Δοκοί ισογείου: b = 0.25m   h=0.70m\n",
      "Δοκοί ορόφων:   b = 0.25m   h=0.60m\n",
      "\n",
      "Διαστάσεις στύλων\n",
      "Στύλοι ισογείου: b = 0.40m   h=0.40m\n",
      "Στύλοι ορόφων:   b = 0.35m   h=0.35m\n",
      "\n",
      "Υλικά\n",
      "Σκυρόδεμα\n",
      "fcm = 23.00MPa   Ecm=28.2GPa\n",
      "\n",
      "Χάλυβας\n",
      "fy = 460.00MPa\n",
      "fu = 575.00MPa\n",
      "fye = 529.00MPa\n",
      "fue = 632.50MPa\n",
      "\n",
      "Φορτία δοκών\n",
      "g = 37.10kN/m   q=13.40kN/m\n",
      "\n",
      "Μάζες\n",
      "m = 51.56t (ίση σε όλους τους ορόφους)\n",
      "\n"
     ]
    }
   ],
   "source": [
    "print('Διαστάσεις φορέα')\n",
    "print(f'L = {L:.2f}m')\n",
    "print(f'H_ισογ = {H_is:.2f}m')\n",
    "print(f'H_ορ = {H_or:.2f}m')\n",
    "print('')\n",
    "print('Διαστάσεις δοκών')\n",
    "print(f'Δοκοί ισογείου: b = {bw:.2f}m   h={h_is:.2f}m')\n",
    "print(f'Δοκοί ορόφων:   b = {bw:.2f}m   h={h_or:.2f}m')\n",
    "print('')\n",
    "print('Διαστάσεις στύλων')\n",
    "print(f'Στύλοι ισογείου: b = {bc_is:.2f}m   h={bc_is:.2f}m')\n",
    "print(f'Στύλοι ορόφων:   b = {bc_or:.2f}m   h={bc_or:.2f}m')\n",
    "print('')\n",
    "print('Υλικά')\n",
    "print('Σκυρόδεμα')\n",
    "print(f'fcm = {fcm:.2f}MPa   Ecm={Ecm:.1f}GPa')\n",
    "print('')\n",
    "print('Χάλυβας')\n",
    "print(f'fy = {fy:.2f}MPa')\n",
    "print(f'fu = {fu:.2f}MPa')\n",
    "print(f'fye = {fye:.2f}MPa')\n",
    "print(f'fue = {fue:.2f}MPa')\n",
    "print('')\n",
    "print('Φορτία δοκών')\n",
    "print(f'g = {g:.2f}kN/m   q={q:.2f}kN/m')\n",
    "print('')\n",
    "print('Μάζες')\n",
    "print(f'm = {mass:.2f}t (ίση σε όλους τους ορόφους)')\n",
    "print('')\n",
    "# print('Δεδομένα φάσματος σχεδιασμού')\n",
    "# print(f'γI = {γI:.2f} για κατηγορία σπουδαιότητας {importance}')\n",
    "# print(f'agR = {agR:.3f}g = {agR*9.81:.3f}m/sec2')\n",
    "# print(f'ag = {ag:.3f}g = {ag*9.81:.3f}m/sec2')\n",
    "# print(f'Κατηγορία πλαστιμότητας = DC{ductility_class}')\n",
    "# print(f'Κατηγορία εδάφους: {ground_type}')\n",
    "# print(f'TB = {specEC8.TB:.2f}sec')\n",
    "# print(f'TC = {specEC8.TC:.2f}sec')\n",
    "# print(f'TD = {specEC8.TD:.2f}sec')\n",
    "# print(f'S = {specEC8.S:.2f}sec')\n",
    "# print(f'Συντελεστής συμπεριφοράς q = {specEC8.q:.2f}')\n"
   ]
  },
  {
   "cell_type": "markdown",
   "id": "05014fde-192f-4da2-9158-25f4b6469f3c",
   "metadata": {},
   "source": [
    "## Αρχικό τρέξιμο - Υπολογισμός ιδιομορφών/ιδιοπεριόδων"
   ]
  },
  {
   "cell_type": "markdown",
   "id": "b7624b3b-72b5-42f6-8a8e-77751828dec1",
   "metadata": {},
   "source": [
    "### Διατομές"
   ]
  },
  {
   "cell_type": "code",
   "execution_count": 6,
   "id": "2877b452-e44f-4553-9ba8-1afb82c033f7",
   "metadata": {},
   "outputs": [],
   "source": [
    "beam_is = RectangularSectionGeometry(b=bw, h=h_is)\n",
    "A_beam_is = beam_is.area\n",
    "Iz_beam_is = beam_is.moment_of_inertia_xx * 0.5\n",
    "Avy_beam_is = beam_is.shear_area_2 * 0.5\n",
    "\n",
    "beam_or = RectangularSectionGeometry(b=bw, h=h_or)\n",
    "A_beam_or = beam_or.area\n",
    "Iz_beam_or = beam_or.moment_of_inertia_xx * 0.5\n",
    "Avy_beam_or = beam_or.shear_area_2 * 0.5\n",
    "\n",
    "col_is = RectangularSectionGeometry(b=bc_is, h=hc_is)\n",
    "A_col_is = col_is.area\n",
    "Iz_col_is = col_is.moment_of_inertia_xx * 0.5\n",
    "Avy_col_is = col_is.shear_area_2 * 0.5\n",
    "\n",
    "col_or = RectangularSectionGeometry(b=bc_or, h=hc_or)\n",
    "A_col_or = col_or.area\n",
    "Iz_col_or = col_or.moment_of_inertia_xx * 0.5\n",
    "Avy_col_or = col_or.shear_area_2 * 0.5\n"
   ]
  },
  {
   "cell_type": "markdown",
   "id": "863923f4-9e4b-4238-ac5c-01c81c34bd9f",
   "metadata": {},
   "source": [
    "### Ανάλυση στο OpenSees για υπολογισμό ιδιομορφών"
   ]
  },
  {
   "cell_type": "code",
   "execution_count": 7,
   "id": "76603148-9ca8-4fb6-bb3e-4d52f21fd93d",
   "metadata": {},
   "outputs": [],
   "source": [
    "ops.wipe()\n",
    "ops.model('basic', '-ndm', 2, '-ndf', 3)\n",
    "\n",
    "E = Ecm * 10**6\n",
    "U = 0.2\n",
    "G = E / (2.0*(1.0+U))\n",
    "\n",
    "ops.node(1, 0., 0.)\n",
    "ops.node(2, 0., H_is)\n",
    "ops.node(3, 0., H_is+H_or)\n",
    "ops.node(4, 0., H_is+2*H_or)\n",
    "ops.node(5, L, 0.)\n",
    "ops.node(6, L, H_is)\n",
    "ops.node(7, L, H_is+H_or)\n",
    "ops.node(8, L, H_is+2*H_or)\n",
    "ops.node(9, 2*L, 0.)\n",
    "ops.node(10, 2*L, H_is)\n",
    "ops.node(11, 2*L, H_is+H_or)\n",
    "ops.node(12, 2*L, H_is+2*H_or)\n",
    "\n",
    "ops.fix(1, 1, 1, 1)\n",
    "ops.fix(5, 1, 1, 1)\n",
    "ops.fix(9, 1, 1, 1)\n",
    "\n",
    "ops.geomTransf('Linear', 1)\n",
    "\n",
    "ops.mass(int(2), mass, 1.0e-10, 1.0e-10)\n",
    "ops.mass(int(3), mass, 1.0e-10, 1.0e-10)\n",
    "ops.mass(int(4), mass, 1.0e-10, 1.0e-10)\n",
    "\n",
    "for node in [6, 10]:\n",
    "    ops.equalDOF(2, node, 1)\n",
    "for node in [7, 11]:\n",
    "    ops.equalDOF(3, node, 1)\n",
    "for node in [8, 12]:\n",
    "    ops.equalDOF(4, node, 1)\n",
    "\n",
    "# Στύλοι             \n",
    "ops.element('ElasticTimoshenkoBeam', 1, 1, 2, E, G, A_col_is, Iz_col_is, Avy_col_is, 1)  # , '-mass', 0., '-lMass')\n",
    "ops.element('ElasticTimoshenkoBeam', 2, 2, 3, E, G, A_col_or, Iz_col_or, Avy_col_or, 1)  # , '-mass', 0., '-lMass')\n",
    "ops.element('ElasticTimoshenkoBeam', 3, 3, 4, E, G, A_col_or, Iz_col_or, Avy_col_or, 1)  # , '-mass', 0., '-lMass')\n",
    "ops.element('ElasticTimoshenkoBeam', 4, 5, 6, E, G, A_col_is, Iz_col_is, Avy_col_is, 1)  # , '-mass', 0., '-lMass')\n",
    "ops.element('ElasticTimoshenkoBeam', 5, 6, 7, E, G, A_col_or, Iz_col_or, Avy_col_or, 1)  # , '-mass', 0., '-lMass')\n",
    "ops.element('ElasticTimoshenkoBeam', 6, 7, 8, E, G, A_col_or, Iz_col_or, Avy_col_or, 1)  # , '-mass', 0., '-lMass')\n",
    "ops.element('ElasticTimoshenkoBeam', 7, 9, 10, E, G, A_col_is, Iz_col_is, Avy_col_is, 1)  # , '-mass', 0., '-lMass')\n",
    "ops.element('ElasticTimoshenkoBeam', 8, 10, 11, E, G, A_col_or, Iz_col_or, Avy_col_or, 1)  # , '-mass', 0., '-lMass')\n",
    "ops.element('ElasticTimoshenkoBeam', 9, 11, 12, E, G, A_col_or, Iz_col_or, Avy_col_or, 1)  # , '-mass', 0., '-lMass')\n",
    "# Δοκοί\n",
    "ops.element('ElasticTimoshenkoBeam', 10, 2, 6, E, G, A_beam_is, Iz_beam_is, Avy_beam_is, 1)  # , '-mass', 0., '-lMass')\n",
    "ops.element('ElasticTimoshenkoBeam', 11, 3, 7, E, G, A_beam_or, Iz_beam_or, Avy_beam_or, 1)  # , '-mass', 0., '-lMass')  \n",
    "ops.element('ElasticTimoshenkoBeam', 12, 4, 8, E, G, A_beam_or, Iz_beam_or, Avy_beam_or, 1)  # , '-mass', 0., '-lMass')  \n",
    "ops.element('ElasticTimoshenkoBeam', 13, 6, 10, E, G, A_beam_is, Iz_beam_is, Avy_beam_is, 1)  # , '-mass', 0., '-lMass')\n",
    "ops.element('ElasticTimoshenkoBeam', 14, 7, 11, E, G, A_beam_or, Iz_beam_or, Avy_beam_or, 1)  # , '-mass', 0., '-lMass')  \n",
    "ops.element('ElasticTimoshenkoBeam', 15, 8, 12, E, G, A_beam_or, Iz_beam_or, Avy_beam_or, 1)  # , '-mass', 0., '-lMass')   \n",
    "             \n",
    "elem_type = {1: 'col',\n",
    "             2: 'col',\n",
    "             3: 'col',\n",
    "             4: 'col',\n",
    "             5: 'col',\n",
    "             6: 'col',\n",
    "             7: 'col',\n",
    "             8: 'col',\n",
    "             9: 'col',\n",
    "             10: 'beam',\n",
    "             11: 'beam',\n",
    "             12: 'beam',\n",
    "             13: 'beam',\n",
    "             14: 'beam',\n",
    "             15: 'beam'}\n",
    "\n",
    "numEigen = 1\n",
    "eigenValues = ops.eigen('-fullGenLapack', numEigen)\n",
    "\n",
    "_periods = []\n",
    "for i in range(0, numEigen):\n",
    "    lamb = eigenValues[i]\n",
    "    period = 2 * np.pi / np.sqrt(lamb)\n",
    "    _periods.append(period)\n",
    "    \n",
    "    eigen_vector = []\n",
    "    for mn in [2, 3, 4]: # self.model.master_nodes:\n",
    "        # print(f'eigen {i} mn {mn}')\n",
    "        eigen_vector.append(ops.nodeEigenvector(mn, i+1, 1))\n",
    "\n",
    "results_ele = []"
   ]
  },
  {
   "cell_type": "markdown",
   "id": "d31190fd-5cfc-4fea-912a-40fb7854e7ab",
   "metadata": {},
   "source": [
    "### Αποτελέσματα 1ης ιδιομοφής"
   ]
  },
  {
   "cell_type": "code",
   "execution_count": 8,
   "id": "836a2ad8-d7c5-4f98-9f83-859030f918aa",
   "metadata": {},
   "outputs": [
    {
     "name": "stdout",
     "output_type": "stream",
     "text": [
      "Θεμελιώδης ιδιοπερίοδος T1 = 0.934s\n",
      "Συνιστώσες 1ης ιδιομορφής (δε θα δείτε ακριβώς τα ίδια νούμερα, θα έχετε όμως τις ίδιες αναλογίες):\n",
      "['0.4389', '0.7865', '1.0000']\n"
     ]
    }
   ],
   "source": [
    "print(f'Θεμελιώδης ιδιοπερίοδος T{i+1} = {period:.3f}s')\n",
    "print('Συνιστώσες 1ης ιδιομορφής (δε θα δείτε ακριβώς τα ίδια νούμερα, θα έχετε όμως τις ίδιες αναλογίες):')\n",
    "print([f'{e:.4f}' for e in eigen_vector])"
   ]
  },
  {
   "cell_type": "markdown",
   "id": "6d1a24f4-8dc0-4280-adf0-77aa76c9a355",
   "metadata": {},
   "source": [
    "## Υπολογισμός σεισμικών δράσεων για τέμνουσα βάσης 100kN"
   ]
  },
  {
   "cell_type": "code",
   "execution_count": 9,
   "id": "26d4fe32-ade0-4250-bde9-1cb228846dc1",
   "metadata": {},
   "outputs": [],
   "source": [
    "# Sd_T = specEC8.Sd(period) * 9.81\n",
    "M = mass * 3.\n",
    "\n",
    "# if period <= 2*specEC8.TC:\n",
    "#     λ_ec8 = 0.85\n",
    "# else:\n",
    "#     λ_ec8 = 1.0\n",
    "    \n",
    "# Fb = M * Sd_T * λ_ec8\n",
    "Fb = 100\n",
    "\n",
    "eigen_vector_array = np.array(eigen_vector)\n",
    "mass_array = np.array([mass, mass, mass])"
   ]
  },
  {
   "cell_type": "code",
   "execution_count": 10,
   "id": "2ee21493-bd84-4253-8eab-1462c4c73398",
   "metadata": {},
   "outputs": [
    {
     "name": "stdout",
     "output_type": "stream",
     "text": [
      "Μάζα για το σύνολο του κτιρίου M = 154.67t\n",
      "Τέμνουσα βάσης Fb = 100.00kN\n"
     ]
    }
   ],
   "source": [
    "# print(f'Επιτάχυνση σχεδιασμού Sd(T) = {Sd_T:.3f}m/sec2')\n",
    "print(f'Μάζα για το σύνολο του κτιρίου M = {M:.2f}t')\n",
    "# print(f'λ = {λ_ec8}')\n",
    "print(f'Τέμνουσα βάσης Fb = {Fb:.2f}kN')"
   ]
  },
  {
   "cell_type": "markdown",
   "id": "78a68b9c-7418-4a8c-ac02-69e95719c51a",
   "metadata": {},
   "source": [
    "### Ιδιομορφικό μοντέλο φόρτισης"
   ]
  },
  {
   "cell_type": "code",
   "execution_count": 11,
   "id": "e6fc079f-f8b9-4a57-b201-5a6ecec90a7a",
   "metadata": {},
   "outputs": [],
   "source": [
    "Fi_modal = (eigen_vector_array * mass_array) * Fb /sum(eigen_vector_array * mass_array)"
   ]
  },
  {
   "cell_type": "code",
   "execution_count": 12,
   "id": "1ac4da01-801f-4a8a-8518-e1e358ee6e0b",
   "metadata": {},
   "outputs": [
    {
     "name": "stdout",
     "output_type": "stream",
     "text": [
      "F1 = 19.72kN\n",
      "F2 = 35.34kN\n",
      "F3 = 44.94kN\n"
     ]
    }
   ],
   "source": [
    "for _i, _fi in enumerate(Fi_modal):\n",
    "    print(f'F{_i+1} = {_fi:.2f}kN')"
   ]
  },
  {
   "cell_type": "markdown",
   "id": "e0a4e772-155c-47d8-85b4-b843f1eb56df",
   "metadata": {},
   "source": [
    "### Ομοιόμορφο μοντέλο φόρτισης"
   ]
  },
  {
   "cell_type": "code",
   "execution_count": 13,
   "id": "b526229e-e88c-48fb-8d9f-35928cb09e74",
   "metadata": {},
   "outputs": [],
   "source": [
    "Fi_uni = (mass_array) * Fb /sum(mass_array)"
   ]
  },
  {
   "cell_type": "code",
   "execution_count": 14,
   "id": "84175359-c0a9-47a9-9b92-04b3be45ccf1",
   "metadata": {},
   "outputs": [
    {
     "name": "stdout",
     "output_type": "stream",
     "text": [
      "F1 = 33.33kN\n",
      "F2 = 33.33kN\n",
      "F3 = 33.33kN\n"
     ]
    }
   ],
   "source": [
    "for _i, _fi in enumerate(Fi_uni):\n",
    "    print(f'F{_i+1} = {_fi:.2f}kN')"
   ]
  },
  {
   "cell_type": "markdown",
   "id": "53d7f9d9-8d23-47bb-9951-8ba13b97b0bf",
   "metadata": {},
   "source": [
    "## Υπολογισμός στοχευόμενης μετακίνησης"
   ]
  },
  {
   "cell_type": "code",
   "execution_count": 15,
   "id": "473c70f1-c461-4899-8830-8cfd7d3544a6",
   "metadata": {},
   "outputs": [],
   "source": [
    "C0 = 1.3\n",
    "C1 = 1.0\n",
    "if period < 0.1:\n",
    "    C2 = 1.3\n",
    "elif period > specEC8.TC:\n",
    "    C2 = 1.1\n",
    "else:\n",
    "    interp = interp1d([0.1, specEC8.TC], [1.3, 1.1])\n",
    "    C2 = interp(period)\n",
    "\n",
    "C3 = 1.0\n",
    "\n",
    "Te = period\n",
    "Se = specEC8.Se(period) * 9.81\n",
    "\n",
    "δt = C0*C1*C2*C3*Te**2/(4*np.pi**2)*Se"
   ]
  },
  {
   "cell_type": "code",
   "execution_count": 16,
   "id": "01d78420-def1-443f-96c7-6659294beba5",
   "metadata": {},
   "outputs": [
    {
     "name": "stdout",
     "output_type": "stream",
     "text": [
      "C0 = 1.30\n",
      "C1 = 1.00\n",
      "C2 = 1.10\n",
      "C3 = 1.00\n",
      "Te = 0.934sec\n",
      "Se = 6.519m/sec2\n",
      "δt = 0.206m\n"
     ]
    }
   ],
   "source": [
    "print(f'C0 = {C0:.2f}')\n",
    "print(f'C1 = {C1:.2f}')\n",
    "print(f'C2 = {C2:.2f}')\n",
    "print(f'C3 = {C3:.2f}')\n",
    "print(f'Te = {Te:.3f}sec')\n",
    "print(f'Se = {Se:.3f}m/sec2')\n",
    "print(f'δt = {δt:.3f}m')"
   ]
  },
  {
   "cell_type": "code",
   "execution_count": null,
   "id": "9b308521-9310-4402-a84b-b4d9373c7add",
   "metadata": {},
   "outputs": [],
   "source": []
  }
 ],
 "metadata": {
  "kernelspec": {
   "display_name": "Python 3 (ipykernel)",
   "language": "python",
   "name": "python3"
  },
  "language_info": {
   "codemirror_mode": {
    "name": "ipython",
    "version": 3
   },
   "file_extension": ".py",
   "mimetype": "text/x-python",
   "name": "python",
   "nbconvert_exporter": "python",
   "pygments_lexer": "ipython3",
   "version": "3.8.12"
  }
 },
 "nbformat": 4,
 "nbformat_minor": 5
}
