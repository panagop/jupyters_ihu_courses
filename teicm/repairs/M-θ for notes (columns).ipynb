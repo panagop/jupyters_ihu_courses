{
 "cells": [
  {
   "cell_type": "markdown",
   "metadata": {},
   "source": [
    "# Υπολογισμός διαγραμμάτων Μ-θ σύμφωνα με τον ΚΑΝ.ΕΠΕ."
   ]
  },
  {
   "cell_type": "code",
   "execution_count": 1,
   "metadata": {
    "collapsed": false,
    "inputHidden": false,
    "jupyter": {
     "outputs_hidden": false
    },
    "outputHidden": false
   },
   "outputs": [],
   "source": [
    "#!pip install numpy\n",
    "#!pip install pandas\n",
    "#!pip install sympy\n",
    "#!pip install matplotlib"
   ]
  },
  {
   "cell_type": "code",
   "execution_count": 1,
   "metadata": {},
   "outputs": [],
   "source": [
    "import numpy as np\n",
    "import pandas as pd\n",
    "import matplotlib.pyplot as plt\n",
    "from sympy.solvers import solve\n",
    "from sympy import Symbol"
   ]
  },
  {
   "cell_type": "markdown",
   "metadata": {
    "nbpresent": {
     "id": "9e5a69e0-f4c0-40f3-a6fe-b9c46a89f1aa"
    }
   },
   "source": [
    "## Δεδομένα παραδείγματος\n",
    "\n",
    "Δίνεται η διατομή του σχήματος που βρίσκεται στους ακραίους στύλους του ισογείου του φορέα των σημειώσεων.\n",
    "\n",
    "![Imgur](https://i.imgur.com/TyiAeHe.png)\n",
    "\n",
    "\n",
    "### Διαστάσεις της διατομής\n",
    "\n",
    "$b=0.45m$\n",
    "\n",
    "$h=0.45m$\n",
    "\n",
    "### Υλικά\n",
    "\n",
    "$f_c= 16MPa = 16000kPa$\n",
    "\n",
    "$E_c=25.3GPa=25300000kPa$\n",
    "\n",
    "$f_y= 500MPa = 500000kPa$\n",
    "\n",
    "$E_s= 200GPa = 200000000kPa$\n",
    "\n",
    "$f_{yw}= 500MPa=500000kPa$\n",
    "\n",
    "### Οπλισμός\n",
    "\n",
    "$c_{nom}=30mm = 0.03m$\n",
    "\n",
    "$\\emptyset_{L}=18mm = 0.018m$\n",
    "\n",
    "$A_s = 7.63cm^2$ για 3∅18\n",
    "\n",
    "$\\emptyset_{L}^{'}=18mm = 0.018m$\n",
    "\n",
    "$A_s = 7.63cm^2$ για 3∅18\n",
    "\n",
    "$\\emptyset_{Lv}=0mm = 0m$ Δεν υπάρχει ενδιάμεσος οπλισμός στη δοκό\n",
    "\n",
    "$A_{sv} = 5.09cm^2$ για 2∅18\n",
    "\n",
    "$\\emptyset_{d}=0mm = 0m$ Δεν υπάρχει δισδιαγώνιος οπλισμός στη δοκό\n",
    "\n",
    "$A_{sd} = 0cm^2$ \n",
    "\n",
    "$\\emptyset_{w}=8mm = 0.008m$\n",
    "\n",
    "$A_{sw} = 1.51cm^2$ για 3τμητους ∅8\n",
    "\n",
    "$s=120mm=0.12m$ Η απόσταση μεταξύ των συνδετήρων\n",
    "\n",
    "### Διαστάσεις του δομικού στοιχείου\n",
    "\n",
    "$L_s = 1.70m$ το μήκος διάτμησης\n",
    "\n",
    "\n"
   ]
  },
  {
   "cell_type": "markdown",
   "metadata": {},
   "source": [
    "## Δεδομένα χρήστη\n",
    "\n",
    "Στο επόμενο κελί βάζετε τα δεδομένα σας. Προσοχή στις μονάδες"
   ]
  },
  {
   "cell_type": "code",
   "execution_count": 2,
   "metadata": {},
   "outputs": [],
   "source": [
    "# Διαστάσεις της διατομής\n",
    "b = 0.45 # το πλάτος της θλιβόμενης ζώνης[m] \n",
    "h = 0.45 # το ύψος της διατομής[m]\n",
    "\n",
    "\n",
    "# Υλικά\n",
    "fc = 16000.0      # η θλιπτική αντοχή του σκυροδέματος[kPa] \n",
    "Ec = 25300000.0   # το μέτρο ελαστικότητας του σκυροδέματος [kPa] \n",
    "fy = 500000.0     # το όριο διαρροής του χάλυβα [kPa] \n",
    "Es = 200000000.0  # το μέτρο ελαστικότητας του χάλυβα [kPa] \n",
    "fyw = 500000.0    # το όριο διαρροής του χάλυβα των συνδετήρων [kPa]\n",
    "\n",
    "\n",
    "\n",
    "# Οπλισμός\n",
    "## Επικάλυψη\n",
    "cnom = 0.03       # [m] \n",
    "## Διαμήκης \n",
    "### Εφελκυόμενος\n",
    "nL = 3            # Ο αριθτμός των εφελκυόμενων ράβδων\n",
    "ΦL = 0.018        # Η διάμετρος των εφελκυόμενων ράβδων [m] \n",
    "### Θλιβόμενος\n",
    "nL2 = 3           # Ο αριθτμός των θλιβόμενων ράβδων\n",
    "ΦL2 = 0.018       # Η διάμετρος των θλιβόμενων ράβδων [m] \n",
    "### Ενδιάμεσος\n",
    "nLv = 2           # Ο αριθτμός των ενδιάμεσων ράβδων\n",
    "ΦLv = 0.018       # Η διάμετρος των ενδιάμεσων ράβδων [m] \n",
    "## Δισδιαγώνιος \n",
    "nd = 0            # Ο αριθτμός των δισδιαγώνιων ράβδων\n",
    "Φd = 0.           # Η διάμετρος των δισδιαγώνιων ράβδων [m] \n",
    "## Εγκάρσιος\n",
    "nw = 3            # Ο αριθμός των \"τμήσεων\" των συνδετήρων (πχ. 2 για 2τμητους)\n",
    "Φw = 0.008        # Η διάμετρος των συνδετήρων [m] \n",
    "s = 0.12          # Η απόσταση μεταξύ των συνδετήρων [m] \n",
    "# Asw=1.01cm2Asw=1.01cm2 για 2τμητους ∅8\n",
    "\n",
    "# Αξονικό φορτίο\n",
    "N = 299.77            # Αξονικό φορτίο για το συνδυασμό G+0.3Q [kN] (ή 1.1G+0.3Q)\n",
    "\n",
    "# Μήκος διάτμησης\n",
    "Ls = 1.7        # [m]\n",
    "\n",
    "# Αποστάσεις bi περίσφιξης [m]\n",
    "# Υπολογίζονται με το χέρι (όχι αυτόματα)\n",
    "bi = np.array([0.191, 0.191, 0.191, 0.191, 0.191, 0.191, 0.191, 0.191]) "
   ]
  },
  {
   "cell_type": "markdown",
   "metadata": {},
   "source": [
    "## Συναρτήσεις για τη δεδομένα της διατομής και τα ποσοστά οπλισμού\n",
    "\n",
    "Δεν απαιτείται να τις τροποποιήσετε"
   ]
  },
  {
   "cell_type": "code",
   "execution_count": 3,
   "metadata": {},
   "outputs": [],
   "source": [
    "# Υπολογισμός As για n ράβδους διαμέτρου Φ. Δουλεύει και με numpy arrays\n",
    "def As_for_n_Φ(n, Φ):\n",
    "    if isinstance(n, np.ndarray):\n",
    "        return sum(n * Φ**2 * np.pi/4)\n",
    "    else:\n",
    "        return (n * Φ**2 * np.pi/4)\n",
    "\n",
    "# Υπολογισμός d1\n",
    "def d1calc(c, dL, dw):\n",
    "    return c + dw + 0.5 * dL\n",
    "\n",
    "# Ποσοστό οπλισμού\n",
    "def ρcalc(A, b, d):\n",
    "    return A / (b * d)\n",
    "\n",
    "# Μηχανικό ποσοστό οπλισμού\n",
    "def ωcalc(A: float, b: float, d: float, fy: float, fc: float):\n",
    "    return A / (b * d) * (fy / fc)\n",
    "\n",
    "# Ποσοστό εγκάρσιου οπλισμού ΚΑΝ.ΕΠΕ.\n",
    "def ρscalc(A, b, s):\n",
    "    return A / (b * s)\n",
    "\n",
    "# Ποσοστό εγκάρσιου οπλισμού EC2\n",
    "def ρwcalc(A, b, s, α):\n",
    "    return A / (b * s * np.sin(α))"
   ]
  },
  {
   "cell_type": "markdown",
   "metadata": {},
   "source": [
    "## Συναρτήσεις για τον υπολογισμό της καμπυλότητας και της ροπής διαρροής"
   ]
  },
  {
   "cell_type": "code",
   "execution_count": 4,
   "metadata": {
    "nbpresent": {
     "id": "6e86f40d-c6fb-4740-9a3e-5771b7eb17a6"
    }
   },
   "outputs": [],
   "source": [
    "def ξycalc(α, A, B):\n",
    "    return (α**2 * A**2 + 2 * α * B)**0.5 - α*A \n",
    "    \n",
    "def Mycalc(b, d, φy, Ec, ξy, δ2, ρ1, ρ2, ρv, Es):\n",
    "    return b * d**3 * φy * (0.5 * Ec * ξy**2 * (0.5*(1 + δ2) -ξy/3) + ((1 - ξy) * ρ1 + (ξy - δ2) * ρ2 + ρv * (1 - δ2)/6)*(1-δ2)*Es/2)\n",
    "\n",
    "# (0.5*Ec*ξy**2)*(0.5*(1+δtonos)-ξy/3)+((1-ξy)*ρ1+(ξy-δtonos)* ρ2+ρv*(1-δtonos)/6)*(1-δtonos)*Es/2)  \n",
    "    \n",
    "def ABξφ_steel(ρ, ρ2, ρv, N, b, d, δ2, fy, α, Es):\n",
    "    A = ρ + ρ2 + ρv + N / (b * d * fy)\n",
    "    B = ρ + ρ2 * δ2 + 0.5 * ρv * (1 + δ2) + N / (b * d * fy)\n",
    "    ξy = ξycalc(α, A, B)\n",
    "    φy = fy / (Es * (1 - ξy) * d)\n",
    "    return A, B, ξy, φy\n",
    "\n",
    "def ABξφ_conc(ρ, ρ2, ρv, N, b, d, δ2, α, Ec, fc):\n",
    "    A = ρ + ρ2 + ρv - N / (1.8 * α * b * d * fc)\n",
    "    B = ρ + ρ2 * δ2 + 0.5 * ρv * (1+δ2)\n",
    "    ξy = ξycalc(α, A, B)\n",
    "    φy = 1.8 * fc / (Ec * ξy * d)\n",
    "    return A, B, ξy, φy"
   ]
  },
  {
   "cell_type": "markdown",
   "metadata": {
    "nbpresent": {
     "id": "ae1f40f9-048d-495a-bad8-3aa3871639e1"
    }
   },
   "source": [
    "## Συναρτήσεις για τον υπολογισμό της στροφής διαρροής "
   ]
  },
  {
   "cell_type": "code",
   "execution_count": 5,
   "metadata": {},
   "outputs": [],
   "source": [
    "def VRc(ρtot, b, d, fc, N, Ac):\n",
    "    # Ο ΚΑΝ.ΕΠΕ. μάλλον έχει λάθος σχέση. Πολύ μεγάλα νούμερα και μάλλον τάσεις. Πολλαπλασιασμό με b*d ίσως\n",
    "    # fc [MPa]\n",
    "    # N [kN] θετικ΄η η θλ΄ίψη\n",
    "    # διαστάσεις σε [m]\n",
    "    v1 = max(180. * (100. * ρtot)**(1./3.),\n",
    "             35. * (1. + (0.2/d)**0.5)**0.5 * fc**(1./6.)\n",
    "            )\n",
    "    \n",
    "    return (v1 * (1 + (0.2/d)**0.5) * fc**(1/3) + 0.15 * N / Ac)* b * d\n",
    "    \n",
    "def VRdcEC2(CRdc, Asl, fck, σcp, bw, d):\n",
    "    ρl = min(Asl / (bw * d), 0.02)\n",
    "    k = min(1 + (200.0 / d)**0.5, 2.0)\n",
    "    vmin = 0.035 * k**1.5 * fck**0.5\n",
    "    k1 = 0.15\n",
    "\n",
    "    VRdc1 = (CRdc * k * ((100 * ρl * fck)**(1/3)) + k1 * σcp) * bw * d\n",
    "    VRdc2 = (vmin + k1 * σcp) * bw * d\n",
    "\n",
    "    _VRdc = max(VRdc1, VRdc2)   \n",
    "    return ρl, k, vmin, k1, VRdc1, VRdc2, _VRdc\n",
    "\n",
    "def θycalc(φy, Ls, av, z, h, db, fy, fc):\n",
    "    # (fy και fc σε MPa)\n",
    "    fy /= 1000\n",
    "    fc /= 1000\n",
    "    return φy * (Ls + av*z) / 3 + 0.0014 * (1 + 1.5 * h/Ls) + φy*db*fy / (8 * fc**0.5)\n",
    "\n"
   ]
  },
  {
   "cell_type": "markdown",
   "metadata": {},
   "source": [
    "## Συναρτήσεις για τον υπολογισμό της στροφής αστοχίας\n"
   ]
  },
  {
   "cell_type": "code",
   "execution_count": 6,
   "metadata": {},
   "outputs": [],
   "source": [
    "def θumcalc(ν, ωtot, ω2, αs, α, ρs, ρd, fc, fyw):\n",
    "    part1 = (fc * max(0.01, ω2) / max(0.01, (ωtot-ω2)))**0.225\n",
    "    part2 = αs**0.35\n",
    "    part3 = 25.0**(α * ρs * fyw / fc)\n",
    "    part4 = 1.25**(100 * ρd)\n",
    "    return 0.016 * 0.3**ν * part1 * part2 * part3 * part4\n",
    "\n",
    "\n",
    "def αcalc(sh, bc, hc, Σbi2):\n",
    "    return (1-sh/(2*bc))*(1-sh/(2*hc))*(1-Σbi2/(6*bc*hc))"
   ]
  },
  {
   "cell_type": "markdown",
   "metadata": {},
   "source": [
    "## Διατμητική αντοχή"
   ]
  },
  {
   "cell_type": "code",
   "execution_count": 7,
   "metadata": {},
   "outputs": [],
   "source": [
    "# Τέμνουσα που παραλαμβάνουν οι συνδετήρες\n",
    "def Vwcalc(ρw, bw, z, fyw):\n",
    "    return ρw * bw * z * fyw\n",
    "\n",
    "# Τέμνουσα αντοχής\n",
    "def VRcalc(h, x, Ls , N, Ac, fc, μθpl, ρtot, αs, Vw):\n",
    "    # Η σχέση θέλει MN και m. Αποτέλεσμα σε MN\n",
    "    # Θετική η θλίψη, 0 ο εφελκυσμός\n",
    "    if N < 0: N = 0\n",
    "    part1 = ((h-x)/(2*Ls)) * min(N, 0.55 * Ac * fc)\n",
    "    part2 = 1.0 - 0.05 * min(5, μθpl)\n",
    "    part3 = 0.16 * max(0.5, 100 * ρtot)*(1 - 0.16 * min(5, αs)) * fc**0.5 * Ac + Vw\n",
    "    return part1 + part2 * part3"
   ]
  },
  {
   "cell_type": "markdown",
   "metadata": {},
   "source": [
    "# Αποτελέσματα"
   ]
  },
  {
   "cell_type": "code",
   "execution_count": 8,
   "metadata": {},
   "outputs": [
    {
     "name": "stdout",
     "output_type": "stream",
     "text": [
      "Λόγος διάτμησης: αs = 3.78\n"
     ]
    }
   ],
   "source": [
    "αs = Ls / h\n",
    "print(f'Λόγος διάτμησης: αs = {αs:.2f}')"
   ]
  },
  {
   "cell_type": "markdown",
   "metadata": {},
   "source": [
    "## Εμβαδά οπλισμού"
   ]
  },
  {
   "cell_type": "code",
   "execution_count": 9,
   "metadata": {},
   "outputs": [
    {
     "name": "stdout",
     "output_type": "stream",
     "text": [
      "Εμβαδό του εφελκυόμενου οπλισμού: As = 0.000763m2 = 7.63cm2\n",
      "Εμβαδό του θλιβόμενου οπλισμού: As2 = 0.000763m2 = 7.63cm2\n",
      "Εμβαδό του ενδιάμεσου οπλισμού: Asv = 0.000509m2 = 5.09cm2\n",
      "Εμβαδό του δισδιαγώνιου οπλισμού: Asd = 0.000000m2 = 0.00cm2\n",
      "Εμβαδό του εγκάρσιου οπλισμού: Asw = 0.000151m2 = 1.51cm2\n",
      "Συνολικό εμβαδό του διαμήκους οπλισμού: Astot = 0.002036m2 = 20.36cm2\n"
     ]
    }
   ],
   "source": [
    "As = As_for_n_Φ(nL, ΦL)\n",
    "print(f'Εμβαδό του εφελκυόμενου οπλισμού: As = {As:.6f}m2 = {10000*As:.2f}cm2')\n",
    "\n",
    "As2 = As_for_n_Φ(nL2, ΦL2)\n",
    "print(f'Εμβαδό του θλιβόμενου οπλισμού: As2 = {As2:.6f}m2 = {10000*As2:.2f}cm2')\n",
    "\n",
    "Asv = As_for_n_Φ(nLv, ΦLv)\n",
    "print(f'Εμβαδό του ενδιάμεσου οπλισμού: Asv = {Asv:.6f}m2 = {10000*Asv:.2f}cm2')\n",
    "\n",
    "Asd = As_for_n_Φ(nd, Φd)\n",
    "print(f'Εμβαδό του δισδιαγώνιου οπλισμού: Asd = {Asd:.6f}m2 = {10000*Asd:.2f}cm2')\n",
    "\n",
    "Asw = As_for_n_Φ(nw, Φw)\n",
    "print(f'Εμβαδό του εγκάρσιου οπλισμού: Asw = {Asw:.6f}m2 = {10000*Asw:.2f}cm2')\n",
    "\n",
    "Astot = As + As2 + Asv\n",
    "print(f'Συνολικό εμβαδό του διαμήκους οπλισμού: Astot = {Astot:.6f}m2 = {10000*Astot:.2f}cm2')"
   ]
  },
  {
   "cell_type": "markdown",
   "metadata": {},
   "source": [
    "## Γεωμετρικά στοιχεία οπλισμού"
   ]
  },
  {
   "cell_type": "code",
   "execution_count": 10,
   "metadata": {},
   "outputs": [
    {
     "name": "stdout",
     "output_type": "stream",
     "text": [
      "Συνολική επικάλυψη εφελκυόμενου: d1=0.047m\n",
      "Συνολική επικάλυψη θλιβόμενου: d`=d2=0.047m\n",
      "Στατικό ύψος: d=0.403m\n",
      "Λόγος δ`=0.117\n",
      "Απόσταση των συνδετήρων: sh=0.120m\n",
      "Παρατήρηση: Σε παλιότερες εκδόσεις του ΚΑΝ.ΕΠΕ. ως sh ορίζονταν η καθαρή απόσταση s-Φw\n",
      "\n",
      "Ο μοχλοβραχίονας εσωτερικών δυνάμεων: z=0.356m\n"
     ]
    }
   ],
   "source": [
    "d1 = d1calc(cnom, ΦL, Φw)\n",
    "print(f'Συνολική επικάλυψη εφελκυόμενου: d1={d1:.3f}m')\n",
    "\n",
    "d2 = d1calc(cnom, ΦL2, Φw)\n",
    "print(f'Συνολική επικάλυψη θλιβόμενου: d`=d2={d2:.3f}m')\n",
    "\n",
    "d = h - d1\n",
    "print(f'Στατικό ύψος: d={d:.3f}m')\n",
    "\n",
    "δ2 = d2/d\n",
    "print(f'Λόγος δ`={δ2:.3f}')\n",
    "\n",
    "sh = s  #- Φw\n",
    "print(f'Απόσταση των συνδετήρων: sh={sh:.3f}m')\n",
    "print('Παρατήρηση: Σε παλιότερες εκδόσεις του ΚΑΝ.ΕΠΕ. ως sh ορίζονταν η καθαρή απόσταση s-Φw')\n",
    "print('')\n",
    "z = d - d2\n",
    "print(f'Ο μοχλοβραχίονας εσωτερικών δυνάμεων: z={z:.3f}m')"
   ]
  },
  {
   "cell_type": "markdown",
   "metadata": {},
   "source": [
    "## Ποσοστά οπλισμού"
   ]
  },
  {
   "cell_type": "code",
   "execution_count": 11,
   "metadata": {},
   "outputs": [
    {
     "name": "stdout",
     "output_type": "stream",
     "text": [
      "Ποσοστό του εφελκυόμενου οπλισμού: ρ = 0.00421 = 4.21‰\n",
      "Μηχανικό ποσοστό του εφελκυόμενου οπλισμού: ω = 0.132\n",
      "\n",
      "Ποσοστό του θλιβόμενου οπλισμού: ρ` = ρ2 = 0.00421 = 4.21‰\n",
      "Μηχανικό ποσοστό του θλιβόμενου οπλισμού: ω` = ω2 = 0.132\n",
      "\n",
      "Ποσοστό του ενδιάμεσου οπλισμού: ρv = 0.00281 = 2.81‰\n",
      "Μηχανικό ποσοστό του ενδιάμεσου οπλισμού: ωv = 0.088\n",
      "\n",
      "Συνολικό ποσοστό του διαμήκους οπλισμού: ρtot = 0.01123 = 11.23‰\n",
      "Συνολικό μηχανικό ποσοστό του διαμήκους οπλισμού: ωtot = 0.351\n",
      "\n",
      "Ποσοστό του δισδιαγώνιου οπλισμού: ρd = 0.00000 = 0.00‰\n",
      "Μηχανικό ποσοστό του δισδιαγώνιου οπλισμού: ωd = 0.000\n",
      "\n",
      "Ποσοστό του εγκάρσιου οπλισμού (σχέση ΚΑΝ.ΕΠΕ.): ρs = 0.00279 = 2.79‰\n",
      "Ποσοστό του εγκάρσιου οπλισμού (σχέση EC2): ρw = 0.00279 = 2.79‰\n"
     ]
    }
   ],
   "source": [
    "ρ = ρcalc(As, b, d)\n",
    "ω = ωcalc(As, b, d, fy, fc)\n",
    "print(f'Ποσοστό του εφελκυόμενου οπλισμού: ρ = {ρ:.5f} = {1000*ρ:.2f}‰')\n",
    "print(f'Μηχανικό ποσοστό του εφελκυόμενου οπλισμού: ω = {ω:.3f}')\n",
    "print()\n",
    "\n",
    "ρ2 = ρcalc(As2, b, d)\n",
    "ω2 = ωcalc(As2, b, d, fy, fc)\n",
    "print(f'Ποσοστό του θλιβόμενου οπλισμού: ρ` = ρ2 = {ρ2:.5f} = {1000*ρ2:.2f}‰')\n",
    "print(f'Μηχανικό ποσοστό του θλιβόμενου οπλισμού: ω` = ω2 = {ω2:.3f}')\n",
    "print()\n",
    "\n",
    "ρv = ρcalc(Asv, b, d)\n",
    "ωv = ωcalc(Asv, b, d, fy, fc)\n",
    "print(f'Ποσοστό του ενδιάμεσου οπλισμού: ρv = {ρv:.5f} = {1000*ρv:.2f}‰')\n",
    "print(f'Μηχανικό ποσοστό του ενδιάμεσου οπλισμού: ωv = {ωv:.3f}')\n",
    "print()\n",
    "\n",
    "ρtot = ρ + ρ2 + ρv\n",
    "ωtot = ω + ω2 + ωv\n",
    "print(f'Συνολικό ποσοστό του διαμήκους οπλισμού: ρtot = {ρtot:.5f} = {1000*ρtot:.2f}‰')\n",
    "print(f'Συνολικό μηχανικό ποσοστό του διαμήκους οπλισμού: ωtot = {ωtot:.3f}')\n",
    "print()\n",
    "\n",
    "ρd = ρcalc(Asd, b, d)\n",
    "ωd = ωcalc(Asd, b, d, fy, fc)\n",
    "print(f'Ποσοστό του δισδιαγώνιου οπλισμού: ρd = {ρd:.5f} = {1000*ρd:.2f}‰')\n",
    "print(f'Μηχανικό ποσοστό του δισδιαγώνιου οπλισμού: ωd = {ωd:.3f}')\n",
    "print()\n",
    "\n",
    "ρs = ρscalc(Asw, b, sh)\n",
    "print(f'Ποσοστό του εγκάρσιου οπλισμού (σχέση ΚΑΝ.ΕΠΕ.): ρs = {ρs:.5f} = {1000*ρs:.2f}‰')\n",
    "\n",
    "ρw = ρwcalc(Asw, b, s, np.pi/2)\n",
    "print(f'Ποσοστό του εγκάρσιου οπλισμού (σχέση EC2): ρw = {ρw:.5f} = {1000*ρw:.2f}‰')"
   ]
  },
  {
   "cell_type": "markdown",
   "metadata": {},
   "source": [
    "## Υπολογισμός της καμπυλότητας και της ροπής διαρροής"
   ]
  },
  {
   "cell_type": "code",
   "execution_count": 12,
   "metadata": {},
   "outputs": [
    {
     "name": "stdout",
     "output_type": "stream",
     "text": [
      "α = 7.905\n"
     ]
    }
   ],
   "source": [
    "α = Es/Ec\n",
    "print(f'α = {α:.3f}')"
   ]
  },
  {
   "cell_type": "markdown",
   "metadata": {},
   "source": [
    "### Διαρροή λόγω χάλυβα"
   ]
  },
  {
   "cell_type": "code",
   "execution_count": 13,
   "metadata": {},
   "outputs": [
    {
     "name": "stdout",
     "output_type": "stream",
     "text": [
      "A = 0.01453\n",
      "B = 0.00957\n",
      "ξy = 0.291\n",
      "φy = 0.00875m-1\n"
     ]
    }
   ],
   "source": [
    "A_steel, B_steel, ξy_steel, φy_steel = ABξφ_steel(ρ, ρ2, ρv, N, b, d, δ2, fy, α, Es)\n",
    "print(f'A = {A_steel:.5f}')\n",
    "print(f'B = {B_steel:.5f}')\n",
    "print(f'ξy = {ξy_steel:.3f}')\n",
    "print(f'φy = {φy_steel:.5f}m-1')"
   ]
  },
  {
   "cell_type": "markdown",
   "metadata": {},
   "source": [
    "### Διαρροή λόγω μη-γραμμικότητας των παραμορφώσεων του θλιβόµενου σκυροδέματος"
   ]
  },
  {
   "cell_type": "code",
   "execution_count": 14,
   "metadata": {},
   "outputs": [
    {
     "name": "stdout",
     "output_type": "stream",
     "text": [
      "A = 0.00397\n",
      "B = 0.00627\n",
      "ξy = 0.285\n",
      "φy = 0.00991m-1\n"
     ]
    }
   ],
   "source": [
    "A_conc, B_conc, ξy_conc, φy_conc = ABξφ_conc(ρ, ρ2, ρv, N, b, d, δ2, α, Ec, fc)\n",
    "print(f'A = {A_conc:.5f}')\n",
    "print(f'B = {B_conc:.5f}')\n",
    "print(f'ξy = {ξy_conc:.3f}')\n",
    "print(f'φy = {φy_conc:.5f}m-1')"
   ]
  },
  {
   "cell_type": "markdown",
   "metadata": {},
   "source": [
    "### Τελικές τιμές στη διαρροή"
   ]
  },
  {
   "cell_type": "code",
   "execution_count": 15,
   "metadata": {
    "scrolled": true
   },
   "outputs": [
    {
     "name": "stdout",
     "output_type": "stream",
     "text": [
      "Παρατηρείται ότι προηγείται η διαρροή λόγω χάλυβα, οπότε τελικά:\n",
      "ξy = 0.291\n",
      "xy = 0.117m (Το ύψος της θλιβόμενης ζώνης στη διαρροή)\n",
      "φy = 0.00875m-1\n",
      "My = 221.16kNm\n"
     ]
    }
   ],
   "source": [
    "if φy_steel<φy_conc:\n",
    "    ξy = ξy_steel\n",
    "    φy = φy_steel\n",
    "    verdict = 'χάλυβα'\n",
    "else:\n",
    "    ξy = ξy_conc\n",
    "    φy = φy_conc\n",
    "    verdict = 'μη-γραμμικότητας των παραμορφώσεων του θλιβόµενου σκυροδέματος'\n",
    "\n",
    "My = Mycalc(b, d, φy, Ec, ξy, δ2, ρ, ρ2, ρv, Es)\n",
    "    \n",
    "xy = ξy * d\n",
    "\n",
    "print(f'Παρατηρείται ότι προηγείται η διαρροή λόγω {verdict}, οπότε τελικά:')\n",
    "print(f'ξy = {ξy:.3f}')\n",
    "print(f'xy = {xy:.3f}m (Το ύψος της θλιβόμενης ζώνης στη διαρροή)')\n",
    "print(f'φy = {φy:.5f}m-1')\n",
    "print(f'My = {My:.2f}kNm')"
   ]
  },
  {
   "cell_type": "code",
   "execution_count": 16,
   "metadata": {},
   "outputs": [
    {
     "name": "stdout",
     "output_type": "stream",
     "text": [
      "φy = 0.00961m-1\n",
      "φy = 0.00943m-1\n"
     ]
    }
   ],
   "source": [
    "# Προσεγγιστικές σχέσεις ΚΑΝ.ΕΠΕ. (δε χρησιμοποιούνται στη συνέχεια)\n",
    "print(f'φy = {1.73* fy /(Es *h):.5f}m-1')\n",
    "print(f'φy = {1.52* fy /(Es *d):.5f}m-1')"
   ]
  },
  {
   "cell_type": "markdown",
   "metadata": {},
   "source": [
    "## Υπολογισμός της στροφής διαρροής"
   ]
  },
  {
   "cell_type": "markdown",
   "metadata": {},
   "source": [
    "### Έλεγχος τέμνουσας λοξής ρηγμάτωσης - Υπολογισμός αv"
   ]
  },
  {
   "cell_type": "code",
   "execution_count": 17,
   "metadata": {},
   "outputs": [
    {
     "name": "stdout",
     "output_type": "stream",
     "text": [
      "ρl = 0.00421\n",
      "k = 1.704\n",
      "vmin = 0.312\n",
      "VRdc (1η σχέση EC2) = 145344.0N\n",
      "VRdc (2η σχέση EC2) = 96766.7N\n",
      "V_kanepe = 185.98kN\n",
      "Vdc = 185.98kN\n"
     ]
    }
   ],
   "source": [
    "# def VRc(ρtot, d, fc, N, Ac):\n",
    "# print(VRc(ρtot, d, fc/1000, N, b*d))\n",
    "\n",
    "# Χρησιμοποιείται η σχέση του EC2. Προσοχή στις μονάδες, θέλει [N], [mm]\n",
    "V_EC2 = VRdcEC2(0.18, As*10**6, fc/1000, 0.001*N/(b*h), 1000*b, 1000*d)\n",
    "V_kanepe = VRc(ρtot, b, d, fc/1000, N, b*h)\n",
    "\n",
    "# VRc = V_EC2[6]/1000.\n",
    "VRc = V_kanepe\n",
    "\n",
    "print(f'ρl = {V_EC2[0]:.5f}')\n",
    "print(f'k = {V_EC2[1]:.3f}')\n",
    "print(f'vmin = {V_EC2[2]:.3f}')\n",
    "print(f'VRdc (1η σχέση EC2) = {V_EC2[4]:.1f}N')\n",
    "print(f'VRdc (2η σχέση EC2) = {V_EC2[5]:.1f}N')\n",
    "\n",
    "print(f'V_kanepe = {V_kanepe:.2f}kN')\n",
    "\n",
    "print(f'Vdc = {VRc:.2f}kN')"
   ]
  },
  {
   "cell_type": "code",
   "execution_count": 18,
   "metadata": {},
   "outputs": [
    {
     "name": "stdout",
     "output_type": "stream",
     "text": [
      "VMu = 130.10kN\n",
      "αv = 0.0\n"
     ]
    }
   ],
   "source": [
    "VMu = My / Ls\n",
    "print(f'VMu = {VMu:.2f}kN')\n",
    "\n",
    "if VRc<VMu:\n",
    "    αv = 1.\n",
    "else:\n",
    "    αv = 0.   \n",
    "    \n",
    "print(f'αv = {αv:.1f}')  "
   ]
  },
  {
   "cell_type": "markdown",
   "metadata": {},
   "source": [
    "### Υπολογισμός θy"
   ]
  },
  {
   "cell_type": "code",
   "execution_count": 19,
   "metadata": {},
   "outputs": [
    {
     "name": "stdout",
     "output_type": "stream",
     "text": [
      "θy = 0.0094\n"
     ]
    }
   ],
   "source": [
    "θy = θycalc(φy, Ls, αv, z, h, ΦL, fy, fc)\n",
    "print(f'θy = {θy:.4f}') "
   ]
  },
  {
   "cell_type": "markdown",
   "metadata": {},
   "source": [
    "## Υπολογισμός της στροφής αστοχίας"
   ]
  },
  {
   "cell_type": "code",
   "execution_count": 20,
   "metadata": {},
   "outputs": [
    {
     "name": "stdout",
     "output_type": "stream",
     "text": [
      "ν=0.093\n",
      "bo=0.382m\n",
      "ho=0.382m\n",
      "Σbi2=0.2918m2\n",
      "Συντελεστής αποδοτικότητας περίσφιξης: α=0.4737\n",
      "θu=0.0433\n"
     ]
    }
   ],
   "source": [
    "ν = N / (b*h*fc)\n",
    "print(f'ν={ν:.3f}')\n",
    "\n",
    "bo = b - 2 * (cnom + 0.5*Φw)\n",
    "ho = h - 2 * (cnom + 0.5*Φw)\n",
    "print(f'bo={bo:.3f}m')\n",
    "print(f'ho={ho:.3f}m')\n",
    "\n",
    "if ho/bo > 2.0:\n",
    "    ho = xy - (cnom + 0.5*Φw)\n",
    "    print('hc/bc > 2.0 οπότε χρησιμοποιείται, αντί του ho, το ύψος της θλιβόµενης ζώνης εντός του περισφιγμένου πυρήνα')\n",
    "    print(f'ho={ho:.3f}m')\n",
    "\n",
    "if bi[0] == 0.0:  \n",
    "    bi = np.array([bo, ho, bo, ho])  # Για 2τμητους συνδετήρες\n",
    "\n",
    "Σbi2 = sum(bi**2)\n",
    "print(f'Σbi2={Σbi2:.4f}m2')\n",
    "\n",
    "απερ = αcalc(s, bo, ho, Σbi2)\n",
    "if απερ<0: απερ =0.\n",
    "print(\"Συντελεστής αποδοτικότητας περίσφιξης: α=\" + \"{0:.4f}\".format(απερ)+\"\")\n",
    "\n",
    "θu = θumcalc(ν, ωtot, ω2, αs, απερ, ρs, ρd, fc/1000, fyw/1000)\n",
    "print(f'θu={θu:.4f}')"
   ]
  },
  {
   "cell_type": "markdown",
   "metadata": {},
   "source": [
    "### Αρχικό διάγραμμα Μ-θ (χωρίς τον έλεγχο για τις τέμνουσες)"
   ]
  },
  {
   "cell_type": "code",
   "execution_count": 21,
   "metadata": {},
   "outputs": [
    {
     "data": {
      "image/png": "[encoded data removed]",
      "text/plain": [
       "<Figure size 576x360 with 1 Axes>"
      ]
     },
     "metadata": {},
     "output_type": "display_data"
    }
   ],
   "source": [
    "xMθs = [0, θy, θu]\n",
    "yMθs = [0, My, My]\n",
    "\n",
    "plt.figure(figsize=(8, 5))\n",
    "plt.plot(xMθs, yMθs, lw=2)\n",
    "plt.axis([0, 1.2*θu, 0, 1.2*My])\n",
    "\n",
    "plt.ylabel('M (kN)') \n",
    "plt.xlabel('θ')   \n",
    "plt.title('Αρχικό διάγραμμα Μ-θ (χωρίς τον έλεγχο για τις τέμνουσες)')\n",
    "plt.show()"
   ]
  },
  {
   "cell_type": "code",
   "execution_count": 22,
   "metadata": {},
   "outputs": [
    {
     "name": "stdout",
     "output_type": "stream",
     "text": [
      "Αρχική τιμή πλαστιμότητας στροφών μθ=4.62\n"
     ]
    }
   ],
   "source": [
    "μθ = θu/θy\n",
    "print(f'Αρχική τιμή πλαστιμότητας στροφών μθ={μθ:.2f}')"
   ]
  },
  {
   "cell_type": "markdown",
   "metadata": {},
   "source": [
    "### Υπολογισμός διατμητικής αντοχής"
   ]
  },
  {
   "cell_type": "code",
   "execution_count": 23,
   "metadata": {},
   "outputs": [
    {
     "name": "stdout",
     "output_type": "stream",
     "text": [
      "Vw=223.68kN=0.22368MN\n"
     ]
    }
   ],
   "source": [
    "# Τέμνουσα που παραλαμβάνουν οι συνδετήρες\n",
    "Vw = Vwcalc(ρw, b, z, fyw)\n",
    "print(f'Vw={Vw:.2f}kN={Vw/1000:.5f}MN')"
   ]
  },
  {
   "cell_type": "code",
   "execution_count": 24,
   "metadata": {},
   "outputs": [],
   "source": [
    "xs = np.linspace(0., 1.5*θu, 100)\n",
    "yVRs = list()\n",
    "yMs = list()\n",
    "\n",
    "for x in xs:\n",
    "    μθpl=max(0, (x/θy)-1)\n",
    "    VRi=VRcalc(h, xy, Ls , N/1000, b*d, fc/1000, μθpl, ρtot, αs, Vw/1000)*1000\n",
    "    MVRi = VRi * Ls\n",
    "    \n",
    "    yVRs.append(VRi)\n",
    "    yMs.append(MVRi)\n",
    "\n",
    "# print(xs)"
   ]
  },
  {
   "cell_type": "code",
   "execution_count": 25,
   "metadata": {},
   "outputs": [
    {
     "data": {
      "image/png": "[encoded data removed]",
      "text/plain": [
       "<Figure size 576x360 with 1 Axes>"
      ]
     },
     "metadata": {},
     "output_type": "display_data"
    }
   ],
   "source": [
    "xsy=[θy, θy]\n",
    "ysy=[0, 1.2*max(yVRs)]\n",
    "\n",
    "xsu=[θu, θu]\n",
    "ysu=[0, 1.2*max(yVRs)]\n",
    "\n",
    "plt.figure(figsize=(8, 5))\n",
    "plt.plot(xs, yVRs, label=\"Τέμνουσα αντοχής VR\", lw=2)\n",
    "plt.axis([0, 1.5*θu, 0, 1.2*max(yVRs)])\n",
    "# plt.axis([0, 8, 0, 1.2*max(VR0*Ls, My)])\n",
    "plt.plot(xsy, ysy, label=\"Διαρροή\", linestyle='--')\n",
    "plt.plot(xsu, ysu, label=\"Καμπτική αστοχία\", linestyle='--')\n",
    "plt.ylabel('VR (kN)') \n",
    "plt.xlabel('θ')   \n",
    "plt.title('Μείωση της τέμνουσας αντοχής με την ανελαστική παραμόρφωση')\n",
    "plt.legend()\n",
    "plt.show()"
   ]
  },
  {
   "cell_type": "markdown",
   "metadata": {},
   "source": [
    "### Έλεγχος πρόωρης αστοχίας από διάτμηση"
   ]
  },
  {
   "cell_type": "code",
   "execution_count": 26,
   "metadata": {},
   "outputs": [
    {
     "data": {
      "image/png": "[encoded data removed]",
      "text/plain": [
       "<Figure size 576x360 with 1 Axes>"
      ]
     },
     "metadata": {},
     "output_type": "display_data"
    }
   ],
   "source": [
    "ymax = max(max(yMs), My)\n",
    "\n",
    "xsy=[θy, θy]\n",
    "ysy=[0, 1.2*ymax]\n",
    "\n",
    "xsu=[θu, θu]\n",
    "ysu=[0, 1.2*ymax]\n",
    "\n",
    "xMθs = [0, θy, θu]\n",
    "yMθs = [0, My, My]\n",
    "\n",
    "plt.figure(figsize=(8, 5))\n",
    "plt.plot(xs, yMs, label=\"Ροπή τέμνουσας αντοχής (VR*Ls)\", lw=2)\n",
    "plt.axis([0, 1.5*θu, 0, 1.2*ymax])\n",
    "# plt.axis([0, 8, 0, 1.2*max(VR0*Ls, My)])\n",
    "plt.plot(xsy, ysy, label=\"Διαρροή\", linestyle='--')\n",
    "plt.plot(xsu, ysu, label=\"Αστοχία\", linestyle='--')\n",
    "plt.plot(xMθs, yMθs, label=\"Αρχικό διάγραμμα Μ-θ\")\n",
    "\n",
    "plt.ylabel('M (kN)') \n",
    "plt.xlabel('θ')   \n",
    "plt.title('Έλεγχος πρόωρης αστοχίας από διάτμηση')\n",
    "plt.legend()\n",
    "plt.show()"
   ]
  },
  {
   "cell_type": "code",
   "execution_count": 27,
   "metadata": {},
   "outputs": [],
   "source": [
    "υ = Symbol('υ')\n",
    "μθsol=solve((((h-xy)/(2*Ls))*min(N/1000, 0.55*b*d*fc/1000) + (1-0.05*υ) * (0.16*max(0.5, 100*ρtot)*(1-0.16*min(5,αs))*((fc/1000)**0.5)*b*d + Vw/1000)*1000-My/Ls),υ)[0]\n",
    "θsol = θy * (μθsol+1)\n",
    "# print(μθsol)\n",
    "# print(θsol)"
   ]
  },
  {
   "cell_type": "code",
   "execution_count": 28,
   "metadata": {},
   "outputs": [
    {
     "name": "stdout",
     "output_type": "stream",
     "text": [
      "Τελικές τιμές\n",
      "My=Mu=221.16kNm\n",
      "θy=0.0094\n",
      "θu=0.0433\n"
     ]
    }
   ],
   "source": [
    "VR0 = yVRs[0]\n",
    "if VR0 < My/Ls:\n",
    "    θu = 1.4 * θy\n",
    "    θy = θy * VR0 * Ls / My     \n",
    "    My = VR0 * Ls   \n",
    "\n",
    "elif θsol<θu:\n",
    "    θu = θsol    \n",
    "\n",
    "print('Τελικές τιμές')\n",
    "print(f'My=Mu={My:.2f}kNm')\n",
    "print(f'θy={θy:.4f}')\n",
    "print(f'θu={θu:.4f}')"
   ]
  },
  {
   "cell_type": "markdown",
   "metadata": {},
   "source": [
    "## Τελικό διάγραμμα Μ-θ"
   ]
  },
  {
   "cell_type": "code",
   "execution_count": 29,
   "metadata": {},
   "outputs": [
    {
     "data": {
      "image/png": "[encoded data removed]",
      "text/plain": [
       "<Figure size 576x360 with 1 Axes>"
      ]
     },
     "metadata": {},
     "output_type": "display_data"
    }
   ],
   "source": [
    "xMθs = [0, θy, θu]\n",
    "yMθs = [0, My, My]\n",
    "\n",
    "plt.figure(figsize=(8, 5))\n",
    "plt.plot(xMθs, yMθs, lw=2)\n",
    "# plt.axis([0, 1.2*θu, 0, 1.2*My])\n",
    "\n",
    "plt.ylabel('M (kN)') \n",
    "plt.xlabel('θ')   \n",
    "plt.title('Τελικό διάγραμμα Μ-θ')\n",
    "plt.show()"
   ]
  },
  {
   "cell_type": "markdown",
   "metadata": {},
   "source": [
    "## Αποτελέσματα για το SAP2000\n",
    "\n",
    "### Δεδομένα πλαστικής άρθρωσης (*Hinge Property*)\n",
    "\n",
    "Στις ιδιότητες των πλαστικών αρθρώσεων του SAP2000 δίνεται η τιμή της πλαστικής στροφής $θ_{pl}=θ_{u}-θ_{y}$\n",
    "\n",
    "Στο σημείο της θεωρητικής αστοχίας λαμβάνεται πτώση αντοχής στο 20% της My και στη συνέχεια δίνεται η δυνατότητα παραμόρφωσης με την ίδια αντοχή έως το $5\\cdotθ_{pl}$"
   ]
  },
  {
   "cell_type": "code",
   "execution_count": 30,
   "metadata": {},
   "outputs": [
    {
     "name": "stdout",
     "output_type": "stream",
     "text": [
      "θpl=0.0339\n"
     ]
    }
   ],
   "source": [
    "θpl = θu - θy\n",
    "print(f'θpl={θpl:.4f}')"
   ]
  },
  {
   "cell_type": "code",
   "execution_count": 31,
   "metadata": {},
   "outputs": [
    {
     "data": {
      "text/html": [
       "<div>\n",
       "<style scoped>\n",
       "    .dataframe tbody tr th:only-of-type {\n",
       "        vertical-align: middle;\n",
       "    }\n",
       "\n",
       "    .dataframe tbody tr th {\n",
       "        vertical-align: top;\n",
       "    }\n",
       "\n",
       "    .dataframe thead th {\n",
       "        text-align: right;\n",
       "    }\n",
       "</style>\n",
       "<table border=\"1\" class=\"dataframe\">\n",
       "  <thead>\n",
       "    <tr style=\"text-align: right;\">\n",
       "      <th></th>\n",
       "      <th>M</th>\n",
       "      <th>θ</th>\n",
       "    </tr>\n",
       "  </thead>\n",
       "  <tbody>\n",
       "    <tr>\n",
       "      <th>A</th>\n",
       "      <td>0.00</td>\n",
       "      <td>0.0000</td>\n",
       "    </tr>\n",
       "    <tr>\n",
       "      <th>B</th>\n",
       "      <td>221.16</td>\n",
       "      <td>0.0000</td>\n",
       "    </tr>\n",
       "    <tr>\n",
       "      <th>C</th>\n",
       "      <td>221.16</td>\n",
       "      <td>0.0339</td>\n",
       "    </tr>\n",
       "    <tr>\n",
       "      <th>D</th>\n",
       "      <td>44.23</td>\n",
       "      <td>0.0339</td>\n",
       "    </tr>\n",
       "    <tr>\n",
       "      <th>E</th>\n",
       "      <td>44.23</td>\n",
       "      <td>0.1697</td>\n",
       "    </tr>\n",
       "  </tbody>\n",
       "</table>\n",
       "</div>"
      ],
      "text/plain": [
       "        M       θ\n",
       "A    0.00  0.0000\n",
       "B  221.16  0.0000\n",
       "C  221.16  0.0339\n",
       "D   44.23  0.0339\n",
       "E   44.23  0.1697"
      ]
     },
     "execution_count": 31,
     "metadata": {},
     "output_type": "execute_result"
    }
   ],
   "source": [
    "da = {'M': [0, My, My, 0.2*My, 0.2*My], 'θ': [0, 0, θpl, θpl, 5*θpl]}\n",
    "df = pd.DataFrame(data=da, index=['A', 'B', 'C', 'D', 'E'])\n",
    "df.round({'M': 2, 'θ': 4})"
   ]
  },
  {
   "cell_type": "markdown",
   "metadata": {},
   "source": [
    "### Ενεργός δυσκαμψία. Συντελεστής για SAP"
   ]
  },
  {
   "cell_type": "code",
   "execution_count": 32,
   "metadata": {},
   "outputs": [
    {
     "name": "stdout",
     "output_type": "stream",
     "text": [
      "K=13371.6kNm2\n",
      "K0=86454.8kNm2\n",
      "Modification Factor for SAP=0.155\n"
     ]
    }
   ],
   "source": [
    "K = My * Ls / (3 * θy)\n",
    "print(f'K={K:.1f}kNm2')\n",
    "\n",
    "I = b * h**3 / 12.0\n",
    "K0 = Ec * I\n",
    "print(f'K0={K0:.1f}kNm2')\n",
    "\n",
    "ModFactor = K / K0\n",
    "\n",
    "print(\"Modification Factor for SAP=\" + \"{0:.3f}\".format(ModFactor))"
   ]
  }
 ],
 "metadata": {
  "anaconda-cloud": {
   "attach-environment": true,
   "environment": "Root",
   "url": "https://anaconda.org/panagop/kanepe_mphi"
  },
  "gist_id": "86b9dfcb67bef042915b586c86407b29",
  "kernel_info": {
   "name": "python3"
  },
  "kernelspec": {
   "display_name": "Python 3 (ipykernel)",
   "language": "python",
   "name": "python3"
  },
  "language_info": {
   "codemirror_mode": {
    "name": "ipython",
    "version": 3
   },
   "file_extension": ".py",
   "mimetype": "text/x-python",
   "name": "python",
   "nbconvert_exporter": "python",
   "pygments_lexer": "ipython3",
   "version": "3.8.12"
  },
  "nbpresent": {
   "slides": {
    "0881def9-9b47-445b-9284-4321e6ac9fa9": {
     "id": "0881def9-9b47-445b-9284-4321e6ac9fa9",
     "prev": "8d0a2802-32f4-4ab3-a941-4b9d9719e810",
     "regions": {
      "105be9d0-adb8-4248-9f95-c7c7becf9399": {
       "attrs": {
        "height": 0.8,
        "width": 0.8,
        "x": 0.1,
        "y": 0.1
       },
       "content": {
        "cell": "ef703224-5fcd-4ff0-80bc-a1f0d8366f7e",
        "part": "whole"
       },
       "id": "105be9d0-adb8-4248-9f95-c7c7becf9399"
      }
     }
    },
    "1c39317a-88d6-4f20-94c1-7d2a905f973d": {
     "id": "1c39317a-88d6-4f20-94c1-7d2a905f973d",
     "prev": "8a2ef92e-4197-48ef-a1ea-cbff095bd01c",
     "regions": {
      "45fa79a6-d535-45d8-977f-c0efcbb5a543": {
       "attrs": {
        "height": 0.8,
        "width": 0.8,
        "x": 0.1,
        "y": 0.1
       },
       "content": {
        "cell": "fda05852-0951-4a95-8b35-efb430b77595",
        "part": "whole"
       },
       "id": "45fa79a6-d535-45d8-977f-c0efcbb5a543"
      }
     }
    },
    "1f1268fa-d082-4d0d-80f4-50ffaf74cd5f": {
     "id": "1f1268fa-d082-4d0d-80f4-50ffaf74cd5f",
     "prev": "c5120b21-dd26-42bd-a9e1-b45b18b7c75b",
     "regions": {
      "2be2df5e-bab7-4b4a-a966-ae107f6325f1": {
       "attrs": {
        "height": 0.8,
        "width": 0.8,
        "x": 0.1,
        "y": 0.1
       },
       "content": {
        "cell": "5f4aa4d7-bb09-4e2e-bea0-ee7a3a197dcd",
        "part": "whole"
       },
       "id": "2be2df5e-bab7-4b4a-a966-ae107f6325f1"
      }
     }
    },
    "23f32766-0c89-4d66-9a97-d4c57c8128c3": {
     "id": "23f32766-0c89-4d66-9a97-d4c57c8128c3",
     "prev": "58a42c22-c974-4e89-85a0-18bb5182efaa",
     "regions": {
      "0a97023c-3f82-4fee-be84-bf6f619b05e8": {
       "attrs": {
        "height": 0.8,
        "width": 0.8,
        "x": 0.1,
        "y": 0.1
       },
       "content": {
        "cell": "797baeb7-14a2-4420-951e-c300b4bd8563",
        "part": "whole"
       },
       "id": "0a97023c-3f82-4fee-be84-bf6f619b05e8"
      }
     }
    },
    "2e6353c1-c16a-41eb-a707-40e1606713af": {
     "id": "2e6353c1-c16a-41eb-a707-40e1606713af",
     "prev": "3e9265e5-a6db-4c33-973b-1fdd1103a26b",
     "regions": {
      "59e04ab2-c191-4487-a347-814f60652c25": {
       "attrs": {
        "height": 0.8,
        "width": 0.8,
        "x": 0.1,
        "y": 0.1
       },
       "content": {
        "cell": "e554e76b-85ee-41a7-ba52-90ecdb928d19",
        "part": "whole"
       },
       "id": "59e04ab2-c191-4487-a347-814f60652c25"
      }
     }
    },
    "3641717f-6da3-482d-a53a-b7dbe63df1b2": {
     "id": "3641717f-6da3-482d-a53a-b7dbe63df1b2",
     "prev": "a59bea94-e3a5-46a7-b52b-1707dd217cb6",
     "regions": {
      "3690a3de-400f-4d59-a1b5-684340f78aaa": {
       "attrs": {
        "height": 0.8,
        "width": 0.8,
        "x": 0.1,
        "y": 0.1
       },
       "content": {
        "cell": "471d65ae-f97d-4633-baa1-d20301b4b77b",
        "part": "whole"
       },
       "id": "3690a3de-400f-4d59-a1b5-684340f78aaa"
      }
     }
    },
    "3e9265e5-a6db-4c33-973b-1fdd1103a26b": {
     "id": "3e9265e5-a6db-4c33-973b-1fdd1103a26b",
     "prev": null,
     "regions": {
      "0ad4acdf-77c0-4220-ab14-3c2d083e959d": {
       "attrs": {
        "height": 0.8,
        "width": 0.8,
        "x": 0.1,
        "y": 0.1
       },
       "content": {
        "cell": "9e5a69e0-f4c0-40f3-a6fe-b9c46a89f1aa",
        "part": "whole"
       },
       "id": "0ad4acdf-77c0-4220-ab14-3c2d083e959d"
      }
     }
    },
    "58a42c22-c974-4e89-85a0-18bb5182efaa": {
     "id": "58a42c22-c974-4e89-85a0-18bb5182efaa",
     "prev": "a47d1bf0-415e-4af9-b97b-f6d80b42a6f6",
     "regions": {
      "0fa2f56f-84b6-47ae-bcc0-08ce47df7089": {
       "attrs": {
        "height": 0.8,
        "width": 0.8,
        "x": 0.1,
        "y": 0.1
       },
       "content": {
        "cell": "5c214672-d69b-43be-b462-c96fbcd4deb5",
        "part": "whole"
       },
       "id": "0fa2f56f-84b6-47ae-bcc0-08ce47df7089"
      }
     }
    },
    "5f5e023f-60d1-4d07-bddf-a9736c243402": {
     "id": "5f5e023f-60d1-4d07-bddf-a9736c243402",
     "prev": "3641717f-6da3-482d-a53a-b7dbe63df1b2",
     "regions": {
      "9e751b7f-96bb-4a9d-bf50-c30e8e0197bf": {
       "attrs": {
        "height": 0.8,
        "width": 0.8,
        "x": 0.1,
        "y": 0.1
       },
       "content": {
        "cell": "ae1f40f9-048d-495a-bad8-3aa3871639e1",
        "part": "whole"
       },
       "id": "9e751b7f-96bb-4a9d-bf50-c30e8e0197bf"
      }
     }
    },
    "6f3b9780-9a74-4816-aa90-f06979a80c11": {
     "id": "6f3b9780-9a74-4816-aa90-f06979a80c11",
     "prev": "b702bd73-b006-4d2e-9a14-33dd4bc76f48",
     "regions": {
      "286504b0-6cb4-469f-872a-7f2337330f35": {
       "attrs": {
        "height": 0.8,
        "width": 0.8,
        "x": 0.1,
        "y": 0.1
       },
       "content": {
        "cell": "425944c6-d23e-4240-baea-7289caf1a775",
        "part": "whole"
       },
       "id": "286504b0-6cb4-469f-872a-7f2337330f35"
      }
     }
    },
    "86124986-b12a-4743-a583-e1fbc0d78328": {
     "id": "86124986-b12a-4743-a583-e1fbc0d78328",
     "prev": "23f32766-0c89-4d66-9a97-d4c57c8128c3",
     "regions": {
      "9958a37b-ca32-4721-89bb-c0a6ead7d60d": {
       "attrs": {
        "height": 0.8,
        "width": 0.8,
        "x": 0.1,
        "y": 0.1
       },
       "content": {
        "cell": "9f6ed84f-f3c2-4f11-960d-2df29cb798a5",
        "part": "whole"
       },
       "id": "9958a37b-ca32-4721-89bb-c0a6ead7d60d"
      }
     }
    },
    "8a2ef92e-4197-48ef-a1ea-cbff095bd01c": {
     "id": "8a2ef92e-4197-48ef-a1ea-cbff095bd01c",
     "prev": "0881def9-9b47-445b-9284-4321e6ac9fa9",
     "regions": {
      "bab8f463-2374-4c54-9925-278e41d5750b": {
       "attrs": {
        "height": 0.8,
        "width": 0.8,
        "x": 0.1,
        "y": 0.1
       },
       "content": {
        "cell": "586ca62c-598a-478d-a89a-61ced372b129",
        "part": "whole"
       },
       "id": "bab8f463-2374-4c54-9925-278e41d5750b"
      }
     }
    },
    "8bf905bf-5e79-4906-b920-fae6fd3453dc": {
     "id": "8bf905bf-5e79-4906-b920-fae6fd3453dc",
     "prev": "6f3b9780-9a74-4816-aa90-f06979a80c11",
     "regions": {
      "7c736db8-0753-47fb-b5f6-a62f2e004a80": {
       "attrs": {
        "height": 0.8,
        "width": 0.8,
        "x": 0.1,
        "y": 0.1
       },
       "content": {
        "cell": "7cd40cb3-322a-4d27-8174-d82b5920d680",
        "part": "whole"
       },
       "id": "7c736db8-0753-47fb-b5f6-a62f2e004a80"
      }
     }
    },
    "8d0a2802-32f4-4ab3-a941-4b9d9719e810": {
     "id": "8d0a2802-32f4-4ab3-a941-4b9d9719e810",
     "prev": "2e6353c1-c16a-41eb-a707-40e1606713af",
     "regions": {
      "c288f342-a8b8-496c-a9c1-f12329aae2e3": {
       "attrs": {
        "height": 0.8,
        "width": 0.8,
        "x": 0.1,
        "y": 0.1
       },
       "content": {
        "cell": "fb8c80fa-4ae9-45a9-8ee0-4de6d24bb66d",
        "part": "whole"
       },
       "id": "c288f342-a8b8-496c-a9c1-f12329aae2e3"
      }
     }
    },
    "961684f2-6402-4e1c-a00a-fb0aef8dea3e": {
     "id": "961684f2-6402-4e1c-a00a-fb0aef8dea3e",
     "prev": "5f5e023f-60d1-4d07-bddf-a9736c243402",
     "regions": {
      "641485b2-393d-4f5c-b1bd-f511102f74d4": {
       "attrs": {
        "height": 0.8,
        "width": 0.8,
        "x": 0.1,
        "y": 0.1
       },
       "content": {
        "cell": "89c13b3d-c808-478e-9edf-1dba19c8b6c0",
        "part": "whole"
       },
       "id": "641485b2-393d-4f5c-b1bd-f511102f74d4"
      }
     }
    },
    "a35f2899-ad16-4a6c-af74-478f8fc1483c": {
     "id": "a35f2899-ad16-4a6c-af74-478f8fc1483c",
     "prev": "8bf905bf-5e79-4906-b920-fae6fd3453dc",
     "regions": {
      "6437b43a-c4fa-405f-811c-06285f6a77d1": {
       "attrs": {
        "height": 0.8,
        "width": 0.8,
        "x": 0.1,
        "y": 0.1
       },
       "content": {
        "cell": "0d5dde3a-75f5-454b-87d8-0e2660e51b31",
        "part": "whole"
       },
       "id": "6437b43a-c4fa-405f-811c-06285f6a77d1"
      }
     }
    },
    "a47d1bf0-415e-4af9-b97b-f6d80b42a6f6": {
     "id": "a47d1bf0-415e-4af9-b97b-f6d80b42a6f6",
     "prev": "b85009e1-8484-4b05-8081-14ed23abf93c",
     "regions": {
      "79a72831-21ce-43ba-af8c-59df298301e6": {
       "attrs": {
        "height": 0.8,
        "width": 0.8,
        "x": 0.1,
        "y": 0.1
       },
       "content": {
        "cell": "d4c4d65f-c98f-4535-9773-12974fca54cb",
        "part": "whole"
       },
       "id": "79a72831-21ce-43ba-af8c-59df298301e6"
      }
     }
    },
    "a59bea94-e3a5-46a7-b52b-1707dd217cb6": {
     "id": "a59bea94-e3a5-46a7-b52b-1707dd217cb6",
     "prev": "a35f2899-ad16-4a6c-af74-478f8fc1483c",
     "regions": {
      "1f8129bb-62ab-4a85-a403-001ff1dbf889": {
       "attrs": {
        "height": 0.8,
        "width": 0.8,
        "x": 0.1,
        "y": 0.1
       },
       "content": {
        "cell": "6e86f40d-c6fb-4740-9a3e-5771b7eb17a6",
        "part": "whole"
       },
       "id": "1f8129bb-62ab-4a85-a403-001ff1dbf889"
      }
     }
    },
    "b702bd73-b006-4d2e-9a14-33dd4bc76f48": {
     "id": "b702bd73-b006-4d2e-9a14-33dd4bc76f48",
     "prev": "1c39317a-88d6-4f20-94c1-7d2a905f973d",
     "regions": {
      "5e69c502-b53f-4c90-a16d-b763e78c527f": {
       "attrs": {
        "height": 0.8,
        "width": 0.8,
        "x": 0.1,
        "y": 0.1
       },
       "content": {
        "cell": "0c2b91df-e788-4b29-b435-745112f650a9",
        "part": "whole"
       },
       "id": "5e69c502-b53f-4c90-a16d-b763e78c527f"
      }
     }
    },
    "b85009e1-8484-4b05-8081-14ed23abf93c": {
     "id": "b85009e1-8484-4b05-8081-14ed23abf93c",
     "prev": "1f1268fa-d082-4d0d-80f4-50ffaf74cd5f",
     "regions": {
      "d25caad8-a2ae-4bda-9271-2086bc19d6fd": {
       "attrs": {
        "height": 0.8,
        "width": 0.8,
        "x": 0.1,
        "y": 0.1
       },
       "content": {
        "cell": "9798cc5e-4efc-4f82-9dbe-2e9ffbf7d939",
        "part": "whole"
       },
       "id": "d25caad8-a2ae-4bda-9271-2086bc19d6fd"
      }
     }
    },
    "c5120b21-dd26-42bd-a9e1-b45b18b7c75b": {
     "id": "c5120b21-dd26-42bd-a9e1-b45b18b7c75b",
     "prev": "961684f2-6402-4e1c-a00a-fb0aef8dea3e",
     "regions": {
      "7bff5aac-21cc-4166-a079-4203ac92bc80": {
       "attrs": {
        "height": 0.8,
        "width": 0.8,
        "x": 0.1,
        "y": 0.1
       },
       "content": {
        "cell": "9daa258f-7ceb-4c81-92d4-50c4124d7d1e",
        "part": "whole"
       },
       "id": "7bff5aac-21cc-4166-a079-4203ac92bc80"
      }
     }
    }
   },
   "themes": {}
  },
  "nteract": {
   "version": "0.12.1"
  },
  "toc": {
   "nav_menu": {},
   "number_sections": true,
   "sideBar": true,
   "skip_h1_title": false,
   "toc_cell": false,
   "toc_position": {},
   "toc_section_display": "block",
   "toc_window_display": true
  }
 },
 "nbformat": 4,
 "nbformat_minor": 4
}
