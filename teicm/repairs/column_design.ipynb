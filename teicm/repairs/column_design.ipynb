{
 "cells": [
  {
   "cell_type": "markdown",
   "id": "60a31fa9-be4d-4d82-aedf-eb7e8c9d2617",
   "metadata": {},
   "source": [
    "## Υπολογισμός ω για διαξονική κάμψη ορθογωνικών υποστυλωμάτων\n",
    "\n",
    "Ο υπολογισμός βασίζεται στην εργασία των Charalampakis & Papanikolaou (2021) σύμφωνα με την οποία χρησιμοποιούνται διαδικασίες machine learning για τον προσδιορισμό σχέσεων υπολογισμού του απαιτούμενου οπλισμού σε τυπικές διατομές υποστυλωμάτων οπλισμένου σκυροδέματος\n",
    "\n",
    "- Charalampakis, A. E., & Papanikolaou, V. K. (2021). Machine learning design of R/C columns. Engineering Structures, 226, 111412. https://doi.org/10.1016/j.engstruct.2020.111412\n"
   ]
  },
  {
   "cell_type": "markdown",
   "id": "5561710b-3c6c-46e0-a37f-6ec8c0685a9c",
   "metadata": {},
   "source": [
    "![ss](char_papanik_rectcol.png)"
   ]
  },
  {
   "cell_type": "code",
   "execution_count": 1,
   "id": "96e95cf4-b6d6-49bc-8704-35b642d5b24f",
   "metadata": {},
   "outputs": [
    {
     "name": "stdout",
     "output_type": "stream",
     "text": [
      "Ανηγμένες τιμές εντατικών μεγεθών\n",
      "ν = -0.093\n",
      "μx = 0.185\n",
      "μy = 0.000\n",
      "Υπολογισμός ω\n",
      "ω = 0.407\n"
     ]
    }
   ],
   "source": [
    "from col_des import w_RSd\n",
    "\n",
    "# Διαστάσεις διατομής\n",
    "b = 0.30            # σε m\n",
    "h = 0.60            # σε m\n",
    "d1 = 0.04          # σε m (=b1=h1 σύμφωνα με το παραπάνω σχήμα)\n",
    "\n",
    "# Υλικά\n",
    "fc = 15.00            # σε MPa\n",
    "\n",
    "# Εντατική μεγέθη\n",
    "N = -250.00             # σε kN (η θλίψη με αρνητικό πρόσημο)\n",
    "Mxd = 300.00            # σε kNm\n",
    "Myd = 0.00              # σε kNm\n",
    "\n",
    "n = N / (b * h * fc * 1000.)\n",
    "mx = Mxd / (b * h**2 * fc * 1000.)\n",
    "my = Myd / (b**2 * h * fc * 1000.)\n",
    "\n",
    "ω = w_RSd(h/b, d1/h, n, mx, my)\n",
    "\n",
    "print(\"Ανηγμένες τιμές εντατικών μεγεθών\")\n",
    "print(f\"ν = {n:.3f}\")\n",
    "print(f\"μx = {mx:.3f}\")\n",
    "print(f\"μy = {my:.3f}\")\n",
    "print(\"Υπολογισμός ω\")\n",
    "print(f\"ω = {ω:.3f}\")"
   ]
  },
  {
   "cell_type": "code",
   "execution_count": null,
   "id": "4f2e7ee1-025f-4d47-8a06-d29ea67687ab",
   "metadata": {},
   "outputs": [],
   "source": []
  }
 ],
 "metadata": {
  "kernelspec": {
   "display_name": "Python 3 (ipykernel)",
   "language": "python",
   "name": "python3"
  },
  "language_info": {
   "codemirror_mode": {
    "name": "ipython",
    "version": 3
   },
   "file_extension": ".py",
   "mimetype": "text/x-python",
   "name": "python",
   "nbconvert_exporter": "python",
   "pygments_lexer": "ipython3",
   "version": "3.8.12"
  }
 },
 "nbformat": 4,
 "nbformat_minor": 5
}
