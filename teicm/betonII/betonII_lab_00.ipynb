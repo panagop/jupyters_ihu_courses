{
 "cells": [
  {
   "cell_type": "markdown",
   "metadata": {},
   "source": [
    "# Κατασκευές Οπλισμένου Σκυροδέματος ΙΙ: Δεδομένα εργασίας\n",
    "\n",
    "## Μεταβλητές φοιτητή/ομάδας\n",
    "\n",
    "κ, λ τα τελευταία δύο ψηφία του ΑΕΜ ενός μέλους της ομάδας, πχ για ΑΕΜ: 1234 θα είναι κ=3, λ=4\n",
    "\n",
    "## Διαστάσεις φορέα\n",
    "\n",
    "![](https://i.ibb.co/1zVmfGj/katopsi.png)\n",
    "\n",
    "![](https://i.ibb.co/rQGky97/foreas.png)\n",
    "\n",
    "$L = 20 - 0.1 * κ$\n",
    "\n",
    "$H = 6.50 - 0.1 * λ$\n",
    "\n",
    "$α = L / 4$\n",
    "\n",
    "$L_1 = L / 2$\n",
    "\n",
    "## Διαστάσεις διατομών\n",
    "\n",
    "Σε όλα τα δομικά στοιχεία να θεωρηθεί ότι η ονομαστική τιμή της επικάλυψης των οπλισμών είναι $c_{nom}=25\\text{mm}$\n",
    "\n",
    "### Δοκοί\n",
    "\n",
    "$b_w = 0.40\\text{m}$\n",
    "\n",
    "$h_f = 0.20\\text{m}$\n",
    "\n",
    "$h = 1.20\\text{m}$ για $λ\\le4$\n",
    "\n",
    "$h = 1.10\\text{m}$ για $λ\\ge 5$\n",
    "\n",
    "Το συνεργαζόμενο πλάτος $b_{eff}$ να υπολογιστεί σύμφωνα με τις σχέσεις του EC2\n",
    "\n",
    "\n",
    "### Στύλοι \n",
    "(χρησιμοποιώ δείκτη **c**(olumn) ώστε να μη γίνεται σύγχυση με τις διαστάσεις των δοκών)\n",
    "\n",
    "$b_c = 0.40\\text{m}$\n",
    "\n",
    "$h_c = 1.10\\text{m}$ για $λ\\le4$\n",
    "\n",
    "$h_c = 1.00\\text{m}$ για $λ\\ge 5$\n",
    "\n",
    "\n",
    "## Φορτία\n",
    "\n",
    "### Μόνιμες δράσεις\n",
    "\n",
    "Πάχος επιστρώσεων: $h_{επιστ} = 0.05 - 0.002 \\cdot κ$ (m)\n",
    "\n",
    "Ύψος τοιχοπληρώσεων: $h_{τοιχ} = 3.00 + 0.05 \\cdot λ$ (m)\n",
    "\n",
    "Ειδικά βάρη (σε kN/m3):\n",
    "\n",
    "$γ_{σκυρ} = 25.0$\n",
    "\n",
    "$γ_{επιστ} = 24.0 - 0.2 \\cdot λ$\n",
    "\n",
    "$γ_{τοιχ} = 3.6kN/m^2$\n",
    "\n",
    "### Μεταβλητές δράσεις\n",
    "\n",
    "Ωφέλιμα φορτία πλακών: $Q_{πλ}=5.0kN/m^2$\n",
    "\n",
    "### Σεισμικές δράσεις\n",
    "\n",
    "- Κατηγορία πλαστιμότητας: Μέση\n",
    "- Κατηγορία σπουδαιότητας: II (Συνήθη κτίρια)\n",
    "- Συντελεστής συμπεριφοράς: $q = 3.9$\n",
    "\n",
    "- Κατηγορία εδάφους:\n",
    "  - Για $λ\\le 3$: Βαθιές εναποθέσεις πυκνής άμμου\n",
    "  - Για $4\\leλ\\le7$ Πολύ σκληρή άργιλος πάχους αρκετών δεκάδων μέτρων\n",
    "  - Για $λ\\ge8$: Βράχος\n",
    "\n",
    "\n",
    "- Ζώνη σεισμικής επικινδυνότητας:\n",
    "  - Για $κ\\le 3$: Ζώνη I\n",
    "  - Για $4\\leκ\\le7$: Ζώνη II\n",
    "  - Για $κ\\ge8$: Ζώνη III\n",
    "\n",
    "\n",
    "\n",
    "\n"
   ]
  }
 ],
 "metadata": {
  "_draft": {
   "nbviewer_url": "https://gist.github.com/a4f4043f24a078ce410a2b556db0810f"
  },
  "gist": {
   "data": {
    "description": "/jupyters/TEI/BetonII/betonII_lab_00.ipynb",
    "public": true
   },
   "id": "a4f4043f24a078ce410a2b556db0810f"
  },
  "kernelspec": {
   "display_name": "Python 3.7 - jlab env",
   "language": "python",
   "name": "jlab"
  },
  "language_info": {
   "codemirror_mode": {
    "name": "ipython",
    "version": 3
   },
   "file_extension": ".py",
   "mimetype": "text/x-python",
   "name": "python",
   "nbconvert_exporter": "python",
   "pygments_lexer": "ipython3",
   "version": "3.7.9"
  },
  "toc": {
   "base_numbering": 1,
   "nav_menu": {},
   "number_sections": true,
   "sideBar": true,
   "skip_h1_title": false,
   "title_cell": "Table of Contents",
   "title_sidebar": "Contents",
   "toc_cell": false,
   "toc_position": {},
   "toc_section_display": true,
   "toc_window_display": false
  },
  "varInspector": {
   "cols": {
    "lenName": 16,
    "lenType": 16,
    "lenVar": 40
   },
   "kernels_config": {
    "python": {
     "delete_cmd_postfix": "",
     "delete_cmd_prefix": "del ",
     "library": "var_list.py",
     "varRefreshCmd": "print(var_dic_list())"
    },
    "r": {
     "delete_cmd_postfix": ") ",
     "delete_cmd_prefix": "rm(",
     "library": "var_list.r",
     "varRefreshCmd": "cat(var_dic_list()) "
    }
   },
   "types_to_exclude": [
    "module",
    "function",
    "builtin_function_or_method",
    "instance",
    "_Feature"
   ],
   "window_display": false
  }
 },
 "nbformat": 4,
 "nbformat_minor": 4
}
