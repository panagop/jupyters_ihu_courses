{
 "cells": [
  {
   "cell_type": "markdown",
   "metadata": {},
   "source": [
    "# Στατική με Μητρώα - Άσκηση για το σπίτι 1"
   ]
  },
  {
   "cell_type": "code",
   "execution_count": 1,
   "metadata": {},
   "outputs": [],
   "source": [
    "import sympy as sym\n",
    "from sympy import Matrix\n",
    "from mitroiki_functs import K_without_axial\n",
    "from mitroiki_functs import P_point_load_at_distance_a, P_uniformly_distributed_load\n",
    "from mitroiki_functs import round_expr\n",
    "import shape_functions as sf "
   ]
  },
  {
   "cell_type": "markdown",
   "metadata": {},
   "source": [
    "## Δεδομένα φοιτητή"
   ]
  },
  {
   "cell_type": "code",
   "execution_count": 2,
   "metadata": {},
   "outputs": [],
   "source": [
    "μ = 5\n",
    "ν = 9"
   ]
  },
  {
   "cell_type": "code",
   "execution_count": 3,
   "metadata": {},
   "outputs": [],
   "source": [
    "L1 = 5+(0.1*μ)+(0.2*ν)\n",
    "L2 =3+(0.1*(μ+ν))\n",
    "L3 = 4.2+(0.2*μ)+(0.2*ν)\n",
    "L4 = 1.6+(0.1*ν)\n",
    "g = 20+(0.1*(μ+ν))\n",
    "gπρ = 14+(0.2*(μ+ν))\n",
    "P = 25+(0.3*μ)+(0.4*ν)\n",
    "E = (28 + 0.1*(μ+ν)) * 10**6\n",
    "b=0.25\n",
    "h=0.7"
   ]
  },
  {
   "cell_type": "code",
   "execution_count": 4,
   "metadata": {},
   "outputs": [],
   "source": [
    "Lp = (3/4)*L1\n",
    "I = b*h**3/12"
   ]
  },
  {
   "cell_type": "code",
   "execution_count": 5,
   "metadata": {},
   "outputs": [
    {
     "name": "stdout",
     "output_type": "stream",
     "text": [
      "L1 = 7.300m\n",
      "L2 = 4.400m\n",
      "L3 = 7.000m\n",
      "L4 = 2.500m\n",
      "g = 21.400kN/m\n",
      "gπρ = 16.800kN/m\n",
      "P = 30.100kN\n",
      "E = 2.940e+07kPa\n",
      "b = 0.250m\n",
      "h = 0.700m\n",
      "Lp = 5.475m\n",
      "I = 7.146e-03m4\n"
     ]
    }
   ],
   "source": [
    "print(f'L1 = {L1:.3f}m')\n",
    "print(f'L2 = {L2:.3f}m')\n",
    "print(f'L3 = {L3:.3f}m')\n",
    "print(f'L4 = {L4:.3f}m')\n",
    "print(f'g = {g:.3f}kN/m')\n",
    "print(f'gπρ = {gπρ:.3f}kN/m')\n",
    "print(f'P = {P:.3f}kN')\n",
    "print(f'E = {E:.3e}kPa')\n",
    "print(f'b = {b:.3f}m')\n",
    "print(f'h = {h:.3f}m')\n",
    "print(f'Lp = {Lp:.3f}m')\n",
    "print(f'I = {I:.3e}m4')"
   ]
  },
  {
   "cell_type": "markdown",
   "metadata": {},
   "source": [
    "## Καθορισμός μητρώων και διανυσμάτων"
   ]
  },
  {
   "cell_type": "markdown",
   "metadata": {},
   "source": [
    "### Μητρώα στιβαρότητας"
   ]
  },
  {
   "cell_type": "markdown",
   "metadata": {},
   "source": [
    "#### Python functions"
   ]
  },
  {
   "cell_type": "markdown",
   "metadata": {},
   "source": [
    "#### Μητρώο στιβαρότητας στοιχείου 1"
   ]
  },
  {
   "cell_type": "code",
   "execution_count": 6,
   "metadata": {},
   "outputs": [
    {
     "data": {
      "text/latex": [
       "$\\displaystyle \\left[\\begin{matrix}6480.56511669156 & 23654.0626759242 & -6480.56511669156 & 23654.0626759242\\\\23654.0626759242 & 115116.438356164 & -23654.0626759242 & 57558.2191780822\\\\-6480.56511669156 & -23654.0626759242 & 6480.56511669156 & -23654.0626759242\\\\23654.0626759242 & 57558.2191780822 & -23654.0626759242 & 115116.438356164\\end{matrix}\\right]$"
      ],
      "text/plain": [
       "Matrix([\n",
       "[ 6480.56511669156,  23654.0626759242, -6480.56511669156,  23654.0626759242],\n",
       "[ 23654.0626759242,  115116.438356164, -23654.0626759242,  57558.2191780822],\n",
       "[-6480.56511669156, -23654.0626759242,  6480.56511669156, -23654.0626759242],\n",
       "[ 23654.0626759242,  57558.2191780822, -23654.0626759242,  115116.438356164]])"
      ]
     },
     "execution_count": 6,
     "metadata": {},
     "output_type": "execute_result"
    }
   ],
   "source": [
    "K1 = K_without_axial(E=E, I=I, L=L1)\n",
    "K1"
   ]
  },
  {
   "cell_type": "markdown",
   "metadata": {},
   "source": [
    "#### Μητρώο στιβαρότητας στοιχείου 2"
   ]
  },
  {
   "cell_type": "code",
   "execution_count": 7,
   "metadata": {},
   "outputs": [
    {
     "data": {
      "text/latex": [
       "$\\displaystyle \\left[\\begin{matrix}29595.3465439519 & 65109.7623966942 & -29595.3465439519 & 65109.7623966942\\\\65109.7623966942 & 190988.636363636 & -65109.7623966942 & 95494.3181818181\\\\-29595.3465439519 & -65109.7623966942 & 29595.3465439519 & -65109.7623966942\\\\65109.7623966942 & 95494.3181818181 & -65109.7623966942 & 190988.636363636\\end{matrix}\\right]$"
      ],
      "text/plain": [
       "Matrix([\n",
       "[ 29595.3465439519,  65109.7623966942, -29595.3465439519,  65109.7623966942],\n",
       "[ 65109.7623966942,  190988.636363636, -65109.7623966942,  95494.3181818181],\n",
       "[-29595.3465439519, -65109.7623966942,  29595.3465439519, -65109.7623966942],\n",
       "[ 65109.7623966942,  95494.3181818181, -65109.7623966942,  190988.636363636]])"
      ]
     },
     "execution_count": 7,
     "metadata": {},
     "output_type": "execute_result"
    }
   ],
   "source": [
    "K2 = K_without_axial(E=E, I=I, L=L2)\n",
    "K2"
   ]
  },
  {
   "cell_type": "code",
   "execution_count": 8,
   "metadata": {},
   "outputs": [
    {
     "data": {
      "text/latex": [
       "$\\displaystyle \\left[\\begin{matrix}7350.0 & 25725.0 & -7350.0 & 25725.0\\\\25725.0 & 120050.0 & -25725.0 & 60025.0\\\\-7350.0 & -25725.0 & 7350.0 & -25725.0\\\\25725.0 & 60025.0 & -25725.0 & 120050.0\\end{matrix}\\right]$"
      ],
      "text/plain": [
       "Matrix([\n",
       "[ 7350.0,  25725.0,  -7350.0,  25725.0],\n",
       "[25725.0, 120050.0, -25725.0,  60025.0],\n",
       "[-7350.0, -25725.0,   7350.0, -25725.0],\n",
       "[25725.0,  60025.0, -25725.0, 120050.0]])"
      ]
     },
     "execution_count": 8,
     "metadata": {},
     "output_type": "execute_result"
    }
   ],
   "source": [
    "K3 = K_without_axial(E=E, I=I, L=L3)\n",
    "K3"
   ]
  },
  {
   "cell_type": "markdown",
   "metadata": {},
   "source": [
    "#### Συνολικό μητρώο στιβαρότητας (συνδυασμός στοιχέιων 1 και 2)"
   ]
  },
  {
   "cell_type": "code",
   "execution_count": 9,
   "metadata": {},
   "outputs": [
    {
     "data": {
      "text/latex": [
       "$\\displaystyle \\left[\\begin{matrix}6480.6 & 23654.1 & -6480.6 & 23654.1 & 0 & 0 & 0 & 0\\\\23654.1 & 115116.4 & -23654.1 & 57558.2 & 0 & 0 & 0 & 0\\\\-6480.6 & -23654.1 & 36075.9 & 41455.7 & -29595.3 & 65109.8 & 0 & 0\\\\23654.1 & 57558.2 & 41455.7 & 306105.1 & -65109.8 & 95494.3 & 0 & 0\\\\0 & 0 & -29595.3 & -65109.8 & 36945.3 & -39384.8 & -7350.0 & 25725.0\\\\0 & 0 & 65109.8 & 95494.3 & -39384.8 & 311038.6 & -25725.0 & 60025.0\\\\0 & 0 & 0 & 0 & -7350.0 & -25725.0 & 7350.0 & -25725.0\\\\0 & 0 & 0 & 0 & 25725.0 & 60025.0 & -25725.0 & 120050.0\\end{matrix}\\right]$"
      ],
      "text/plain": [
       "Matrix([\n",
       "[ 6480.6,  23654.1,  -6480.6,  23654.1,        0,        0,        0,        0],\n",
       "[23654.1, 115116.4, -23654.1,  57558.2,        0,        0,        0,        0],\n",
       "[-6480.6, -23654.1,  36075.9,  41455.7, -29595.3,  65109.8,        0,        0],\n",
       "[23654.1,  57558.2,  41455.7, 306105.1, -65109.8,  95494.3,        0,        0],\n",
       "[      0,        0, -29595.3, -65109.8,  36945.3, -39384.8,  -7350.0,  25725.0],\n",
       "[      0,        0,  65109.8,  95494.3, -39384.8, 311038.6, -25725.0,  60025.0],\n",
       "[      0,        0,        0,        0,  -7350.0, -25725.0,   7350.0, -25725.0],\n",
       "[      0,        0,        0,        0,  25725.0,  60025.0, -25725.0, 120050.0]])"
      ]
     },
     "execution_count": 9,
     "metadata": {},
     "output_type": "execute_result"
    }
   ],
   "source": [
    "# Δημιουργώ αρχικά ένα μηδενικό μητρώο 6x6 με όλα τα στοιχεία του μηδενικά\n",
    "K = sym.zeros(8, 8)\n",
    "K[:4, :4] += K1\n",
    "K[2:6, 2:6] += K2\n",
    "K[4:, 4:] += K3\n",
    "\n",
    "round_expr(K, 1)\n",
    "\n"
   ]
  },
  {
   "cell_type": "markdown",
   "metadata": {},
   "source": [
    "### Μητρώα εξωτερικών φορτίσεων"
   ]
  },
  {
   "cell_type": "markdown",
   "metadata": {},
   "source": [
    "#### Μητρώο εξωτερικών φορτίσεων στοιχείου 1\n",
    "\n",
    "Το στοιχείο 1 έχει τα εξωτερικά φορτία που αναππτύσσονται λόγω του ομοιόμορφου φορτίου q και του σημειακού φορτίου P."
   ]
  },
  {
   "cell_type": "code",
   "execution_count": 10,
   "metadata": {},
   "outputs": [
    {
     "data": {
      "text/latex": [
       "$\\displaystyle \\left[\\begin{matrix}-4.703125\\\\-10.29984375\\\\-25.396875\\\\30.89953125\\end{matrix}\\right]$"
      ],
      "text/plain": [
       "Matrix([\n",
       "[   -4.703125],\n",
       "[-10.29984375],\n",
       "[  -25.396875],\n",
       "[ 30.89953125]])"
      ]
     },
     "execution_count": 10,
     "metadata": {},
     "output_type": "execute_result"
    }
   ],
   "source": [
    "P1_point = P_point_load_at_distance_a(P=P, L=L1, a=Lp)\n",
    "P1_point"
   ]
  },
  {
   "cell_type": "code",
   "execution_count": 11,
   "metadata": {},
   "outputs": [
    {
     "data": {
      "text/latex": [
       "$\\displaystyle \\left[\\begin{matrix}-78.11\\\\-95.0338333333333\\\\-78.11\\\\95.0338333333333\\end{matrix}\\right]$"
      ],
      "text/plain": [
       "Matrix([\n",
       "[           -78.11],\n",
       "[-95.0338333333333],\n",
       "[           -78.11],\n",
       "[ 95.0338333333333]])"
      ]
     },
     "execution_count": 11,
     "metadata": {},
     "output_type": "execute_result"
    }
   ],
   "source": [
    "P1_uniform = P_uniformly_distributed_load(q=g, L=L1)\n",
    "P1_uniform"
   ]
  },
  {
   "cell_type": "markdown",
   "metadata": {},
   "source": [
    "οπότε το συνολικό μητρώο εξωτερικών φορτίσεων για το στοιχείο 1 είναι το άθροισμα των 2 παραπάνω μητρώων:"
   ]
  },
  {
   "cell_type": "code",
   "execution_count": 12,
   "metadata": {},
   "outputs": [
    {
     "data": {
      "text/latex": [
       "$\\displaystyle \\left[\\begin{matrix}-82.81\\\\-105.33\\\\-103.51\\\\125.93\\end{matrix}\\right]$"
      ],
      "text/plain": [
       "Matrix([\n",
       "[ -82.81],\n",
       "[-105.33],\n",
       "[-103.51],\n",
       "[ 125.93]])"
      ]
     },
     "execution_count": 12,
     "metadata": {},
     "output_type": "execute_result"
    }
   ],
   "source": [
    "P1 = P1_point + P1_uniform\n",
    "round_expr(P1, 2)"
   ]
  },
  {
   "cell_type": "markdown",
   "metadata": {},
   "source": [
    "Το στοιχείο 2 φέρει τα φορτία μόνο του ομοιόμορφου φορτίου q."
   ]
  },
  {
   "cell_type": "code",
   "execution_count": 13,
   "metadata": {},
   "outputs": [
    {
     "data": {
      "text/latex": [
       "$\\displaystyle \\left[\\begin{matrix}-47.08\\\\-34.53\\\\-47.08\\\\34.53\\end{matrix}\\right]$"
      ],
      "text/plain": [
       "Matrix([\n",
       "[-47.08],\n",
       "[-34.53],\n",
       "[-47.08],\n",
       "[ 34.53]])"
      ]
     },
     "execution_count": 13,
     "metadata": {},
     "output_type": "execute_result"
    }
   ],
   "source": [
    "P2 = P2_uniform = P_uniformly_distributed_load(q=g, L=L2)\n",
    "round_expr(P2, 2)"
   ]
  },
  {
   "cell_type": "markdown",
   "metadata": {},
   "source": [
    "Το στοιχείο 3 φέρει τα φορτία του ομοιόμορφου φορτίου q και τα φορτία που μεταφέρονται από τον πρόβολο."
   ]
  },
  {
   "cell_type": "code",
   "execution_count": 14,
   "metadata": {},
   "outputs": [
    {
     "data": {
      "text/latex": [
       "$\\displaystyle \\left[\\begin{matrix}-74.9\\\\-87.3833333333333\\\\-74.9\\\\87.3833333333333\\end{matrix}\\right]$"
      ],
      "text/plain": [
       "Matrix([\n",
       "[            -74.9],\n",
       "[-87.3833333333333],\n",
       "[            -74.9],\n",
       "[ 87.3833333333333]])"
      ]
     },
     "execution_count": 14,
     "metadata": {},
     "output_type": "execute_result"
    }
   ],
   "source": [
    "P3_uniform = P_uniformly_distributed_load(q=g, L=L3)\n",
    "P3_uniform"
   ]
  },
  {
   "cell_type": "code",
   "execution_count": 15,
   "metadata": {},
   "outputs": [
    {
     "data": {
      "text/latex": [
       "$\\displaystyle \\left[\\begin{matrix}0\\\\0\\\\-42.0\\\\-52.5\\end{matrix}\\right]$"
      ],
      "text/plain": [
       "Matrix([\n",
       "[    0],\n",
       "[    0],\n",
       "[-42.0],\n",
       "[-52.5]])"
      ]
     },
     "execution_count": 15,
     "metadata": {},
     "output_type": "execute_result"
    }
   ],
   "source": [
    "P3_provolos = Matrix([[0],\n",
    "                    [0], \n",
    "                    [-gπρ*L4],\n",
    "                    [-gπρ*L4**2/2]])\n",
    "P3_provolos"
   ]
  },
  {
   "cell_type": "markdown",
   "metadata": {},
   "source": [
    "οπότε το συνολικό μητρώο εξωτερικών φορτίσεων για το στοιχείο 1 είναι το άθροισμα των 2 παραπάνω μητρώων:"
   ]
  },
  {
   "cell_type": "code",
   "execution_count": 16,
   "metadata": {},
   "outputs": [
    {
     "data": {
      "text/latex": [
       "$\\displaystyle \\left[\\begin{matrix}-74.9\\\\-87.38\\\\-116.9\\\\34.88\\end{matrix}\\right]$"
      ],
      "text/plain": [
       "Matrix([\n",
       "[ -74.9],\n",
       "[-87.38],\n",
       "[-116.9],\n",
       "[ 34.88]])"
      ]
     },
     "execution_count": 16,
     "metadata": {},
     "output_type": "execute_result"
    }
   ],
   "source": [
    "P3 = P3_uniform + P3_provolos\n",
    "round_expr(P3, 2)"
   ]
  },
  {
   "cell_type": "markdown",
   "metadata": {},
   "source": [
    "Το τελικό μητρώο φορτίσεων προκύπτει από την επαλληλία μητρώων των 2 παραπάνω στοιχείων:"
   ]
  },
  {
   "cell_type": "code",
   "execution_count": 17,
   "metadata": {},
   "outputs": [
    {
     "data": {
      "text/latex": [
       "$\\displaystyle \\left[\\begin{matrix}-82.81\\\\-105.33\\\\-150.59\\\\91.41\\\\-121.98\\\\-52.86\\\\-116.9\\\\34.88\\end{matrix}\\right]$"
      ],
      "text/plain": [
       "Matrix([\n",
       "[ -82.81],\n",
       "[-105.33],\n",
       "[-150.59],\n",
       "[  91.41],\n",
       "[-121.98],\n",
       "[ -52.86],\n",
       "[ -116.9],\n",
       "[  34.88]])"
      ]
     },
     "execution_count": 17,
     "metadata": {},
     "output_type": "execute_result"
    }
   ],
   "source": [
    "P = sym.zeros(8, 1)\n",
    "P[:4, 0] += P1\n",
    "P[2:6, 0] += P2\n",
    "P[4:, 0] += P3\n",
    "round_expr(P, 2)"
   ]
  },
  {
   "cell_type": "markdown",
   "metadata": {},
   "source": [
    "### Μητρώο παραμορφώσεων"
   ]
  },
  {
   "cell_type": "markdown",
   "metadata": {},
   "source": [
    "Το μητρώο παραμορφώσεων U θα είναι διαστάσεων 8x1 (2 παραμορφώσεις: κατακόρυφη μετακίνηση και στροφή σε κάθε κόμβο).\n",
    "Από τις συνθήκες στήριξης αναγνωρίζεται ότι οι μη μηδενικές τιμές θα είναι αυτές των U4, U6 και U8."
   ]
  },
  {
   "cell_type": "code",
   "execution_count": 18,
   "metadata": {},
   "outputs": [
    {
     "data": {
      "text/latex": [
       "$\\displaystyle \\left[\\begin{matrix}0\\\\0\\\\0\\\\U_{4}\\\\0\\\\U_{6}\\\\0\\\\U_{8}\\end{matrix}\\right]$"
      ],
      "text/plain": [
       "Matrix([\n",
       "[ 0],\n",
       "[ 0],\n",
       "[ 0],\n",
       "[U4],\n",
       "[ 0],\n",
       "[U6],\n",
       "[ 0],\n",
       "[U8]])"
      ]
     },
     "execution_count": 18,
     "metadata": {},
     "output_type": "execute_result"
    }
   ],
   "source": [
    "U4, U6, U8 = sym.symbols('U4 U6 U8')\n",
    "U = Matrix([[0], [0], [0], [U4], [0], [U6], [0], [U8]])\n",
    "U"
   ]
  },
  {
   "cell_type": "markdown",
   "metadata": {},
   "source": [
    "### Μητρώο αντιδράσεων"
   ]
  },
  {
   "cell_type": "markdown",
   "metadata": {},
   "source": [
    "Το μητρώο αντιδράσεων R θα είναι διαστάσεων 8x1 (2 αντιδράσεις: κατακόρυφη δύναμη και ροπή σε κάθε κόμβο).\n",
    "Από τις συνθήκες στήριξης αναγνωρίζεται ότι οι R4, R6 και R8 θα έχουν μηδενικές τιμές."
   ]
  },
  {
   "cell_type": "code",
   "execution_count": 19,
   "metadata": {},
   "outputs": [
    {
     "data": {
      "text/latex": [
       "$\\displaystyle \\left[\\begin{matrix}R_{1}\\\\R_{2}\\\\R_{3}\\\\0\\\\R_{5}\\\\0\\\\R_{7}\\\\0\\end{matrix}\\right]$"
      ],
      "text/plain": [
       "Matrix([\n",
       "[R1],\n",
       "[R2],\n",
       "[R3],\n",
       "[ 0],\n",
       "[R5],\n",
       "[ 0],\n",
       "[R7],\n",
       "[ 0]])"
      ]
     },
     "execution_count": 19,
     "metadata": {},
     "output_type": "execute_result"
    }
   ],
   "source": [
    "R1, R2, R3, R5, R7 = sym.symbols('R1 R2 R3 R5 R7')\n",
    "R = Matrix([[R1], [R2], [R3], [0], [R5], [0], [R7], [0]])\n",
    "R"
   ]
  },
  {
   "cell_type": "markdown",
   "metadata": {},
   "source": [
    "### Επίλυση"
   ]
  },
  {
   "cell_type": "markdown",
   "metadata": {},
   "source": [
    "Στόχος είναι η επίλυση της μητρωικής εξίσωσης:\n",
    "\n",
    "$ [k] \\cdot [u] = [P] + [R]$\n",
    "\n",
    "στην οποία όμως υπάρχουν 2 άγνωστοι, οι πίνακες $[u]$ και $[R]$.\n",
    "\n",
    "Επιπλέον, παρατηρείται ότι το μητρώο στιβαρότητας δεν μπορεί να αντιστραφεί καθώς η ορίζουσά του είναι μηδενική."
   ]
  },
  {
   "cell_type": "code",
   "execution_count": 20,
   "metadata": {},
   "outputs": [
    {
     "data": {
      "text/latex": [
       "$\\displaystyle -14623.4744356462$"
      ],
      "text/plain": [
       "-14623.4744356462"
      ]
     },
     "execution_count": 20,
     "metadata": {},
     "output_type": "execute_result"
    }
   ],
   "source": [
    "# Υπολογισμός ορίζουσας του μητρώου στιβαρότητας\n",
    "K.det()"
   ]
  },
  {
   "cell_type": "markdown",
   "metadata": {},
   "source": [
    "### Αντικατάσταση γνωστών τιμών στα μητρώα αντιδράσεων και παραμορφώσεων"
   ]
  },
  {
   "cell_type": "markdown",
   "metadata": {},
   "source": [
    "Με δεδομένο ότι είναι γνωστές οι μηδενικές τιμές των μητρώων αντιδράσεων και παραμορφώσεων, αρκεί η επίλυση να περιοριστεί μόνο στα υπομητρώα που σχετίζονται με τις μη μηδενικές τιμές των παραμορφώσεων και συγκεκριμένα στις γραμμές/στήλες 2 και 4."
   ]
  },
  {
   "cell_type": "markdown",
   "metadata": {},
   "source": [
    "### Διαχωρισμός σε υπομητρώα"
   ]
  },
  {
   "cell_type": "code",
   "execution_count": 21,
   "metadata": {},
   "outputs": [],
   "source": [
    "k_468 = Matrix(K[[3, 5, 7], [3, 5, 7]])\n",
    "p_468 = Matrix(P[[3, 5, 7], 0])\n",
    "r_468 = Matrix(R[[3, 5, 7], 0])\n",
    "u_468 = Matrix(U[[3, 5, 7], 0])\n"
   ]
  },
  {
   "cell_type": "code",
   "execution_count": 22,
   "metadata": {},
   "outputs": [
    {
     "data": {
      "text/latex": [
       "$\\displaystyle \\left[\\begin{matrix}306105.1 & 95494.3 & 0\\\\95494.3 & 311038.6 & 60025.0\\\\0 & 60025.0 & 120050.0\\end{matrix}\\right]$"
      ],
      "text/plain": [
       "Matrix([\n",
       "[306105.1,  95494.3,        0],\n",
       "[ 95494.3, 311038.6,  60025.0],\n",
       "[       0,  60025.0, 120050.0]])"
      ]
     },
     "execution_count": 22,
     "metadata": {},
     "output_type": "execute_result"
    }
   ],
   "source": [
    "round_expr(k_468, 1)"
   ]
  },
  {
   "cell_type": "code",
   "execution_count": 23,
   "metadata": {},
   "outputs": [
    {
     "data": {
      "text/latex": [
       "$\\displaystyle \\left[\\begin{matrix}0\\\\0\\\\0\\end{matrix}\\right]$"
      ],
      "text/plain": [
       "Matrix([\n",
       "[0],\n",
       "[0],\n",
       "[0]])"
      ]
     },
     "execution_count": 23,
     "metadata": {},
     "output_type": "execute_result"
    }
   ],
   "source": [
    "r_468"
   ]
  },
  {
   "cell_type": "code",
   "execution_count": 24,
   "metadata": {},
   "outputs": [
    {
     "data": {
      "text/latex": [
       "$\\displaystyle \\left[\\begin{matrix}U_{4}\\\\U_{6}\\\\U_{8}\\end{matrix}\\right]$"
      ],
      "text/plain": [
       "Matrix([\n",
       "[U4],\n",
       "[U6],\n",
       "[U8]])"
      ]
     },
     "execution_count": 24,
     "metadata": {},
     "output_type": "execute_result"
    }
   ],
   "source": [
    "u_468"
   ]
  },
  {
   "cell_type": "code",
   "execution_count": 25,
   "metadata": {},
   "outputs": [
    {
     "data": {
      "text/latex": [
       "$\\displaystyle \\left[\\begin{matrix}91.41\\\\-52.86\\\\34.88\\end{matrix}\\right]$"
      ],
      "text/plain": [
       "Matrix([\n",
       "[ 91.41],\n",
       "[-52.86],\n",
       "[ 34.88]])"
      ]
     },
     "execution_count": 25,
     "metadata": {},
     "output_type": "execute_result"
    }
   ],
   "source": [
    "round_expr(p_468, 2)"
   ]
  },
  {
   "cell_type": "markdown",
   "metadata": {},
   "source": [
    "Από τον πολλαπλασιασμό των $ [k_{24}] \\cdot [u_{24}]$ και την εξίσωση του γινομένου με το $[P_{24}]$ προκύπτει ένα σύστημα 2x2 εξισώσεων με 2 άγνωστους."
   ]
  },
  {
   "cell_type": "code",
   "execution_count": 26,
   "metadata": {},
   "outputs": [
    {
     "data": {
      "text/latex": [
       "$\\displaystyle \\left[\\begin{matrix}306105.1 U_{4} + 95494.3 U_{6}\\\\95494.3 U_{4} + 311038.6 U_{6} + 60025.0 U_{8}\\\\60025.0 U_{6} + 120050.0 U_{8}\\end{matrix}\\right]$"
      ],
      "text/plain": [
       "Matrix([\n",
       "[             306105.1*U4 + 95494.3*U6],\n",
       "[95494.3*U4 + 311038.6*U6 + 60025.0*U8],\n",
       "[             60025.0*U6 + 120050.0*U8]])"
      ]
     },
     "execution_count": 26,
     "metadata": {},
     "output_type": "execute_result"
    }
   ],
   "source": [
    "round_expr(k_468 * u_468, 1)"
   ]
  },
  {
   "cell_type": "markdown",
   "metadata": {},
   "source": [
    "Από τη λύση του συστήματος προκύπτουν οι τιμές των παραμορφώσεων $U_4$, $U_6$ και $U_8$."
   ]
  },
  {
   "cell_type": "markdown",
   "metadata": {},
   "source": [
    "### Εναλλακτική επίλυση με πράξεις μητρώων\n"
   ]
  },
  {
   "cell_type": "markdown",
   "metadata": {},
   "source": [
    "Η εξίσωση:\n",
    "\n",
    "$ [k_{468}] \\cdot [u_{468}] = [P_{468}] + [R_{468}]$\n",
    "\n",
    "για μηδενικό $[R_{468}]$ μπορεί να γραφτεί και ως:\n",
    "\n",
    "$ [k_{468}] \\cdot [u_{468}] = [P_{468}]$\n",
    "\n",
    "οπότε \n",
    "\n",
    "$ [k_{468}]^{-1}[k_{468}] \\cdot [u_{468}] = [k_{468}]^{-1} \\cdot [P_{468}]$\n",
    "\n",
    "$ [u_{468}] = [k_{468}]^{-1} \\cdot [P_{468}]$\n",
    "\n",
    "Το μητρώο $[k_{468}]$ είναι πλέον αντιστρέψιμο"
   ]
  },
  {
   "cell_type": "code",
   "execution_count": 27,
   "metadata": {},
   "outputs": [
    {
     "data": {
      "text/latex": [
       "$\\displaystyle \\left[\\begin{matrix}3.65422884060261 \\cdot 10^{-6} & -1.24172824680671 \\cdot 10^{-6} & 6.20864123403355 \\cdot 10^{-7}\\\\-1.24172824680671 \\cdot 10^{-6} & 3.98033438017494 \\cdot 10^{-6} & -1.99016719008747 \\cdot 10^{-6}\\\\6.20864123403355 \\cdot 10^{-7} & -1.99016719008747 \\cdot 10^{-6} & 9.32494615231154 \\cdot 10^{-6}\\end{matrix}\\right]$"
      ],
      "text/plain": [
       "Matrix([\n",
       "[ 3.65422884060261e-6, -1.24172824680671e-6,  6.20864123403355e-7],\n",
       "[-1.24172824680671e-6,  3.98033438017494e-6, -1.99016719008747e-6],\n",
       "[ 6.20864123403355e-7, -1.99016719008747e-6,  9.32494615231154e-6]])"
      ]
     },
     "execution_count": 27,
     "metadata": {},
     "output_type": "execute_result"
    }
   ],
   "source": [
    "# Το αντίστροφο του μητρώου στιβαρότητας για τα στοιχεία 346\n",
    "k_468.inv()"
   ]
  },
  {
   "cell_type": "code",
   "execution_count": 28,
   "metadata": {},
   "outputs": [
    {
     "data": {
      "text/latex": [
       "$\\displaystyle \\left[\\begin{matrix}0.000421\\\\-0.000393\\\\0.000487\\end{matrix}\\right]$"
      ],
      "text/plain": [
       "Matrix([\n",
       "[ 0.000421],\n",
       "[-0.000393],\n",
       "[ 0.000487]])"
      ]
     },
     "execution_count": 28,
     "metadata": {},
     "output_type": "execute_result"
    }
   ],
   "source": [
    "u_468_solution = Matrix(k_468.inv() * p_468)\n",
    "round_expr(u_468_solution, 6)"
   ]
  },
  {
   "cell_type": "markdown",
   "metadata": {},
   "source": [
    "Το παραπάνω αποτέλεσμα είναι οι τιμές του μητρώου $[u_{468}]$, άρα των παραμορφώσεων $U_4$, $U_4$ και $U_8$."
   ]
  },
  {
   "cell_type": "code",
   "execution_count": 29,
   "metadata": {},
   "outputs": [
    {
     "data": {
      "text/latex": [
       "$\\displaystyle \\left[\\begin{matrix}0\\\\0\\\\0\\\\0.000421\\\\0\\\\-0.000393\\\\0\\\\0.000487\\end{matrix}\\right]$"
      ],
      "text/plain": [
       "Matrix([\n",
       "[        0],\n",
       "[        0],\n",
       "[        0],\n",
       "[ 0.000421],\n",
       "[        0],\n",
       "[-0.000393],\n",
       "[        0],\n",
       "[ 0.000487]])"
      ]
     },
     "execution_count": 29,
     "metadata": {},
     "output_type": "execute_result"
    }
   ],
   "source": [
    "u_solution = U.subs(U4, u_468_solution[0]).subs(U6, u_468_solution[1]).subs(U8, u_468_solution[2])\n",
    "round_expr(u_solution, 6)"
   ]
  },
  {
   "cell_type": "markdown",
   "metadata": {},
   "source": [
    "Η αρχική μητρωική εξίσωση έχει πλέον ως μόνο άγνωστο το μητρώο [R]:\n",
    "\n",
    "$ [k] \\cdot [u] = [P] + [R]$\n",
    "\n",
    "οπότε:\n",
    "\n",
    "$[R] = [k] \\cdot [u] - [P]$"
   ]
  },
  {
   "cell_type": "code",
   "execution_count": 30,
   "metadata": {},
   "outputs": [
    {
     "data": {
      "text/latex": [
       "$\\displaystyle \\left[\\begin{matrix}92.78\\\\129.58\\\\142.44\\\\0\\\\122.57\\\\0\\\\114.48\\\\0\\end{matrix}\\right]$"
      ],
      "text/plain": [
       "Matrix([\n",
       "[ 92.78],\n",
       "[129.58],\n",
       "[142.44],\n",
       "[     0],\n",
       "[122.57],\n",
       "[     0],\n",
       "[114.48],\n",
       "[     0]])"
      ]
     },
     "execution_count": 30,
     "metadata": {},
     "output_type": "execute_result"
    }
   ],
   "source": [
    "r_solution = Matrix(K * u_solution - P)\n",
    "round_expr(r_solution, 2)\n"
   ]
  },
  {
   "cell_type": "code",
   "execution_count": 31,
   "metadata": {},
   "outputs": [
    {
     "data": {
      "text/latex": [
       "$\\displaystyle \\left[\\begin{matrix}0\\\\0\\\\0.000421318945897551\\\\0\\\\0\\\\-0.000393320114536287\\end{matrix}\\right]$"
      ],
      "text/plain": [
       "Matrix([\n",
       "[                    0],\n",
       "[                    0],\n",
       "[ 0.000421318945897551],\n",
       "[                    0],\n",
       "[                    0],\n",
       "[-0.000393320114536287]])"
      ]
     },
     "execution_count": 31,
     "metadata": {},
     "output_type": "execute_result"
    }
   ],
   "source": [
    "U2_with_axial = Matrix([[0], [0], [u_solution[3]], [0], [0], [u_solution[5]]])\n",
    "U2_with_axial"
   ]
  },
  {
   "cell_type": "code",
   "execution_count": 32,
   "metadata": {},
   "outputs": [
    {
     "data": {
      "text/latex": [
       "$\\displaystyle \\left[\\begin{matrix}0.5 & 0 & 0 & 0.5 & 0 & 0\\\\0 & 0.5 & 0.55 & 0 & 1.0 & -0.55\\end{matrix}\\right]$"
      ],
      "text/plain": [
       "Matrix([\n",
       "[0.5,   0,    0, 0.5,   0,     0],\n",
       "[  0, 0.5, 0.55,   0, 1.0, -0.55]])"
      ]
     },
     "execution_count": 32,
     "metadata": {},
     "output_type": "execute_result"
    }
   ],
   "source": [
    "F = sf.F(L2, L2/2)\n",
    "F"
   ]
  },
  {
   "cell_type": "code",
   "execution_count": 33,
   "metadata": {},
   "outputs": [
    {
     "data": {
      "text/latex": [
       "$\\displaystyle \\left[\\begin{matrix}0\\\\0.000448051483238611\\end{matrix}\\right]$"
      ],
      "text/plain": [
       "Matrix([\n",
       "[                   0],\n",
       "[0.000448051483238611]])"
      ]
     },
     "execution_count": 33,
     "metadata": {},
     "output_type": "execute_result"
    }
   ],
   "source": [
    "sf.Y(F, U2_with_axial)"
   ]
  },
  {
   "cell_type": "code",
   "execution_count": null,
   "metadata": {},
   "outputs": [],
   "source": []
  },
  {
   "cell_type": "code",
   "execution_count": null,
   "metadata": {},
   "outputs": [],
   "source": []
  },
  {
   "cell_type": "code",
   "execution_count": null,
   "metadata": {},
   "outputs": [],
   "source": []
  }
 ],
 "metadata": {
  "kernelspec": {
   "display_name": "Python 3 (ipykernel)",
   "language": "python",
   "name": "python3"
  },
  "language_info": {
   "codemirror_mode": {
    "name": "ipython",
    "version": 3
   },
   "file_extension": ".py",
   "mimetype": "text/x-python",
   "name": "python",
   "nbconvert_exporter": "python",
   "pygments_lexer": "ipython3",
   "version": "3.8.13"
  },
  "vscode": {
   "interpreter": {
    "hash": "ca6f3e81e61ca9f5e9e00337e08560702d62287af7622857857ab999dce5701e"
   }
  }
 },
 "nbformat": 4,
 "nbformat_minor": 4
}
