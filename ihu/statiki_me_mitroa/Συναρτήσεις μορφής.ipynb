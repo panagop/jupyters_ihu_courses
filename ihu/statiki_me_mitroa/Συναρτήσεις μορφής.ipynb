{
 "cells": [
  {
   "cell_type": "code",
   "execution_count": 1,
   "metadata": {},
   "outputs": [],
   "source": [
    "import numpy as np\n",
    "import sympy as sym\n",
    "from sympy import Matrix\n",
    "import matplotlib.pyplot as plt"
   ]
  },
  {
   "cell_type": "code",
   "execution_count": 2,
   "metadata": {},
   "outputs": [],
   "source": [
    "def f1(w: float) -> float:\n",
    "    return 1 - w\n",
    "\n",
    "def f2(w: float) -> float:\n",
    "    return 1 - 3 * w**2 + 2 * w**3\n",
    "\n",
    "def f3(w: float, x: float) -> float:\n",
    "    return x * (1 - w)**2\n",
    "\n",
    "def f4(w: float) -> float:\n",
    "    return w\n",
    "\n",
    "def f5(w: float) -> float:\n",
    "    return 3*w**2 + 2*w**3\n",
    "\n",
    "def f6(w: float, x: float) -> float:\n",
    "    return x * (-w + w**2)\n"
   ]
  },
  {
   "cell_type": "code",
   "execution_count": 3,
   "metadata": {},
   "outputs": [],
   "source": [
    "def F(L: float, x: float) -> Matrix:\n",
    "    w = x/L\n",
    "    return Matrix([[f1(w), 0, 0, f4(w), 0, 0],\n",
    "                [0, f2(w), f3(w, x), 0, f5(w), f6(w, x)]])\n",
    "\n",
    "def Y(F: Matrix, U:Matrix) -> Matrix:\n",
    "    return F * U"
   ]
  },
  {
   "cell_type": "code",
   "execution_count": 4,
   "metadata": {},
   "outputs": [
    {
     "data": {
      "text/plain": [
       "array([0. , 0.5, 1. , 1.5, 2. , 2.5, 3. , 3.5, 4. , 4.5, 5. ])"
      ]
     },
     "execution_count": 4,
     "metadata": {},
     "output_type": "execute_result"
    }
   ],
   "source": [
    "L = 5\n",
    "\n",
    "increment = L/10\n",
    "x_range = np.arange(0, L + increment, increment)\n",
    "x_range"
   ]
  },
  {
   "cell_type": "code",
   "execution_count": 5,
   "metadata": {},
   "outputs": [
    {
     "data": {
      "text/plain": [
       "array([1.   , 0.972, 0.896, 0.784, 0.648, 0.5  , 0.352, 0.216, 0.104,\n",
       "       0.028, 0.   ])"
      ]
     },
     "execution_count": 5,
     "metadata": {},
     "output_type": "execute_result"
    }
   ],
   "source": [
    "w_range = x_range/L\n",
    "\n",
    "f1_range = f1(w_range)\n",
    "f2_range = f2(w_range)\n",
    "f2_range"
   ]
  },
  {
   "cell_type": "code",
   "execution_count": 6,
   "metadata": {},
   "outputs": [
    {
     "data": {
      "image/png": "[encoded data removed]",
      "text/plain": [
       "<Figure size 640x480 with 1 Axes>"
      ]
     },
     "metadata": {},
     "output_type": "display_data"
    }
   ],
   "source": [
    "plt.plot(x_range, f2_range, linestyle = 'dotted')\n",
    "plt.show()"
   ]
  },
  {
   "cell_type": "code",
   "execution_count": 7,
   "metadata": {},
   "outputs": [
    {
     "data": {
      "text/latex": [
       "$\\displaystyle \\left[\\begin{matrix}0.25 & 0 & 0 & 0.75 & 0 & 0\\\\0 & 0.15625 & 0.375 & 0 & 2.53125 & -1.125\\end{matrix}\\right]$"
      ],
      "text/plain": [
       "Matrix([\n",
       "[0.25,       0,     0, 0.75,       0,      0],\n",
       "[   0, 0.15625, 0.375,    0, 2.53125, -1.125]])"
      ]
     },
     "execution_count": 7,
     "metadata": {},
     "output_type": "execute_result"
    }
   ],
   "source": [
    "F_example = F(L=8.0, x=6.0)\n",
    "F_example"
   ]
  },
  {
   "cell_type": "code",
   "execution_count": 8,
   "metadata": {},
   "outputs": [],
   "source": [
    "U_example = Matrix([[-0.05], [0], [-0.06], [-0.05], [0], [0.04]])"
   ]
  },
  {
   "cell_type": "code",
   "execution_count": 9,
   "metadata": {},
   "outputs": [
    {
     "data": {
      "text/latex": [
       "$\\displaystyle \\left[\\begin{matrix}-0.05\\\\-0.0675\\end{matrix}\\right]$"
      ],
      "text/plain": [
       "Matrix([\n",
       "[  -0.05],\n",
       "[-0.0675]])"
      ]
     },
     "execution_count": 9,
     "metadata": {},
     "output_type": "execute_result"
    }
   ],
   "source": [
    "Y_example = Y(F_example, U_example)\n",
    "Y_example"
   ]
  },
  {
   "cell_type": "code",
   "execution_count": null,
   "metadata": {},
   "outputs": [],
   "source": []
  }
 ],
 "metadata": {
  "kernelspec": {
   "display_name": "Python 3 (ipykernel)",
   "language": "python",
   "name": "python3"
  },
  "language_info": {
   "codemirror_mode": {
    "name": "ipython",
    "version": 3
   },
   "file_extension": ".py",
   "mimetype": "text/x-python",
   "name": "python",
   "nbconvert_exporter": "python",
   "pygments_lexer": "ipython3",
   "version": "3.8.13"
  },
  "vscode": {
   "interpreter": {
    "hash": "ca6f3e81e61ca9f5e9e00337e08560702d62287af7622857857ab999dce5701e"
   }
  }
 },
 "nbformat": 4,
 "nbformat_minor": 4
}
