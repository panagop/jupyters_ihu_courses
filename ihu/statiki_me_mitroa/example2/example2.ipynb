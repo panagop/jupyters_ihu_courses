{
 "cells": [
  {
   "cell_type": "markdown",
   "metadata": {},
   "source": [
    "# Στατική με Μητρώα - Παράδειγμα 2"
   ]
  },
  {
   "cell_type": "code",
   "execution_count": 1,
   "metadata": {},
   "outputs": [],
   "source": [
    "import sympy as sym\n",
    "from sympy import Matrix"
   ]
  },
  {
   "cell_type": "markdown",
   "metadata": {},
   "source": [
    "## Ορισμός των συμβόλων που θα χρησιμοποιηθούν στην επίλυση του προβλήματος"
   ]
  },
  {
   "cell_type": "code",
   "execution_count": 2,
   "metadata": {},
   "outputs": [],
   "source": [
    "A, E, I, L = sym.symbols('A E I L')\n",
    "U1, U2, U3, U4, U5, U6 = sym.symbols('U1 U2 U3 U4 U5 U6')\n",
    "P1, P2, P3, P4, P5, P6 = sym.symbols('P1 P2 P3 P4 P5 P6')\n",
    "R1, R2, R3, R4, R5, R6 = sym.symbols('R1 R2 R3 R4 R5 R6')"
   ]
  },
  {
   "cell_type": "markdown",
   "metadata": {},
   "source": [
    "## Καθορισμός μητρώων και διανυσμάτων"
   ]
  },
  {
   "cell_type": "markdown",
   "metadata": {},
   "source": [
    "### Μητρώο στιβαρότητας"
   ]
  },
  {
   "cell_type": "code",
   "execution_count": 3,
   "metadata": {},
   "outputs": [
    {
     "data": {
      "text/latex": [
       "$\\displaystyle \\left[\\begin{matrix}\\frac{A E}{L} & 0 & 0 & - \\frac{A E}{L} & 0 & 0\\\\0 & \\frac{12 E I}{L^{3}} & \\frac{6 E I}{L^{2}} & 0 & - \\frac{12 E I}{L^{3}} & \\frac{6 E I}{L^{2}}\\\\0 & \\frac{6 E I}{L^{2}} & \\frac{4 E I}{L} & 0 & - \\frac{6 E I}{L^{2}} & \\frac{2 E I}{L}\\\\- \\frac{A E}{L} & 0 & 0 & \\frac{A E}{L} & 0 & 0\\\\0 & - \\frac{12 E I}{L^{3}} & - \\frac{6 E I}{L^{2}} & 0 & \\frac{12 E I}{L^{3}} & - \\frac{6 E I}{L^{2}}\\\\0 & \\frac{6 E I}{L^{2}} & \\frac{2 E I}{L} & 0 & - \\frac{6 E I}{L^{2}} & \\frac{4 E I}{L}\\end{matrix}\\right]$"
      ],
      "text/plain": [
       "Matrix([\n",
       "[ A*E/L,            0,           0, -A*E/L,            0,           0],\n",
       "[     0,  12*E*I/L**3,  6*E*I/L**2,      0, -12*E*I/L**3,  6*E*I/L**2],\n",
       "[     0,   6*E*I/L**2,     4*E*I/L,      0,  -6*E*I/L**2,     2*E*I/L],\n",
       "[-A*E/L,            0,           0,  A*E/L,            0,           0],\n",
       "[     0, -12*E*I/L**3, -6*E*I/L**2,      0,  12*E*I/L**3, -6*E*I/L**2],\n",
       "[     0,   6*E*I/L**2,     2*E*I/L,      0,  -6*E*I/L**2,     4*E*I/L]])"
      ]
     },
     "execution_count": 3,
     "metadata": {},
     "output_type": "execute_result"
    }
   ],
   "source": [
    "K = Matrix([[A*E/L, 0, 0, -A*E/L, 0, 0],\n",
    "        [0, 12*E*I/L**3, 6*E*I/L**2, 0, -12*E*I/L**3, 6*E*I/L**2],\n",
    "        [0, 6*E*I/L**2, 4*E*I/L, 0, -6*E*I/L**2, 2*E*I/L],\n",
    "        [-A*E/L, 0, 0, A*E/L, 0, 0],\n",
    "        [0, -12*E*I/L**3, -6*E*I/L**2, 0, 12*E*I/L**3, -6*E*I/L**2],\n",
    "        [0, 6*E*I/L**2, 2*E*I/L, 0, -6*E*I/L**2, 4*E*I/L]])\n",
    "\n",
    "K"
   ]
  },
  {
   "cell_type": "markdown",
   "metadata": {},
   "source": [
    "### Μητρώο παραμορφώσεων"
   ]
  },
  {
   "cell_type": "code",
   "execution_count": 4,
   "metadata": {},
   "outputs": [
    {
     "data": {
      "text/latex": [
       "$\\displaystyle \\left[\\begin{matrix}U_{1}\\\\U_{2}\\\\U_{3}\\\\U_{4}\\\\U_{5}\\\\U_{6}\\end{matrix}\\right]$"
      ],
      "text/plain": [
       "Matrix([\n",
       "[U1],\n",
       "[U2],\n",
       "[U3],\n",
       "[U4],\n",
       "[U5],\n",
       "[U6]])"
      ]
     },
     "execution_count": 4,
     "metadata": {},
     "output_type": "execute_result"
    }
   ],
   "source": [
    "U = Matrix([[U1], [U2], [U3], [U4], [U5], [U6]])\n",
    "U"
   ]
  },
  {
   "cell_type": "markdown",
   "metadata": {},
   "source": [
    "### Μητρώο δυνάμεων"
   ]
  },
  {
   "cell_type": "code",
   "execution_count": 5,
   "metadata": {},
   "outputs": [
    {
     "data": {
      "text/latex": [
       "$\\displaystyle \\left[\\begin{matrix}P_{1}\\\\P_{2}\\\\P_{3}\\\\P_{4}\\\\P_{5}\\\\P_{6}\\end{matrix}\\right]$"
      ],
      "text/plain": [
       "Matrix([\n",
       "[P1],\n",
       "[P2],\n",
       "[P3],\n",
       "[P4],\n",
       "[P5],\n",
       "[P6]])"
      ]
     },
     "execution_count": 5,
     "metadata": {},
     "output_type": "execute_result"
    }
   ],
   "source": [
    "P = Matrix([[P1], [P2], [P3], [P4], [P5], [P6]])\n",
    "P"
   ]
  },
  {
   "cell_type": "markdown",
   "metadata": {},
   "source": [
    "### Μητρώο αντιδράσεων"
   ]
  },
  {
   "cell_type": "code",
   "execution_count": 6,
   "metadata": {},
   "outputs": [
    {
     "data": {
      "text/latex": [
       "$\\displaystyle \\left[\\begin{matrix}R_{1}\\\\R_{2}\\\\R_{3}\\\\R_{4}\\\\R_{5}\\\\R_{6}\\end{matrix}\\right]$"
      ],
      "text/plain": [
       "Matrix([\n",
       "[R1],\n",
       "[R2],\n",
       "[R3],\n",
       "[R4],\n",
       "[R5],\n",
       "[R6]])"
      ]
     },
     "execution_count": 6,
     "metadata": {},
     "output_type": "execute_result"
    }
   ],
   "source": [
    "R = Matrix([[R1], [R2], [R3], [R4], [R5], [R6]])\n",
    "R"
   ]
  },
  {
   "cell_type": "markdown",
   "metadata": {},
   "source": [
    "## Παράδειγμα 2 - Επίλυση αμφιέρειστης"
   ]
  },
  {
   "cell_type": "markdown",
   "metadata": {},
   "source": [
    "![ekfonisi_1](ekfonisi_1.png) ![ekfonisi_2](ekfonisi_2.png)\n"
   ]
  },
  {
   "cell_type": "markdown",
   "metadata": {},
   "source": [
    "### Υπολογισμός παραμέτρων παραδείγματος"
   ]
  },
  {
   "cell_type": "code",
   "execution_count": 7,
   "metadata": {},
   "outputs": [],
   "source": [
    "A_example = 0.08                # m^2\n",
    "I_example = 0.002               # m^4\n",
    "E_example = 1.0e10              # Pa\n",
    "L_example = 4.0                 # m\n",
    "P_example = 80_000.0            # N/m\n"
   ]
  },
  {
   "cell_type": "markdown",
   "metadata": {},
   "source": [
    "### Αντικατάσταση τιμών στο μητρώο στιβαρότητας"
   ]
  },
  {
   "cell_type": "code",
   "execution_count": 8,
   "metadata": {},
   "outputs": [
    {
     "data": {
      "text/latex": [
       "$\\displaystyle \\left[\\begin{matrix}200000000.0 & 0 & 0 & -200000000.0 & 0 & 0\\\\0 & 3750000.0 & 7500000.0 & 0 & -3750000.0 & 7500000.0\\\\0 & 7500000.0 & 20000000.0 & 0 & -7500000.0 & 10000000.0\\\\-200000000.0 & 0 & 0 & 200000000.0 & 0 & 0\\\\0 & -3750000.0 & -7500000.0 & 0 & 3750000.0 & -7500000.0\\\\0 & 7500000.0 & 10000000.0 & 0 & -7500000.0 & 20000000.0\\end{matrix}\\right]$"
      ],
      "text/plain": [
       "Matrix([\n",
       "[ 200000000.0,          0,          0, -200000000.0,          0,          0],\n",
       "[           0,  3750000.0,  7500000.0,            0, -3750000.0,  7500000.0],\n",
       "[           0,  7500000.0, 20000000.0,            0, -7500000.0, 10000000.0],\n",
       "[-200000000.0,          0,          0,  200000000.0,          0,          0],\n",
       "[           0, -3750000.0, -7500000.0,            0,  3750000.0, -7500000.0],\n",
       "[           0,  7500000.0, 10000000.0,            0, -7500000.0, 20000000.0]])"
      ]
     },
     "execution_count": 8,
     "metadata": {},
     "output_type": "execute_result"
    }
   ],
   "source": [
    "k_example = K.subs(A, A_example).subs(E, E_example).subs(I, I_example).subs(L, L_example)\n",
    "k_example"
   ]
  },
  {
   "cell_type": "markdown",
   "metadata": {},
   "source": [
    "### Αντικατάσταση τιμών στο μητρώο δυνάμεων"
   ]
  },
  {
   "cell_type": "markdown",
   "metadata": {},
   "source": [
    "Θεωρώντας αμφίπακτη δοκό, οι τιμές των δυνάμεων στα άκρα είναι σύμφωνα με τις σχέσεις:\n",
    "\n",
    "\n",
    "$P_A = P_B = P_2=P_5=-P/2$\n",
    "\n",
    "$M_A = P_3= - P\\cdot L/8$\n",
    "\n",
    "$M_B = P_6= P\\cdot L/8$\n",
    "\n",
    "![uniform](uniform.png) "
   ]
  },
  {
   "cell_type": "code",
   "execution_count": 9,
   "metadata": {},
   "outputs": [
    {
     "data": {
      "text/latex": [
       "$\\displaystyle \\left[\\begin{matrix}0\\\\-40000.0\\\\-40000.0\\\\0\\\\-40000.0\\\\40000.0\\end{matrix}\\right]$"
      ],
      "text/plain": [
       "Matrix([\n",
       "[       0],\n",
       "[-40000.0],\n",
       "[-40000.0],\n",
       "[       0],\n",
       "[-40000.0],\n",
       "[ 40000.0]])"
      ]
     },
     "execution_count": 9,
     "metadata": {},
     "output_type": "execute_result"
    }
   ],
   "source": [
    "PA_example = PB_example = - P_example / 2\n",
    "MA_example = - P_example * L_example / 8\n",
    "MB_example = -MA_example\n",
    "p_example = P.subs(P1, 0).subs(P2, PA_example).subs(P3, MA_example).subs(P4, 0).subs(P5, PB_example).subs(P6, MB_example)\n",
    "p_example"
   ]
  },
  {
   "cell_type": "markdown",
   "metadata": {},
   "source": [
    "## Υπολογισμός των παραμορφώσεων και των αντιδράσεων"
   ]
  },
  {
   "cell_type": "markdown",
   "metadata": {},
   "source": [
    "Στόχος είναι η επίλυση της μητρωικής εξίσωσης:\n",
    "\n",
    "$ [k] \\cdot [u] = [P] + [R]$\n",
    "\n",
    "στην οποία όμως υπάρχουν 2 άγνωστοι, οι πίνακες $[u]$ και $[R]$.\n",
    "\n",
    "Επιπλέον, παρατηρείται ότι το μητρώο στιβαρότητας δεν μπορεί να αντιστραφεί καθώς η ορίζουσά του είναι μεδενική."
   ]
  },
  {
   "cell_type": "code",
   "execution_count": 10,
   "metadata": {},
   "outputs": [
    {
     "data": {
      "text/latex": [
       "$\\displaystyle 0$"
      ],
      "text/plain": [
       "0"
      ]
     },
     "execution_count": 10,
     "metadata": {},
     "output_type": "execute_result"
    }
   ],
   "source": [
    "# Υπολογισμός ορίζουσας του μητρώου στιβαρότητας\n",
    "k_example.det()"
   ]
  },
  {
   "cell_type": "markdown",
   "metadata": {},
   "source": [
    "### Αντικατάσταση γνωστών τιμών στα μητρώα αντιδράσεων και παραμορφώσεων"
   ]
  },
  {
   "cell_type": "markdown",
   "metadata": {},
   "source": [
    "Στο μητρώο αντιδράσεων, οι αντιδράσεις $R_3$, $R_4$, $R_6$, ενώ αντίστοιχα, στο μητρώο παραμορφώσεων οι παραμορφώσεις $U_1$, $U_2$, $U_5$ θα είναι μηδενικές."
   ]
  },
  {
   "cell_type": "code",
   "execution_count": 11,
   "metadata": {},
   "outputs": [
    {
     "data": {
      "text/latex": [
       "$\\displaystyle \\left[\\begin{matrix}0\\\\0\\\\R_{3 example}\\\\R_{4 example}\\\\0\\\\R_{6 example}\\end{matrix}\\right]$"
      ],
      "text/plain": [
       "Matrix([\n",
       "[         0],\n",
       "[         0],\n",
       "[R3_example],\n",
       "[R4_example],\n",
       "[         0],\n",
       "[R6_example]])"
      ]
     },
     "execution_count": 11,
     "metadata": {},
     "output_type": "execute_result"
    }
   ],
   "source": [
    "R3_example, R4_example, R6_example = sym.symbols('R3_example R4_example R6_example')\n",
    "r_example = R.subs(R1, 0).subs(R2, 0).subs(R3, R3_example).subs(R4, R4_example).subs(R5, 0).subs(R6, R6_example)\n",
    "r_example"
   ]
  },
  {
   "cell_type": "code",
   "execution_count": 12,
   "metadata": {},
   "outputs": [
    {
     "data": {
      "text/latex": [
       "$\\displaystyle \\left[\\begin{matrix}0\\\\0\\\\U_{3 example}\\\\U_{4 example}\\\\0\\\\U_{6 example}\\end{matrix}\\right]$"
      ],
      "text/plain": [
       "Matrix([\n",
       "[         0],\n",
       "[         0],\n",
       "[U3_example],\n",
       "[U4_example],\n",
       "[         0],\n",
       "[U6_example]])"
      ]
     },
     "execution_count": 12,
     "metadata": {},
     "output_type": "execute_result"
    }
   ],
   "source": [
    "U3_example, U4_example, U6_example = sym.symbols('U3_example U4_example U6_example')\n",
    "u_example = U.subs(U1, 0).subs(U2, 0).subs(U3, U3_example).subs(U4, U4_example).subs(U5, 0).subs(U6, U6_example)\n",
    "u_example"
   ]
  },
  {
   "cell_type": "markdown",
   "metadata": {},
   "source": [
    "### Διαχωρισμός σε υπομητρώα"
   ]
  },
  {
   "cell_type": "markdown",
   "metadata": {},
   "source": [
    "Παρατηρείται ότι αν θεωρηθεί το υπομητρώο με τα τελευταία 3 στοιχεία των πινάκων $[k]$, $[P]$, $[R]$ και $[u]$, τότε η μητρωική εξίσωση γίνεται:\n",
    "\n",
    "$ [k_{346}] \\cdot [u_{346}] = [P_{346}] + [R_{346}]$\n",
    "\n",
    "όπου μάλιστα το $[R_{346}]$ είναι μηδενικό."
   ]
  },
  {
   "cell_type": "code",
   "execution_count": 13,
   "metadata": {},
   "outputs": [],
   "source": [
    "k_346 = Matrix(k_example[[2, 3, 5], [2,3,5]])\n",
    "p_346 = Matrix(p_example[[2, 3, 5], 0])\n",
    "r_346 = Matrix(r_example[[2, 3, 5], 0])\n",
    "u_346 = Matrix(u_example[[2, 3, 5], 0])\n"
   ]
  },
  {
   "cell_type": "code",
   "execution_count": 14,
   "metadata": {},
   "outputs": [
    {
     "data": {
      "text/latex": [
       "$\\displaystyle \\left[\\begin{matrix}20000000.0 & 0 & 10000000.0\\\\0 & 200000000.0 & 0\\\\10000000.0 & 0 & 20000000.0\\end{matrix}\\right]$"
      ],
      "text/plain": [
       "Matrix([\n",
       "[20000000.0,           0, 10000000.0],\n",
       "[         0, 200000000.0,          0],\n",
       "[10000000.0,           0, 20000000.0]])"
      ]
     },
     "execution_count": 14,
     "metadata": {},
     "output_type": "execute_result"
    }
   ],
   "source": [
    "k_346"
   ]
  },
  {
   "cell_type": "code",
   "execution_count": 15,
   "metadata": {},
   "outputs": [
    {
     "data": {
      "text/latex": [
       "$\\displaystyle \\left[\\begin{matrix}R_{3 example}\\\\R_{4 example}\\\\R_{6 example}\\end{matrix}\\right]$"
      ],
      "text/plain": [
       "Matrix([\n",
       "[R3_example],\n",
       "[R4_example],\n",
       "[R6_example]])"
      ]
     },
     "execution_count": 15,
     "metadata": {},
     "output_type": "execute_result"
    }
   ],
   "source": [
    "r_346"
   ]
  },
  {
   "cell_type": "code",
   "execution_count": 16,
   "metadata": {},
   "outputs": [
    {
     "data": {
      "text/latex": [
       "$\\displaystyle \\left[\\begin{matrix}U_{3 example}\\\\U_{4 example}\\\\U_{6 example}\\end{matrix}\\right]$"
      ],
      "text/plain": [
       "Matrix([\n",
       "[U3_example],\n",
       "[U4_example],\n",
       "[U6_example]])"
      ]
     },
     "execution_count": 16,
     "metadata": {},
     "output_type": "execute_result"
    }
   ],
   "source": [
    "u_346"
   ]
  },
  {
   "cell_type": "code",
   "execution_count": 17,
   "metadata": {},
   "outputs": [
    {
     "data": {
      "text/latex": [
       "$\\displaystyle \\left[\\begin{matrix}-40000.0\\\\0\\\\40000.0\\end{matrix}\\right]$"
      ],
      "text/plain": [
       "Matrix([\n",
       "[-40000.0],\n",
       "[       0],\n",
       "[ 40000.0]])"
      ]
     },
     "execution_count": 17,
     "metadata": {},
     "output_type": "execute_result"
    }
   ],
   "source": [
    "p_346"
   ]
  },
  {
   "cell_type": "markdown",
   "metadata": {},
   "source": [
    "Από τον πολλαπλασιασμό των $ [k_{346}] \\cdot [u_{346}]$ και την εξίσωση του γινομένου με το $[P_{346}]$ προκύπτει ένα σύστημα 3x3 εξισώσεων, όπου φυσικά $U_4=0 $ οπότε καταλήγουμε σε σύστημα 2x2"
   ]
  },
  {
   "cell_type": "code",
   "execution_count": 18,
   "metadata": {},
   "outputs": [
    {
     "data": {
      "text/latex": [
       "$\\displaystyle \\left[\\begin{matrix}20000000.0 U_{3 example} + 10000000.0 U_{6 example}\\\\200000000.0 U_{4 example}\\\\10000000.0 U_{3 example} + 20000000.0 U_{6 example}\\end{matrix}\\right]$"
      ],
      "text/plain": [
       "Matrix([\n",
       "[20000000.0*U3_example + 10000000.0*U6_example],\n",
       "[                       200000000.0*U4_example],\n",
       "[10000000.0*U3_example + 20000000.0*U6_example]])"
      ]
     },
     "execution_count": 18,
     "metadata": {},
     "output_type": "execute_result"
    }
   ],
   "source": [
    "k_346 * u_346"
   ]
  },
  {
   "cell_type": "markdown",
   "metadata": {},
   "source": [
    "Από τη λύση του συστήματος προκύπτουν οι τιμές των παραμορφώσεων $U_3$ και $U_6$."
   ]
  },
  {
   "cell_type": "markdown",
   "metadata": {},
   "source": [
    "### Εναλλακτική επίλυση με πράξεις μητρώων\n"
   ]
  },
  {
   "cell_type": "markdown",
   "metadata": {},
   "source": [
    "Η εξίσωση:\n",
    "\n",
    "$ [k_{346}] \\cdot [u_{346}] = [P_{346}] + [R_{346}]$\n",
    "\n",
    "για μηδενικό $[R_{346}]$ μπορεί να γραφτεί και ως:\n",
    "\n",
    "$ [k_{346}] \\cdot [u_{346}] = [P_{346}]$\n",
    "\n",
    "οπότε \n",
    "\n",
    "$ [k_{346}]^{-1}[k_{346}] \\cdot [u_{346}] = [k_{346}]^{-1} \\cdot [P_{346}]$\n",
    "\n",
    "$ [u_{346}] = [k_{346}]^{-1} \\cdot [P_{346}]$\n",
    "\n",
    "Το μητρώο $[k_{346}]$ είναι πλέον αντιστρέψιμο"
   ]
  },
  {
   "cell_type": "code",
   "execution_count": 19,
   "metadata": {},
   "outputs": [
    {
     "data": {
      "text/latex": [
       "$\\displaystyle \\left[\\begin{matrix}6.66666666666667 \\cdot 10^{-8} & 0 & -3.33333333333333 \\cdot 10^{-8}\\\\0 & 5.0 \\cdot 10^{-9} & 0\\\\-3.33333333333333 \\cdot 10^{-8} & 0 & 6.66666666666667 \\cdot 10^{-8}\\end{matrix}\\right]$"
      ],
      "text/plain": [
       "Matrix([\n",
       "[ 6.66666666666667e-8,      0, -3.33333333333333e-8],\n",
       "[                   0, 5.0e-9,                    0],\n",
       "[-3.33333333333333e-8,      0,  6.66666666666667e-8]])"
      ]
     },
     "execution_count": 19,
     "metadata": {},
     "output_type": "execute_result"
    }
   ],
   "source": [
    "# Το αντίστροφο του μητρώου στιβαρότητας για τα στοιχεία 346\n",
    "k_346.inv()"
   ]
  },
  {
   "cell_type": "code",
   "execution_count": 20,
   "metadata": {},
   "outputs": [
    {
     "data": {
      "text/latex": [
       "$\\displaystyle \\left[\\begin{matrix}-0.004\\\\0\\\\0.004\\end{matrix}\\right]$"
      ],
      "text/plain": [
       "Matrix([\n",
       "[-0.004],\n",
       "[     0],\n",
       "[ 0.004]])"
      ]
     },
     "execution_count": 20,
     "metadata": {},
     "output_type": "execute_result"
    }
   ],
   "source": [
    "u_346_solution = Matrix(k_346.inv() * p_346)\n",
    "u_346_solution"
   ]
  },
  {
   "cell_type": "markdown",
   "metadata": {},
   "source": [
    "Το παραπάνω αποτέλεσμα είναι οι τιμές του μητρώου $[u_{346}]$, άρα των παραμορφώσεων $U_3$, $U_4$ και $U_6$.\n",
    "\n",
    "οπότε πλέον το οι τιμές των U3, U4 και U6 της λύσης μπορούν να αντιστοιχηθούν στις σχετικές μεταβλητές"
   ]
  },
  {
   "cell_type": "code",
   "execution_count": 21,
   "metadata": {},
   "outputs": [
    {
     "data": {
      "text/latex": [
       "$\\displaystyle \\left[\\begin{matrix}0\\\\0\\\\-0.004\\\\0\\\\0\\\\0.004\\end{matrix}\\right]$"
      ],
      "text/plain": [
       "Matrix([\n",
       "[     0],\n",
       "[     0],\n",
       "[-0.004],\n",
       "[     0],\n",
       "[     0],\n",
       "[ 0.004]])"
      ]
     },
     "execution_count": 21,
     "metadata": {},
     "output_type": "execute_result"
    }
   ],
   "source": [
    "u_solution = u_example.subs(U3_example, u_346_solution[0]).subs(U4_example, u_346_solution[1]).subs(U6_example, u_346_solution[2])\n",
    "u_example = u_solution\n",
    "u_example"
   ]
  },
  {
   "cell_type": "markdown",
   "metadata": {},
   "source": [
    "Η αρχική μητρωική εξίσωση έχει πλέον ως μόνο άγνωστο το μητρώο [R]:\n",
    "\n",
    "$ [k] \\cdot [u] = [P] + [R]$\n",
    "\n",
    "οπότε:\n",
    "\n",
    "$[R] = [k] \\cdot [u] - [P]$"
   ]
  },
  {
   "cell_type": "code",
   "execution_count": 22,
   "metadata": {},
   "outputs": [
    {
     "data": {
      "text/latex": [
       "$\\displaystyle \\left[\\begin{matrix}0\\\\40000.0\\\\0\\\\0\\\\40000.0\\\\0\\end{matrix}\\right]$"
      ],
      "text/plain": [
       "Matrix([\n",
       "[      0],\n",
       "[40000.0],\n",
       "[      0],\n",
       "[      0],\n",
       "[40000.0],\n",
       "[      0]])"
      ]
     },
     "execution_count": 22,
     "metadata": {},
     "output_type": "execute_result"
    }
   ],
   "source": [
    "r_solution = Matrix(k_example * u_example - p_example)\n",
    "r_solution\n"
   ]
  },
  {
   "cell_type": "markdown",
   "metadata": {},
   "source": []
  }
 ],
 "metadata": {
  "kernelspec": {
   "display_name": "Python 3.8.13 ('streng')",
   "language": "python",
   "name": "python3"
  },
  "language_info": {
   "codemirror_mode": {
    "name": "ipython",
    "version": 3
   },
   "file_extension": ".py",
   "mimetype": "text/x-python",
   "name": "python",
   "nbconvert_exporter": "python",
   "pygments_lexer": "ipython3",
   "version": "3.8.13"
  },
  "orig_nbformat": 4,
  "vscode": {
   "interpreter": {
    "hash": "ca6f3e81e61ca9f5e9e00337e08560702d62287af7622857857ab999dce5701e"
   }
  }
 },
 "nbformat": 4,
 "nbformat_minor": 2
}
