{
 "cells": [
  {
   "cell_type": "code",
   "execution_count": 5,
   "id": "a0c425bd-5844-4254-87f9-234df49c9193",
   "metadata": {},
   "outputs": [],
   "source": [
    "import sympy as sym\n",
    "from sympy import Matrix\n",
    "from mitroiki_functs import K_without_axial\n",
    "from mitroiki_functs import P_point_load_at_distance_a, P_uniformly_distributed_load\n",
    "from mitroiki_functs import round_expr"
   ]
  },
  {
   "cell_type": "code",
   "execution_count": 6,
   "id": "4653aec1-cc7b-46fb-a942-22f42e4aa0e9",
   "metadata": {},
   "outputs": [],
   "source": [
    "E = 10_000.\n",
    "I = 1.\n",
    "L_ΕΑ = 1.5\n",
    "L_ΑΒ = 5.0\n",
    "L_ΒΔ = L_ΔΓ = 2.5"
   ]
  },
  {
   "cell_type": "code",
   "execution_count": 7,
   "id": "12f3fd41-0d6b-4d7a-8086-df5aec1f565a",
   "metadata": {},
   "outputs": [
    {
     "data": {
      "text/latex": [
       "$\\displaystyle \\left[\\begin{matrix}960.0 & 2400.0 & -960.0 & 2400.0\\\\2400.0 & 8000.0 & -2400.0 & 4000.0\\\\-960.0 & -2400.0 & 960.0 & -2400.0\\\\2400.0 & 4000.0 & -2400.0 & 8000.0\\end{matrix}\\right]$"
      ],
      "text/plain": [
       "Matrix([\n",
       "[ 960.0,  2400.0,  -960.0,  2400.0],\n",
       "[2400.0,  8000.0, -2400.0,  4000.0],\n",
       "[-960.0, -2400.0,   960.0, -2400.0],\n",
       "[2400.0,  4000.0, -2400.0,  8000.0]])"
      ]
     },
     "execution_count": 7,
     "metadata": {},
     "output_type": "execute_result"
    }
   ],
   "source": [
    "K_ΑΒ = K_ΒΓ = K_without_axial(E=E, I=I, L=L_ΑΒ)\n",
    "K_ΑΒ"
   ]
  },
  {
   "cell_type": "markdown",
   "id": "45031ec9-f23f-4052-8c7b-3cc578204c7d",
   "metadata": {},
   "source": [
    "| Καθολ. Συστ. | (1) | (2) | (3) | (4) | (5) | (6) | (7) |\n",
    "|--------------|-----|-----|-----|-----|-----|-----|-----|\n",
    "| ΑΒ           | -   | 1   | 2   | 3   | 4   | -   | -   |\n",
    "| ΒΓ           | 1   | -   | -   | -   | 2   | 3   | 4   |\n",
    "\n",
    "\n",
    "\n",
    "<!-- | Header      | <span style=\"color:red\">text</span>       | Here's this   | | | | | -->"
   ]
  },
  {
   "cell_type": "code",
   "execution_count": 8,
   "id": "78d3abed-8075-41f0-8df4-66a05f5d31a3",
   "metadata": {},
   "outputs": [
    {
     "data": {
      "text/latex": [
       "$\\displaystyle \\left[\\begin{matrix}0 & 0 & 0 & 0 & 0 & 0 & 0\\\\0 & 960.0 & 2400.0 & -960.0 & 2400.0 & 0 & 0\\\\0 & 2400.0 & 8000.0 & -2400.0 & 4000.0 & 0 & 0\\\\0 & -960.0 & -2400.0 & 960.0 & -2400.0 & 0 & 0\\\\0 & 2400.0 & 4000.0 & -2400.0 & 8000.0 & 0 & 0\\\\0 & 0 & 0 & 0 & 0 & 0 & 0\\\\0 & 0 & 0 & 0 & 0 & 0 & 0\\end{matrix}\\right]$"
      ],
      "text/plain": [
       "Matrix([\n",
       "[0,      0,       0,       0,       0, 0, 0],\n",
       "[0,  960.0,  2400.0,  -960.0,  2400.0, 0, 0],\n",
       "[0, 2400.0,  8000.0, -2400.0,  4000.0, 0, 0],\n",
       "[0, -960.0, -2400.0,   960.0, -2400.0, 0, 0],\n",
       "[0, 2400.0,  4000.0, -2400.0,  8000.0, 0, 0],\n",
       "[0,      0,       0,       0,       0, 0, 0],\n",
       "[0,      0,       0,       0,       0, 0, 0]])"
      ]
     },
     "execution_count": 8,
     "metadata": {},
     "output_type": "execute_result"
    }
   ],
   "source": [
    "K_temp_ΑΒ = sym.zeros(7,7)\n",
    "K_temp_ΑΒ[1:5, 1:5] += K_ΑΒ\n",
    "K_temp_ΑΒ"
   ]
  },
  {
   "cell_type": "code",
   "execution_count": 9,
   "id": "c78eab00-c7dc-4b3c-9714-78859f80a720",
   "metadata": {},
   "outputs": [
    {
     "data": {
      "text/latex": [
       "$\\displaystyle \\left[\\begin{matrix}960.0 & 0 & 0 & 0 & 2400.0 & -960.0 & 2400.0\\\\0 & 0 & 0 & 0 & 0 & 0 & 0\\\\0 & 0 & 0 & 0 & 0 & 0 & 0\\\\0 & 0 & 0 & 0 & 0 & 0 & 0\\\\2400.0 & 0 & 0 & 0 & 8000.0 & -2400.0 & 4000.0\\\\-960.0 & 0 & 0 & 0 & -2400.0 & 960.0 & -2400.0\\\\2400.0 & 0 & 0 & 0 & 4000.0 & -2400.0 & 8000.0\\end{matrix}\\right]$"
      ],
      "text/plain": [
       "Matrix([\n",
       "[ 960.0, 0, 0, 0,  2400.0,  -960.0,  2400.0],\n",
       "[     0, 0, 0, 0,       0,       0,       0],\n",
       "[     0, 0, 0, 0,       0,       0,       0],\n",
       "[     0, 0, 0, 0,       0,       0,       0],\n",
       "[2400.0, 0, 0, 0,  8000.0, -2400.0,  4000.0],\n",
       "[-960.0, 0, 0, 0, -2400.0,   960.0, -2400.0],\n",
       "[2400.0, 0, 0, 0,  4000.0, -2400.0,  8000.0]])"
      ]
     },
     "execution_count": 9,
     "metadata": {},
     "output_type": "execute_result"
    }
   ],
   "source": [
    "K_temp_ΒΓ = sym.zeros(7,7)\n",
    "K_temp_ΒΓ[0, 0] += K_ΒΓ[0, 0]\n",
    "K_temp_ΒΓ[0, 4:7] += K_ΒΓ[0, 1:4]\n",
    "K_temp_ΒΓ[4:7, 0] += K_ΒΓ[1:4, 0]\n",
    "K_temp_ΒΓ[4:7, 4:7] += K_ΒΓ[1:, 1:]\n",
    "K_temp_ΒΓ"
   ]
  },
  {
   "cell_type": "code",
   "execution_count": 10,
   "id": "f7b19872-b8fe-4a01-82c9-6db3bb94e974",
   "metadata": {},
   "outputs": [
    {
     "data": {
      "text/latex": [
       "$\\displaystyle \\left[\\begin{matrix}960.0 & 0 & 0 & 0 & 2400.0 & -960.0 & 2400.0\\\\0 & 960.0 & 2400.0 & -960.0 & 2400.0 & 0 & 0\\\\0 & 2400.0 & 8000.0 & -2400.0 & 4000.0 & 0 & 0\\\\0 & -960.0 & -2400.0 & 960.0 & -2400.0 & 0 & 0\\\\2400.0 & 2400.0 & 4000.0 & -2400.0 & 16000.0 & -2400.0 & 4000.0\\\\-960.0 & 0 & 0 & 0 & -2400.0 & 960.0 & -2400.0\\\\2400.0 & 0 & 0 & 0 & 4000.0 & -2400.0 & 8000.0\\end{matrix}\\right]$"
      ],
      "text/plain": [
       "Matrix([\n",
       "[ 960.0,      0,       0,       0,  2400.0,  -960.0,  2400.0],\n",
       "[     0,  960.0,  2400.0,  -960.0,  2400.0,       0,       0],\n",
       "[     0, 2400.0,  8000.0, -2400.0,  4000.0,       0,       0],\n",
       "[     0, -960.0, -2400.0,   960.0, -2400.0,       0,       0],\n",
       "[2400.0, 2400.0,  4000.0, -2400.0, 16000.0, -2400.0,  4000.0],\n",
       "[-960.0,      0,       0,       0, -2400.0,   960.0, -2400.0],\n",
       "[2400.0,      0,       0,       0,  4000.0, -2400.0,  8000.0]])"
      ]
     },
     "execution_count": 10,
     "metadata": {},
     "output_type": "execute_result"
    }
   ],
   "source": [
    "K = K_temp_ΑΒ + K_temp_ΒΓ\n",
    "K"
   ]
  },
  {
   "cell_type": "markdown",
   "id": "02861fa2-2819-4edd-aa14-14c67b3d94cf",
   "metadata": {},
   "source": [
    "| Header      | <span style=\"color:red\">text</span>       | Here's this   | | | | |"
   ]
  },
  {
   "cell_type": "code",
   "execution_count": 11,
   "id": "61776c86-3d71-41e2-a0f7-f1544abe64be",
   "metadata": {},
   "outputs": [
    {
     "data": {
      "text/latex": [
       "$\\displaystyle \\left[\\begin{matrix}960.0 & 0 & 2400.0\\\\0 & 8000.0 & 4000.0\\\\2400.0 & 4000.0 & 16000.0\\end{matrix}\\right]$"
      ],
      "text/plain": [
       "Matrix([\n",
       "[ 960.0,      0,  2400.0],\n",
       "[     0, 8000.0,  4000.0],\n",
       "[2400.0, 4000.0, 16000.0]])"
      ]
     },
     "execution_count": 11,
     "metadata": {},
     "output_type": "execute_result"
    }
   ],
   "source": [
    "K_UU = K[[0, 2, 4], [0, 2, 4]]\n",
    "K_UU"
   ]
  },
  {
   "cell_type": "code",
   "execution_count": 31,
   "id": "c434349a-9c4a-4299-9900-ebc3eac42d61",
   "metadata": {},
   "outputs": [
    {
     "data": {
      "text/latex": [
       "$\\displaystyle \\left[\\begin{matrix}0 & 2400.0 & 2400.0\\\\0 & -2400.0 & -2400.0\\\\-960.0 & 0 & -2400.0\\\\2400.0 & 0 & 4000.0\\end{matrix}\\right]$"
      ],
      "text/plain": [
       "Matrix([\n",
       "[     0,  2400.0,  2400.0],\n",
       "[     0, -2400.0, -2400.0],\n",
       "[-960.0,       0, -2400.0],\n",
       "[2400.0,       0,  4000.0]])"
      ]
     },
     "execution_count": 31,
     "metadata": {},
     "output_type": "execute_result"
    }
   ],
   "source": [
    "K_RU = K[[1, 3, 5, 6], [0, 2, 4]]\n",
    "K_RU"
   ]
  },
  {
   "cell_type": "code",
   "execution_count": 13,
   "id": "f3d635f8-cd16-4799-9a06-f18a1239a5c7",
   "metadata": {},
   "outputs": [],
   "source": [
    "# from anastruct import SystemElements"
   ]
  },
  {
   "cell_type": "code",
   "execution_count": 32,
   "id": "18f74ee1-a087-48f7-ae5b-3d5fef2dbdf7",
   "metadata": {},
   "outputs": [
    {
     "data": {
      "text/latex": [
       "$\\displaystyle \\left[\\begin{matrix}50\\\\-120\\\\-28.75\\\\-75\\\\125\\\\50\\\\-62.5\\end{matrix}\\right]$"
      ],
      "text/plain": [
       "Matrix([\n",
       "[    50],\n",
       "[  -120],\n",
       "[-28.75],\n",
       "[   -75],\n",
       "[   125],\n",
       "[    50],\n",
       "[ -62.5]])"
      ]
     },
     "execution_count": 32,
     "metadata": {},
     "output_type": "execute_result"
    }
   ],
   "source": [
    "P = Matrix([[50], [-120], [-28.75], [-75], [125], [50], [-62.5]])\n",
    "P "
   ]
  },
  {
   "cell_type": "code",
   "execution_count": 23,
   "id": "868a3674-b31a-46c5-95f1-396bbaa97f5b",
   "metadata": {},
   "outputs": [
    {
     "data": {
      "text/latex": [
       "$\\displaystyle \\left[\\begin{matrix}50\\\\-28.75\\\\125\\end{matrix}\\right]$"
      ],
      "text/plain": [
       "Matrix([\n",
       "[    50],\n",
       "[-28.75],\n",
       "[   125]])"
      ]
     },
     "execution_count": 23,
     "metadata": {},
     "output_type": "execute_result"
    }
   ],
   "source": [
    "P_U = P[[0, 2, 4], 0]\n",
    "P_U"
   ]
  },
  {
   "cell_type": "code",
   "execution_count": 24,
   "id": "12b48cf8-e2a3-4fc0-907b-9b417cf22d53",
   "metadata": {},
   "outputs": [
    {
     "data": {
      "text/latex": [
       "$\\displaystyle \\left[\\begin{matrix}-120\\\\-75\\\\50\\\\-62.5\\end{matrix}\\right]$"
      ],
      "text/plain": [
       "Matrix([\n",
       "[ -120],\n",
       "[  -75],\n",
       "[   50],\n",
       "[-62.5]])"
      ]
     },
     "execution_count": 24,
     "metadata": {},
     "output_type": "execute_result"
    }
   ],
   "source": [
    "P_R = P[[1, 3, 5, 6], 0]\n",
    "P_R"
   ]
  },
  {
   "cell_type": "code",
   "execution_count": 26,
   "id": "ac14225c-6356-412d-a9fa-9605184e0c4e",
   "metadata": {},
   "outputs": [
    {
     "data": {
      "text/latex": [
       "$\\displaystyle \\left[\\begin{matrix}0.0475911458333333\\\\-0.0044921875\\\\0.001796875\\end{matrix}\\right]$"
      ],
      "text/plain": [
       "Matrix([\n",
       "[0.0475911458333333],\n",
       "[     -0.0044921875],\n",
       "[       0.001796875]])"
      ]
     },
     "execution_count": 26,
     "metadata": {},
     "output_type": "execute_result"
    }
   ],
   "source": [
    "U_U = K_UU.inv() * P_U\n",
    "U_U"
   ]
  },
  {
   "cell_type": "code",
   "execution_count": 35,
   "id": "08902c1d-cab5-43bf-9fe3-d01a4190530d",
   "metadata": {},
   "outputs": [
    {
     "data": {
      "text/latex": [
       "$\\displaystyle \\left[\\begin{matrix}0.04759\\\\0\\\\-0.00449\\\\0\\\\0.0018\\\\0\\\\0\\end{matrix}\\right]$"
      ],
      "text/plain": [
       "Matrix([\n",
       "[ 0.04759],\n",
       "[       0],\n",
       "[-0.00449],\n",
       "[       0],\n",
       "[  0.0018],\n",
       "[       0],\n",
       "[       0]])"
      ]
     },
     "execution_count": 35,
     "metadata": {},
     "output_type": "execute_result"
    }
   ],
   "source": [
    "U = Matrix([[U_U[0]], [-0], [U_U[1]], [0], [U_U[2]], [0], [0]])\n",
    "round_expr(U, 5)"
   ]
  },
  {
   "cell_type": "code",
   "execution_count": 33,
   "id": "ff412fef-e765-4e38-acf5-ccf59497b8a5",
   "metadata": {},
   "outputs": [
    {
     "data": {
      "text/latex": [
       "$\\displaystyle \\left[\\begin{matrix}0\\\\113.53\\\\0\\\\81.47\\\\0\\\\-100.0\\\\183.91\\end{matrix}\\right]$"
      ],
      "text/plain": [
       "Matrix([\n",
       "[     0],\n",
       "[113.53],\n",
       "[     0],\n",
       "[ 81.47],\n",
       "[     0],\n",
       "[-100.0],\n",
       "[183.91]])"
      ]
     },
     "execution_count": 33,
     "metadata": {},
     "output_type": "execute_result"
    }
   ],
   "source": [
    "R = K * U - P\n",
    "round_expr(R, 2)"
   ]
  },
  {
   "cell_type": "code",
   "execution_count": null,
   "id": "4050b838-3324-4f3d-bebd-89250737010e",
   "metadata": {},
   "outputs": [],
   "source": []
  }
 ],
 "metadata": {
  "kernelspec": {
   "display_name": "Python 3 (ipykernel)",
   "language": "python",
   "name": "python3"
  },
  "language_info": {
   "codemirror_mode": {
    "name": "ipython",
    "version": 3
   },
   "file_extension": ".py",
   "mimetype": "text/x-python",
   "name": "python",
   "nbconvert_exporter": "python",
   "pygments_lexer": "ipython3",
   "version": "3.8.13"
  }
 },
 "nbformat": 4,
 "nbformat_minor": 5
}
