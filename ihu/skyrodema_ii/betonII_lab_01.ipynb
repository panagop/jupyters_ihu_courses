{
 "cells": [
  {
   "cell_type": "markdown",
   "metadata": {},
   "source": [
    "# Κατασκευές Οπλισμένου Σκυροδέματος ΙΙ: Δεδομένα - Αρχικοί υπολογισμοί"
   ]
  },
  {
   "cell_type": "code",
   "execution_count": 1,
   "metadata": {},
   "outputs": [],
   "source": [
    "#!pip install streng"
   ]
  },
  {
   "cell_type": "code",
   "execution_count": 2,
   "metadata": {},
   "outputs": [],
   "source": [
    "from streng.codes.eurocodes.ec8.cls.seismic_action.spectra import SpectraEc8\n",
    "from streng.codes.eurocodes.ec2.raw.ch5.geometric_data import effective_width\n",
    "from streng.ppp.sections.geometry.tee import TeeSectionGeometry\n",
    "from streng.ppp.sections.geometry.rectangular import RectangularSectionGeometry\n",
    "import numpy as np\n",
    "import matplotlib\n",
    "import matplotlib.pyplot as plt\n",
    "import openseespy.opensees as ops\n",
    "import openseespy.postprocessing.ops_vis as opsv"
   ]
  },
  {
   "cell_type": "markdown",
   "metadata": {},
   "source": [
    "## Δεδομένα"
   ]
  },
  {
   "cell_type": "markdown",
   "metadata": {},
   "source": [
    "### Μεταβλητές φοιτητή\n",
    "\n",
    "κ, λ τα τελευταία δύο ψηφία του ΑΕΜ, πχ για ΑΕΜ 1234 ή CIV91234 θα είναι κ=3, λ=4"
   ]
  },
  {
   "cell_type": "code",
   "execution_count": 3,
   "metadata": {},
   "outputs": [],
   "source": [
    "κ = 3\n",
    "λ = 4"
   ]
  },
  {
   "cell_type": "markdown",
   "metadata": {},
   "source": [
    "### Διαστάσεις φορέα\n",
    "\n",
    "$L = 19.5 - 0.1 * κ$\n",
    "\n",
    "$H = 6.20 - 0.1 * λ$\n",
    "\n",
    "$α = L / 4$\n",
    "\n",
    "$L_1 = L / 2$"
   ]
  },
  {
   "cell_type": "code",
   "execution_count": 4,
   "metadata": {
    "tags": []
   },
   "outputs": [
    {
     "name": "stdout",
     "output_type": "stream",
     "text": [
      "L = 19.20m\n",
      "H = 5.80m\n",
      "α = 4.800m\n",
      "L1 = 9.600m\n"
     ]
    }
   ],
   "source": [
    "L = 19.5 - 0.1 * κ\n",
    "H = 6.20 - 0.1 * λ\n",
    "α = L / 4\n",
    "L1 = L / 2\n",
    "\n",
    "print(f'L = {L:.2f}m')\n",
    "print(f'H = {H:.2f}m')\n",
    "print(f'α = {α:.3f}m')\n",
    "print(f'L1 = {L1:.3f}m')"
   ]
  },
  {
   "cell_type": "markdown",
   "metadata": {},
   "source": [
    "### Διαστάσεις διατομών"
   ]
  },
  {
   "cell_type": "markdown",
   "metadata": {},
   "source": [
    "Σε όλα τα δομικά στοιχεία να θεωρηθεί ότι η ονομαστική τιμή της επικάλυψης των οπλισμών είναι 25mm"
   ]
  },
  {
   "cell_type": "code",
   "execution_count": 5,
   "metadata": {},
   "outputs": [],
   "source": [
    "cnom = 0.003 # m"
   ]
  },
  {
   "cell_type": "markdown",
   "metadata": {},
   "source": [
    "#### Δοκοί\n",
    "\n",
    "$b_w = 0.40\\text{m}$\n",
    "\n",
    "$h_f = 0.20\\text{m}$\n",
    "\n",
    "$h = 1.15\\text{m}$ για $λ\\le4$\n",
    "\n",
    "$h = 1.05\\text{m}$ για $λ\\ge 5$\n",
    "\n",
    "Το συνεργαζόμενο πλάτος $b_{eff}$ να υπολογιστεί σύμφωνα με τις σχέσεις του EC2"
   ]
  },
  {
   "cell_type": "code",
   "execution_count": 6,
   "metadata": {
    "tags": []
   },
   "outputs": [
    {
     "name": "stdout",
     "output_type": "stream",
     "text": [
      "bw = 0.40m\n",
      "h = 1.15m\n",
      "hf = 0.20m\n",
      "h - hf = 0.95m\n"
     ]
    }
   ],
   "source": [
    "# Διαστάσεις δοκών\n",
    "bw = 0.40\n",
    "hf = 0.20\n",
    "if λ <= 4:\n",
    "    h = 1.15\n",
    "else:\n",
    "    h = 1.05\n",
    "\n",
    "print(f'bw = {bw:.2f}m')\n",
    "print(f'h = {h:.2f}m')\n",
    "print(f'hf = {hf:.2f}m')\n",
    "print(f'h - hf = {h - hf:.2f}m')"
   ]
  },
  {
   "cell_type": "markdown",
   "metadata": {},
   "source": [
    "#### Υπολογισμός συνεργαζόμενου πλάτους\n",
    "\n",
    "Η θεωρητική απόσταση ανάμεσα σε δύο σημεία μηδενισμού των ροπών είναι:\n",
    "$l_0 = 0.7\\cdot L_1 = 7.00\\text{m}$ για μεσαίο άνοιγμα (ροπή και στις δύο στηρίξεις)\n",
    "\n",
    "Η καθαρή απόσταση ανάμεσα σε δύο δοκούς στην εγκάρσια διεύθυνση είναι:\n",
    "\n",
    "$L_{n,εγκ1} = L_{n,εγκ2} = α - 2 * \\dfrac{b_w}{2} = 4.60\\text{m}$\n",
    "\n",
    "$b_1 = b_2 = \\dfrac{L_{n,εγκ1}}{2} = 2.30\\text{m}$\n",
    "\n",
    "$b = b_w + b_1 + b_2 = 5.00\\text{m}$\n",
    "\n",
    "$b_{eff,i}=0.2\\cdot b_i +0.1\\cdot l_0 \\le 0.2\\cdot l_0$\n",
    "\n",
    "$b_{eff,1} = b_{eff,2} = 0.2 * 2.30 + 0.1 * 7.0 = 1.16\\text{m} < 0.2 \\cdot l_0 = 1.4\\text{m}$"
   ]
  },
  {
   "cell_type": "code",
   "execution_count": 7,
   "metadata": {},
   "outputs": [
    {
     "name": "stdout",
     "output_type": "stream",
     "text": [
      "l0 = 6.720m\n",
      "Ln,εγκ1 = Ln,εγκ2 = 4.400m\n",
      "b1 = b2 = 2.200m\n",
      "b = 4.800m\n",
      "beff1 = beff2 = 1.112m\n",
      "beff = 2.624m\n"
     ]
    }
   ],
   "source": [
    "l0 = effective_width.l0(l2 = L1, zero_moments_case=2)\n",
    "ln_eg1 = ln_eg2 = α - bw\n",
    "b1 = b2 = ln_eg1 / 2.0\n",
    "_b = bw + b1 + b2\n",
    "beff1 = beff2 = effective_width.beffi(b1, l0)\n",
    "beff = beff2 = effective_width.beff(bw, beff1, beff2, _b)\n",
    "\n",
    "print(f'l0 = {l0:.3f}m')\n",
    "print(f'Ln,εγκ1 = Ln,εγκ2 = {ln_eg1:.3f}m')\n",
    "print(f'b1 = b2 = {b1:.3f}m')\n",
    "print(f'b = {_b:.3f}m')\n",
    "print(f'beff1 = beff2 = {beff1:.3f}m')\n",
    "print(f'beff = {beff:.3f}m')"
   ]
  },
  {
   "cell_type": "markdown",
   "metadata": {},
   "source": [
    "#### Στύλοι \n",
    "(χρησιμοποιώ δείκτη **c**(olumn) ώστε να μη γίνεται σύγχυση με τις διαστάσεις των δοκών)\n",
    "\n",
    "$b_c = 0.40\\text{m}$\n",
    "\n",
    "$h_c = 1.10\\text{m}$ για $λ\\le4$\n",
    "\n",
    "$h_c = 1.00\\text{m}$ για $λ\\ge 5$"
   ]
  },
  {
   "cell_type": "code",
   "execution_count": 8,
   "metadata": {},
   "outputs": [
    {
     "name": "stdout",
     "output_type": "stream",
     "text": [
      "bc = 0.40m\n",
      "hc = 1.05m\n"
     ]
    }
   ],
   "source": [
    "# Διαστάσεις στύλων\n",
    "bc = 0.40\n",
    "if λ <= 4:\n",
    "    hc = 1.05\n",
    "else:\n",
    "    hc = 0.95\n",
    "print(f'bc = {bc:.2f}m')    \n",
    "print(f'hc = {hc:.2f}m')"
   ]
  },
  {
   "cell_type": "markdown",
   "metadata": {},
   "source": [
    "## Φορτία\n",
    "\n",
    "Πάχος επιστρώσεων: $h_{επιστ} = 0.05 - 0.002 \\cdot λ$ (m)\n",
    "\n",
    "Ύψος τοιχοπληρώσεων: $h_{hτοιχ} = 3.00 + 0.05 \\cdot κ$ (m)\n",
    "\n",
    "Ειδικά βάρη:\n",
    "\n",
    "$γ_{σκυρ} = 25.0$ (kN/m3)\n",
    "\n",
    "$γ_{επιστ} = 23.0 - 0.2 \\cdot λ$ (kN/m3)\n",
    "\n",
    "$γ_{τοιχ} = 3.6$ (kN/m2)"
   ]
  },
  {
   "cell_type": "code",
   "execution_count": 9,
   "metadata": {},
   "outputs": [
    {
     "name": "stdout",
     "output_type": "stream",
     "text": [
      "hεπιστ = 0.042m\n",
      "hτοιχ = 3.150m\n",
      "γσκυρ = 25.00kN/m3\n",
      "γεπιστ = 22.20kN/m3\n",
      "γτοιχ = 3.60kN/m2\n"
     ]
    }
   ],
   "source": [
    "hεπιστ = 0.05 - 0.002 * λ\n",
    "hτοιχ = 3 + 0.05 * κ\n",
    "\n",
    "γσκυρ = 25.0 # kN/m3\n",
    "γεπιστ = 23.0 - 0.2 * λ\n",
    "γτοιχ = 3.6\n",
    "\n",
    "print(f'hεπιστ = {hεπιστ:.3f}m')\n",
    "print(f'hτοιχ = {hτοιχ:.3f}m')  \n",
    "print(f'γσκυρ = {γσκυρ:.2f}kN/m3')  \n",
    "print(f'γεπιστ = {γεπιστ:.2f}kN/m3')  \n",
    "print(f'γτοιχ = {γτοιχ:.2f}kN/m2')  "
   ]
  },
  {
   "cell_type": "markdown",
   "metadata": {},
   "source": [
    "### Φορτία πλακών\n",
    "\n",
    "#### Μόνιμα φορτία πλακών"
   ]
  },
  {
   "cell_type": "code",
   "execution_count": 10,
   "metadata": {
    "tags": []
   },
   "outputs": [
    {
     "name": "stdout",
     "output_type": "stream",
     "text": [
      "Gπλ_ιβ = 5.00kN/m2\n",
      "Gπλ_επιστ = 0.93kN/m2\n",
      "Gπλ_ολ = 5.93kN/m2\n"
     ]
    }
   ],
   "source": [
    "Gπλ_ιβ = γσκυρ * hf\n",
    "Gπλ_επιστ = γεπιστ * hεπιστ\n",
    "Gπλ_ολ = Gπλ_ιβ + Gπλ_επιστ\n",
    "\n",
    "print(f'Gπλ_ιβ = {Gπλ_ιβ:.2f}kN/m2')\n",
    "print(f'Gπλ_επιστ = {Gπλ_επιστ:.2f}kN/m2')\n",
    "print(f'Gπλ_ολ = {Gπλ_ολ:.2f}kN/m2')"
   ]
  },
  {
   "cell_type": "markdown",
   "metadata": {},
   "source": [
    "#### Ωφέλιμα φορτία πλακών"
   ]
  },
  {
   "cell_type": "code",
   "execution_count": 11,
   "metadata": {},
   "outputs": [],
   "source": [
    "Qπλ = 5.0 # kN/m2"
   ]
  },
  {
   "cell_type": "markdown",
   "metadata": {},
   "source": [
    "### Φορτία δοκών"
   ]
  },
  {
   "cell_type": "markdown",
   "metadata": {},
   "source": [
    "#### Μόνιμα φορτία"
   ]
  },
  {
   "cell_type": "code",
   "execution_count": 12,
   "metadata": {
    "tags": []
   },
   "outputs": [
    {
     "name": "stdout",
     "output_type": "stream",
     "text": [
      "GΔ_πλ = 28.48kN/m\n",
      "GΔ_τοιχ = 11.34kN/m\n",
      "GΔ_ιβ = 9.50kN/m\n",
      "GΔ_ολ = 49.32kN/m\n"
     ]
    }
   ],
   "source": [
    "GΔ_πλ = Gπλ_ολ * (α/2 + α/2)\n",
    "GΔ_τοιχ = γτοιχ * hτοιχ\n",
    "GΔ_ιβ = γσκυρ * bw * (h - hf)\n",
    "GΔ_ολ = GΔ_πλ + GΔ_τοιχ + GΔ_ιβ\n",
    "\n",
    "print(f'GΔ_πλ = {GΔ_πλ:.2f}kN/m')\n",
    "print(f'GΔ_τοιχ = {GΔ_τοιχ:.2f}kN/m')\n",
    "print(f'GΔ_ιβ = {GΔ_ιβ:.2f}kN/m')\n",
    "print(f'GΔ_ολ = {GΔ_ολ:.2f}kN/m')"
   ]
  },
  {
   "cell_type": "markdown",
   "metadata": {},
   "source": [
    "#### Ωφέλιμα φορτία"
   ]
  },
  {
   "cell_type": "code",
   "execution_count": 13,
   "metadata": {
    "tags": []
   },
   "outputs": [
    {
     "name": "stdout",
     "output_type": "stream",
     "text": [
      "QΔ = 24.00kN/m\n"
     ]
    }
   ],
   "source": [
    "QΔ = Qπλ * (α/2 + α/2)\n",
    "\n",
    "print(f'QΔ = {QΔ:.2f}kN/m')"
   ]
  },
  {
   "cell_type": "markdown",
   "metadata": {},
   "source": [
    "### Υπολογισμός μάζας"
   ]
  },
  {
   "cell_type": "code",
   "execution_count": 14,
   "metadata": {},
   "outputs": [],
   "source": [
    "g = 9.81\n",
    "M = (GΔ_ολ + 0.3 * QΔ) * L  / g"
   ]
  },
  {
   "cell_type": "markdown",
   "metadata": {},
   "source": [
    "## Προσομοίωση στο OpenSees - Υπολογισμός ιδιοπεριόδου"
   ]
  },
  {
   "cell_type": "code",
   "execution_count": 15,
   "metadata": {},
   "outputs": [
    {
     "name": "stdout",
     "output_type": "stream",
     "text": [
      "Period 1 = 0.2360s\n"
     ]
    }
   ],
   "source": [
    "ops.wipe()\n",
    "ops.model('basic', '-ndm', 2, '-ndf', 3)\n",
    "\n",
    "E = 30000000\n",
    "U = 0.2\n",
    "G = E / (2.0*(1.0+U))\n",
    "\n",
    "tbeam = TeeSectionGeometry(bw = bw, h = h, beff=beff, hf = hf)\n",
    "A_tbeam = tbeam.area\n",
    "Iz_tbeam = tbeam.moment_of_inertia_xx * 0.5\n",
    "Avy_tbeam = tbeam.shear_area_2 * 0.5\n",
    "\n",
    "rect_col = RectangularSectionGeometry(b=bc, h=hc)\n",
    "A_col = rect_col.area\n",
    "Iz_col = rect_col.moment_of_inertia_xx * 0.5\n",
    "Avy_col = rect_col.shear_area_2 * 0.5\n",
    "\n",
    "ops.node(1, 0., 0.)\n",
    "ops.node(2, 0., H)\n",
    "ops.node(3, L1, 0.)\n",
    "ops.node(4, L1, H)\n",
    "ops.node(5, 2 * L1, 0.)\n",
    "ops.node(6, 2 * L1, H)\n",
    "\n",
    "ops.fix(1, 1, 1, 1)\n",
    "ops.fix(3, 1, 1, 1)\n",
    "ops.fix(5, 1, 1, 1)\n",
    "\n",
    "ops.geomTransf('Linear', 1)\n",
    "\n",
    "ops.mass(int(2), M, 1.0e-10, 1.0e-10)\n",
    "\n",
    "for node in [4, 6]:\n",
    "    ops.equalDOF(2, node, 1)\n",
    "    \n",
    "ops.element('ElasticTimoshenkoBeam', 1, 1, 2, E, G, A_col, Iz_col, Avy_col, 1)  # , '-mass', 0., '-lMass')\n",
    "ops.element('ElasticTimoshenkoBeam', 2, 3, 4, E, G, A_col, Iz_col, Avy_col, 1)  # , '-mass', 0., '-lMass')\n",
    "ops.element('ElasticTimoshenkoBeam', 3, 5, 6, E, G, A_col, Iz_col, Avy_col, 1)  # , '-mass', 0., '-lMass')\n",
    "ops.element('ElasticTimoshenkoBeam', 4, 2, 4, E, G, A_tbeam, Iz_tbeam, Avy_tbeam, 1)  # , '-mass', 0., '-lMass')\n",
    "ops.element('ElasticTimoshenkoBeam', 5, 4, 6, E, G, A_tbeam, Iz_tbeam, Avy_tbeam, 1)  # , '-mass', 0., '-lMass')\n",
    "\n",
    "elem_type = {1: 'col', 2: 'col', 3: 'col', 4: 'beam', 5: 'beam'}\n",
    "\n",
    "numEigen = 1\n",
    "eigenValues = ops.eigen('-fullGenLapack', numEigen)\n",
    "\n",
    "_periods = []\n",
    "for i in range(0, numEigen):\n",
    "    lamb = eigenValues[i]\n",
    "    period = 2 * np.pi / np.sqrt(lamb)\n",
    "    _periods.append(period)\n",
    "    print(f'Period {i+1} = {period:.4f}s')"
   ]
  },
  {
   "cell_type": "code",
   "execution_count": null,
   "metadata": {},
   "outputs": [],
   "source": []
  },
  {
   "cell_type": "markdown",
   "metadata": {},
   "source": [
    "## Σεισμικά φορτία\n",
    "\n",
    "- Κατηγορία πλαστιμότητας: Μέση\n",
    "- Κατηγορία σπουδαιότητας: II (Συνήθη κτίρια)\n",
    "- Συντελεστής συμπεριφοράς: $q = 3.9$\n",
    "\n",
    "- Κατηγορία εδάφους:\n",
    "  - Για $λ\\le 3$: Βαθιές εναποθέσεις πυκνής άμμου\n",
    "  - Για $4\\leλ\\le7$ Πολύ σκληρή άργιλος πάχους αρκετών δεκάδων μέτρων\n",
    "  - Για $λ\\ge8$: Βράχος\n",
    "\n",
    "\n",
    "- Ζώνη σεισμικής επικινδυνότητας:\n",
    "  - Για $κ\\le 3$: Ζώνη I\n",
    "  - Για $4\\leκ\\le7$: Ζώνη II\n",
    "  - Για $κ\\ge8$: Ζώνη III"
   ]
  },
  {
   "cell_type": "code",
   "execution_count": 16,
   "metadata": {
    "tags": []
   },
   "outputs": [
    {
     "name": "stdout",
     "output_type": "stream",
     "text": [
      "TB = 0.20sec\n",
      "TC = 0.60sec\n",
      "TD = 2.00sec\n",
      "\n",
      "Sd_T = 1.74\n",
      "M = 110.61t\n",
      "V = 191.98kN\n",
      "Ex = 191.98kN\n"
     ]
    }
   ],
   "source": [
    "if λ <=3:\n",
    "    agR = 0.16\n",
    "elif λ>=8:\n",
    "    agR=0.36\n",
    "else:\n",
    "    agR=0.24\n",
    "    \n",
    "if κ <=3:\n",
    "    ground_type = 'C'\n",
    "elif κ>=8:\n",
    "    ground_type = 'A'\n",
    "else:\n",
    "    ground_type = 'B'\n",
    "\n",
    "\n",
    "q = 3.9\n",
    "\n",
    "γI=1.0\n",
    "λ_ec8 = 1.0\n",
    "\n",
    "T = 0.27 # sec\n",
    "\n",
    "specEC8 = SpectraEc8(αgR=agR,\n",
    "                     γI=γI,\n",
    "                     ground_type = ground_type,\n",
    "                     spectrum_type = \n",
    "                     1,\n",
    "                     η=1.0,\n",
    "                     q=q,\n",
    "                     β=0.2)\n",
    "\n",
    "print(f'TB = {specEC8.TB:.2f}sec')\n",
    "print(f'TC = {specEC8.TC:.2f}sec')\n",
    "print(f'TD = {specEC8.TD:.2f}sec')\n",
    "print()\n",
    "Sd_T = specEC8.Sd(T) * g\n",
    "V = M * Sd_T * λ_ec8\n",
    "Ex = V\n",
    "\n",
    "print(f'Sd_T = {Sd_T:.2f}')\n",
    "print(f'M = {M:.2f}t')\n",
    "print(f'V = {V:.2f}kN')\n",
    "print(f'Ex = {Ex:.2f}kN')\n",
    "\n"
   ]
  },
  {
   "cell_type": "code",
   "execution_count": null,
   "metadata": {},
   "outputs": [],
   "source": []
  }
 ],
 "metadata": {
  "_draft": {
   "nbviewer_url": "https://gist.github.com/fe8757836568e3546ba3d01477344557"
  },
  "gist": {
   "data": {
    "description": "/jupyters/TEI/BetonII/betonII_lab_01.ipynb",
    "public": true
   },
   "id": "fe8757836568e3546ba3d01477344557"
  },
  "kernelspec": {
   "display_name": "Python 3",
   "language": "python",
   "name": "python3"
  },
  "language_info": {
   "codemirror_mode": {
    "name": "ipython",
    "version": 3
   },
   "file_extension": ".py",
   "mimetype": "text/x-python",
   "name": "python",
   "nbconvert_exporter": "python",
   "pygments_lexer": "ipython3",
   "version": "3.8.8"
  },
  "toc": {
   "base_numbering": 1,
   "nav_menu": {},
   "number_sections": true,
   "sideBar": true,
   "skip_h1_title": false,
   "title_cell": "Table of Contents",
   "title_sidebar": "Contents",
   "toc_cell": false,
   "toc_position": {},
   "toc_section_display": true,
   "toc_window_display": false
  },
  "toc-autonumbering": true,
  "toc-showtags": false,
  "varInspector": {
   "cols": {
    "lenName": 16,
    "lenType": 16,
    "lenVar": 40
   },
   "kernels_config": {
    "python": {
     "delete_cmd_postfix": "",
     "delete_cmd_prefix": "del ",
     "library": "var_list.py",
     "varRefreshCmd": "print(var_dic_list())"
    },
    "r": {
     "delete_cmd_postfix": ") ",
     "delete_cmd_prefix": "rm(",
     "library": "var_list.r",
     "varRefreshCmd": "cat(var_dic_list()) "
    }
   },
   "types_to_exclude": [
    "module",
    "function",
    "builtin_function_or_method",
    "instance",
    "_Feature"
   ],
   "window_display": false
  }
 },
 "nbformat": 4,
 "nbformat_minor": 4
}
